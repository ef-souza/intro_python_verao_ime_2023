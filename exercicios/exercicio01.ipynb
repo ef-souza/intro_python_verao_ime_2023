{
 "cells": [
  {
   "cell_type": "markdown",
   "metadata": {
    "collapsed": true,
    "pycharm": {
     "name": "#%% md\n"
    }
   },
   "source": [
    "## Exercícios - Aula 01"
   ]
  },
  {
   "cell_type": "markdown",
   "metadata": {},
   "source": [
    "1) Escolha um número entre 1 e 10 e armazene ele numa variável chamada *segredo*. Escolha outro número entre 1 e 10 novamente e salve ele numa variável chamada *chute*. Depois, escreva testes condicionais usando *if*, *else* e *elif* para exibir a mensagem \"muito menor\" se *chute* é menor do que *segredo*, \"muito maior\" se *chute* é maior do que *segredo* e \"na mosca\" se *chute* for igual à *segredo*.\n"
   ]
  },
  {
   "cell_type": "code",
   "execution_count": 13,
   "metadata": {},
   "outputs": [
    {
     "name": "stdout",
     "output_type": "stream",
     "text": [
      "o chute é muito menor\n"
     ]
    }
   ],
   "source": [
    "# exercício 1\n",
    "segredo = input(\"Digite um valor inteiro de 1 a 10 (inclusive) para ser adivinhado: \")\n",
    "chute = input(\"Digite um valor inteiro de 1 a 10 (inclusive) para tentar adivinhar esse número: \")\n",
    "segredo = int(segredo)\n",
    "chute = int(chute)\n",
    "if chute < segredo:\n",
    "    print(\"o chute é muito menor\")\n",
    "elif chute > segredo:\n",
    "    print (\"o chute é muito maior\")\n",
    "else:\n",
    "    print(\"na mosca\")"
   ]
  },
  {
   "cell_type": "markdown",
   "metadata": {},
   "source": [
    "2) Escreva uma cadeia de instrucões *if*-*elif*-*else* que determine o estágio da vida de uma pessoa. Defina um valor para a variável *idade* e então:\n",
    "- Se a pessoa tiver menos de 2 anos de idade, mostre uma mensagem dizendo que ela ainda é um bebê.\n",
    "- Se a pessoa tiver pelo menos 2 anos, mas menos de 4, mostre uma mensagem dizendo que ela é uma crianca.\n",
    "- Se a pessoa tiver pelo menos 4 anos, mas menos de 13, mostre uma mensagem dizendo que ela é um(a) goroto(a).\n",
    "- Se a pessoa tiver pelo menos 13 anos, mas menos de 20, mostre uma mensagem dizendo que ela é um(a) adolescente.\n",
    "- Se a pessoa tiver pelo menos 20 anos, mas menos de 65, mostre uma mensagem dizendo que ela é um(a) adulto(a).\n",
    "- Se a pessoa tiver 65 anos ou mais, mostre uma mensagem dizendo que ela é uma pessoa idosa."
   ]
  },
  {
   "cell_type": "code",
   "execution_count": 23,
   "metadata": {},
   "outputs": [
    {
     "name": "stdout",
     "output_type": "stream",
     "text": [
      "Ela é uma adolescente.\n"
     ]
    }
   ],
   "source": [
    "# exercício 2\n",
    "idade = input(\"Digite a idade da pessoa em anos inteiros: \")\n",
    "idade = int(idade)\n",
    "if idade < 2:\n",
    "    print(\"Ela ainda é um bebê.\")\n",
    "elif idade < 4:\n",
    "    print(\"Ela é uma criança.\")\n",
    "elif idade < 13:\n",
    "    print(\"Ela é uma garota.\")    \n",
    "elif idade < 20:\n",
    "    print(\"Ela é uma adolescente.\")\n",
    "elif idade < 65:\n",
    "    print(\"Ela é adulta.\")\n",
    "else:\n",
    "    print(\"Ela é uma pessoa idosa.\")    \n"
   ]
  },
  {
   "attachments": {},
   "cell_type": "markdown",
   "metadata": {},
   "source": [
    "3) Crie uma lista com cinco ou mais nomes de usuários, incluindo o nome \"admin\". Suponha que você esteja escrevendo um código que exibirá uma saudacão a cada usuário depois que eles fizerem login em um site. Percorra a lista com um laco e mostre uma saudacão para cada usuário:\n",
    "- Se o nome do usuário for \"admin\", mostre uma saudacão especial, por exemplo, \"Olá admin, gostaria de ver o relatório de status?\"\n",
    "- Caso contrário, mostre a saudacão genérica, como \"Olá José, obrigado por fazer login novamente\"."
   ]
  },
  {
   "cell_type": "code",
   "execution_count": 36,
   "metadata": {},
   "outputs": [
    {
     "name": "stdout",
     "output_type": "stream",
     "text": [
      "Olá Leci , obrigado por fazer login novamente.\n",
      "Olá Tom , obrigado por fazer login novamente.\n",
      "Olá Martnália , obrigado por fazer login novamente.\n",
      "Olá Eddie , obrigado por fazer login novamente.\n",
      "Olá Frank , obrigado por fazer login novamente.\n",
      "Olá Marina , obrigado por fazer login novamente.\n",
      "Olá admin, gostaria de ver o relatório de status ?\n"
     ]
    }
   ],
   "source": [
    "# exercício 3 - resolução 1\n",
    "usuarios = [\"Leci\", \"Tom\", \"Martnália\", \"Eddie\", \"Frank\", \"Marina\", \"admin\"]\n",
    "for usuario in usuarios:\n",
    "    if usuario == 'admin':\n",
    "        print(\"Olá admin, gostaria de ver o relatório de status ?\")\n",
    "    else:\n",
    "        print(\"Olá\",usuario,\", obrigado por fazer login novamente.\")\n"
   ]
  },
  {
   "cell_type": "code",
   "execution_count": 39,
   "metadata": {},
   "outputs": [
    {
     "name": "stdout",
     "output_type": "stream",
     "text": [
      "Olá Leci , obrigado por fazer login novamente.\n",
      "Olá Tom , obrigado por fazer login novamente.\n",
      "Olá Martnália , obrigado por fazer login novamente.\n",
      "Olá Eddie , obrigado por fazer login novamente.\n",
      "Olá Frank , obrigado por fazer login novamente.\n",
      "Olá Marina , obrigado por fazer login novamente.\n",
      "Olá admin, gostaria de ver o relatório de status ?\n"
     ]
    }
   ],
   "source": [
    "# exercício 3 - resolução 2 (fiz para praticar)\n",
    "usuarios = [\"Leci\", \"Tom\", \"Martnália\", \"Eddie\", \"Frank\", \"Marina\", \"admin\"]\n",
    "n_usuarios = len(usuarios)\n",
    "n = 0\n",
    "while n < n_usuarios:\n",
    "    if usuarios[n] == 'admin':\n",
    "        print(\"Olá admin, gostaria de ver o relatório de status ?\")\n",
    "    else:\n",
    "        print(\"Olá\",usuarios[n],\", obrigado por fazer login novamente.\")\n",
    "    n += 1"
   ]
  },
  {
   "attachments": {},
   "cell_type": "markdown",
   "metadata": {},
   "source": [
    "4) A partir do exercício anterior, modifique o código criado para acrescentar um teste if que verifica se a lista de usuarios está vazia.\n",
    "- Se a lista de usuários estiver vazia, mostre a mensagem \"Precisamos encontrar alguns usuários!\". Remova todos os nomes de usuários da lista e certifique-se de que essa mensagem aparecerá."
   ]
  },
  {
   "cell_type": "code",
   "execution_count": 26,
   "metadata": {},
   "outputs": [
    {
     "name": "stdout",
     "output_type": "stream",
     "text": [
      "Olá Leci , obrigado por fazer login novamente.\n",
      "Olá Tom , obrigado por fazer login novamente.\n",
      "Olá Martnália , obrigado por fazer login novamente.\n",
      "Olá Eddie , obrigado por fazer login novamente.\n",
      "Olá Frank , obrigado por fazer login novamente.\n",
      "Olá Marina , obrigado por fazer login novamente.\n",
      "Olá admin, gostaria de ver o relatório de status ?\n"
     ]
    }
   ],
   "source": [
    "# exercício 4 - basta retirar o jogo da velha no começo da terceira linha para a condição de conjunto vazio ser verdadeira\n",
    "usuarios = [\"Leci\", \"Tom\", \"Martnália\", \"Eddie\", \"Frank\", \"Marina\", \"admin\"]\n",
    "# usuarios.clear()\n",
    "if usuarios == []:\n",
    "    print(\"Precisamos encontrar alguns usuários!\")\n",
    "else:\n",
    "    for usuario in usuarios:\n",
    "        if usuario == 'admin':\n",
    "            print(\"Olá admin, gostaria de ver o relatório de status ?\")\n",
    "        else:\n",
    "            print(\"Olá\",usuario,\", obrigado por fazer login novamente.\")\n"
   ]
  },
  {
   "cell_type": "markdown",
   "metadata": {
    "collapsed": false,
    "pycharm": {
     "name": "#%% md\n"
    }
   },
   "source": [
    "1) Escolha um número entre 1 e 10 e armazene ele numa variável chamada *segredo*. Escolha outro número entre 1 e 10 novamente e salve ele numa variável chamada *chute*. Depois, escreva testes condicionais usando *if*, *else* e *elif* para exibir a mensagem \"muito menor\" se *chute* é menor do que *segredo*, \"muito maior\" se *chute* é maior do que *segredo* e \"na mosca\" se *chute* for igual à *segredo*.\n",
    "\n",
    "2) Escreva uma cadeia de instrucões *if*-*elif*-*else* que determine o estágio da vida de uma pessoa. Defina um valor para a variável *idade* e então:\n",
    "- Se a pessoa tiver menos de 2 anos de idade, mostre uma mensagem dizendo que ela ainda é um bebê.\n",
    "- Se a pessoa tiver pelo menos 2 anos, mas menos de 4, mostre uma mensagem dizendo que ela é uma crianca.\n",
    "- Se a pessoa tiver pelo menos 4 anos, mas menos de 13, mostre uma mensagem dizendo que ela é um(a) goroto(a).\n",
    "- Se a pessoa tiver pelo menos 13 anos, mas menos de 20, mostre uma mensagem dizendo que ela é um(a) adolescente.\n",
    "- Se a pessoa tiver pelo menos 20 anos, mas menos de 65, mostre uma mensagem dizendo que ela é um(a) adulto(a).\n",
    "- Se a pessoa tiver 65 anos ou mais, mostre uma mensagem dizendo que ela é uma pessoa idosa.\n",
    "\n",
    "3) Crie uma lista com cinco ou mais nomes de usuários, incluindo o nome \"admin\". Suponha que você esteja escrevendo um código que exibirá uma saudacão a cada usuário depois que eles fizerem login em um site. Percorra a lista com um laco e mostre uma saudacão para cada usuário:\n",
    "- Se o nome do usuário for \"admin\", mostre uma saudacão especial, por exemplo, \"Olá admin, gostaria de ver o relatório de status?\"\n",
    "- Caso contrário, mostre a saudacão genérica, como \"Olá José, obrigado por fazer login novamente\".\n",
    "\n",
    "4) A partir do exercício anterior, modifique o código criado para acrescentar um teste if que verifica se a lista de usuarios está vazia.\n",
    "- Se a lista de usuários estiver vazia, mostre a mensagem \"Precisamos encontrar alguns usuários!\". Remova todos os nomes de usuários da lista e certifique-se de que essa mensagem aparecerá.\n",
    "\n",
    "5) Crie um programa que simule o modo como os sites garantem que todos tenham um nome de usuário único.\n",
    "- Crie uma lista chamada *current_users* com cinco ou mais nomes de usuários\n",
    "- Crie uma list chamada *new_users* com cinco nomes de usuários. Garanta que dois dos novos usuários também estejam na lista *current_users*\n",
    "- Percorra a lista *new_users* com um laco para ver se cada novo nome de usuário já foi usado. Em caso afirmativo, mostre uma mensagem afirmando que a pessoa deverá fornecer um novo nome. Se um usuário não foi usado, apresente uma mensagem dizendo que o nome do usuário está disponível.\n",
    "- Certifique-se de que sua comparacão não levará em conta as diferencas entre letras maiúsculas e minúsculas. Se \"Pedro\" foi usado, \"PEDRO\" não deverá ser aceito.\n",
    "\n",
    "6) Números ordinais indicam sua posicão em uma lista, por exemplo, 1st, 2nd, em inglês. A maioria dos números ordinais nessa língua termina com th, exceto, 1, 2 e 3.\n",
    "- Armazene os números de 1 a 9 em uma lista.\n",
    "- Pecorra essa lista com um laco.\n",
    "- Use uma cadeia de instrucões *if*-*elif*-*else* que exiba a terminacão apropriada para cada número ordinal. Sua saída deverá conter \"1st 2nd 3rd 4th 5th 6th 7th 8th 9th\" e cada resultado deve estar em uma linha separada\n"
   ]
  }
 ],
 "metadata": {
  "kernelspec": {
   "display_name": "Python 3",
   "language": "python",
   "name": "python3"
  },
  "language_info": {
   "codemirror_mode": {
    "name": "ipython",
    "version": 3
   },
   "file_extension": ".py",
   "mimetype": "text/x-python",
   "name": "python",
   "nbconvert_exporter": "python",
   "pygments_lexer": "ipython3",
   "version": "3.10.4"
  },
  "vscode": {
   "interpreter": {
    "hash": "3ad933181bd8a04b432d3370b9dc3b0662ad032c4dfaa4e4f1596c548f763858"
   }
  }
 },
 "nbformat": 4,
 "nbformat_minor": 0
}
