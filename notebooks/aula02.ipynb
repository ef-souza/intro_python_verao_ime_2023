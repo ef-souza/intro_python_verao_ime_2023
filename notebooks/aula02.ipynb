{
 "cells": [
  {
   "cell_type": "markdown",
   "metadata": {
    "collapsed": true,
    "pycharm": {
     "name": "#%% md\n"
    }
   },
   "source": [
    "# Introdução ao Python para análise exploratória de dados - aula02"
   ]
  },
  {
   "cell_type": "markdown",
   "metadata": {
    "pycharm": {
     "name": "#%% md\n"
    }
   },
   "source": [
    "![](../img/intro_python.png)"
   ]
  },
  {
   "cell_type": "markdown",
   "metadata": {
    "pycharm": {
     "name": "#%% md\n"
    }
   },
   "source": [
    "Na aula de hoje vamos falar sobre definição de funções, criação e importação de módulos e o conceito e criação de pacotes no Python. Também vamos comecar a falar sobre o pacote Pandas"
   ]
  },
  {
   "cell_type": "markdown",
   "metadata": {
    "pycharm": {
     "name": "#%% md\n"
    }
   },
   "source": [
    "## Funcões\n",
    "São blocos de códigos nomeados e que são criados para executar uma tarefa específica. O grande propósito das funções é evitar repetir trechos de códigos que fazem a mesma coisa ao longo de todo o nosso código."
   ]
  },
  {
   "cell_type": "code",
   "execution_count": 1,
   "metadata": {
    "pycharm": {
     "name": "#%%\n"
    }
   },
   "outputs": [],
   "source": [
    "def nao_faz_nada():\n",
    "   pass"
   ]
  },
  {
   "cell_type": "code",
   "execution_count": null,
   "metadata": {
    "pycharm": {
     "name": "#%%\n"
    }
   },
   "outputs": [],
   "source": [
    "nao_faz_nada()"
   ]
  },
  {
   "cell_type": "code",
   "execution_count": 2,
   "metadata": {
    "pycharm": {
     "name": "#%%\n"
    }
   },
   "outputs": [],
   "source": [
    "def faz_barulho():\n",
    "   print(\"quack\")"
   ]
  },
  {
   "cell_type": "code",
   "execution_count": 5,
   "metadata": {
    "pycharm": {
     "name": "#%%\n"
    }
   },
   "outputs": [
    {
     "name": "stdout",
     "output_type": "stream",
     "text": [
      "quack\n"
     ]
    }
   ],
   "source": [
    "faz_barulho()"
   ]
  },
  {
   "cell_type": "markdown",
   "metadata": {
    "pycharm": {
     "name": "#%% md\n"
    }
   },
   "source": [
    "É sempre bom criarmos docstrings para documentar o que a funcão faz"
   ]
  },
  {
   "cell_type": "code",
   "execution_count": 8,
   "metadata": {
    "pycharm": {
     "name": "#%%\n"
    }
   },
   "outputs": [
    {
     "name": "stdout",
     "output_type": "stream",
     "text": [
      "Olá!\n"
     ]
    }
   ],
   "source": [
    "def cumprimentar():  # a vantagem de usar aspas triplas é não usar # em cada linha no caso de muitas delas. Pode pular linha com aspas triplas.\n",
    "   \"\"\" Exibe uma saudação ao usuário \"\"\"\n",
    "   print('Olá!')\n",
    "\n",
    "cumprimentar()"
   ]
  },
  {
   "cell_type": "code",
   "execution_count": 6,
   "metadata": {
    "pycharm": {
     "name": "#%%\n"
    }
   },
   "outputs": [
    {
     "name": "stdout",
     "output_type": "stream",
     "text": [
      "Hello, Bruna!\n"
     ]
    }
   ],
   "source": [
    "def cumprimenta_usuario(nome):\n",
    "   \"\"\" Exibe uma saudação com o nome do usuário \n",
    "       dentro da janela de execução \"\"\"\n",
    "   print('Hello, ' + nome.title() + '!')\n",
    "\n",
    "cumprimenta_usuario('bruna')"
   ]
  },
  {
   "cell_type": "markdown",
   "metadata": {
    "pycharm": {
     "name": "#%% md\n"
    }
   },
   "source": [
    "Quando criamos docstrings, podemos acessar elas através do comando help"
   ]
  },
  {
   "cell_type": "code",
   "execution_count": 7,
   "metadata": {
    "pycharm": {
     "name": "#%%\n"
    }
   },
   "outputs": [
    {
     "name": "stdout",
     "output_type": "stream",
     "text": [
      "Help on function cumprimenta_usuario in module __main__:\n",
      "\n",
      "cumprimenta_usuario(nome)\n",
      "    Exibe uma saudação com o nome do usuário \n",
      "    dentro da janela de execução\n",
      "\n"
     ]
    }
   ],
   "source": [
    "help(cumprimenta_usuario) # funcoes são objetos no python também"
   ]
  },
  {
   "cell_type": "code",
   "execution_count": 38,
   "metadata": {
    "pycharm": {
     "name": "#%%\n"
    }
   },
   "outputs": [
    {
     "name": "stdout",
     "output_type": "stream",
     "text": [
      "Help on built-in function sum in module builtins:\n",
      "\n",
      "sum(iterable, /, start=0)\n",
      "    Return the sum of a 'start' value (default: 0) plus an iterable of numbers\n",
      "    \n",
      "    When the iterable is empty, return the start value.\n",
      "    This function is intended specifically for use with numeric values and may\n",
      "    reject non-numeric types.\n",
      "\n"
     ]
    }
   ],
   "source": [
    "help(sum) # docstring do comando sum que é nativo do Python"
   ]
  },
  {
   "cell_type": "code",
   "execution_count": 2,
   "metadata": {},
   "outputs": [
    {
     "name": "stdout",
     "output_type": "stream",
     "text": [
      "a soma é  60\n"
     ]
    }
   ],
   "source": [
    "#praticando função sum e range dentro de chamada de função\n",
    "vetor = list(range(1,5))\n",
    "vetor\n",
    "sum(list(range(1,6)),0)\n",
    "a = int(input(\"inicio:\"))\n",
    "b = int(input(\"fim:\"))\n",
    "def soma_lista(x,y):\n",
    "    soma = sum(list(range(x,y)))\n",
    "    print(\"a soma é \",soma)\n",
    "soma_lista(a,b)\n",
    "\n"
   ]
  },
  {
   "cell_type": "code",
   "execution_count": 3,
   "metadata": {
    "pycharm": {
     "name": "#%%\n"
    }
   },
   "outputs": [
    {
     "name": "stdout",
     "output_type": "stream",
     "text": [
      "Seu IMC é 22.89\n",
      "Seu IMC é  22.892819979188342\n"
     ]
    }
   ],
   "source": [
    "def imc():\n",
    "   peso = float(input('Entre com seu peso em kg:'))\n",
    "   altura = float(input('Entre com sua altura em metros:'))\n",
    "   indice = peso / (altura ** 2)\n",
    "   print('Seu IMC é {:.2f}'.format(indice))\n",
    "   print(\"Seu IMC é \", indice)\n",
    "\n",
    "imc() # chamando a funcao\n"
   ]
  },
  {
   "cell_type": "code",
   "execution_count": 4,
   "metadata": {
    "pycharm": {
     "name": "#%%\n"
    }
   },
   "outputs": [
    {
     "name": "stdout",
     "output_type": "stream",
     "text": [
      "Seu IMC é 21.48\n",
      "Seu IMC é  21.484374999999996\n",
      "None\n"
     ]
    }
   ],
   "source": [
    "resultado = imc()\n",
    "print(resultado) # como não usamos um return a funcao retorna o valor None\n"
   ]
  },
  {
   "cell_type": "code",
   "execution_count": 29,
   "metadata": {
    "pycharm": {
     "name": "#%%\n"
    }
   },
   "outputs": [],
   "source": [
    "def imc():\n",
    "   peso = float(input('Entre com seu peso em kg:'))\n",
    "   altura = float(input('Entre com sua altura em metros:'))\n",
    "   indice = peso / (altura ** 2)\n",
    "   print('Seu IMC é {:.3f}'.format(indice)) # uma maneira bonita de restringir casas decimais no output\n",
    "   return indice\n",
    "   \n",
    "\n",
    "# resultado = imc()\n",
    "# print(resultado)\n",
    "# print(indice)\n",
    "imc()\n"
   ]
  },
  {
   "cell_type": "code",
   "execution_count": 12,
   "metadata": {
    "pycharm": {
     "name": "#%%\n"
    }
   },
   "outputs": [
    {
     "name": "stdout",
     "output_type": "stream",
     "text": [
      "None\n"
     ]
    }
   ],
   "source": [
    "#print(indice)\n",
    "print(resultado)\n",
    "\n",
    "# print(resultado) # sem as casas decimais restritas"
   ]
  },
  {
   "cell_type": "code",
   "execution_count": 18,
   "metadata": {
    "pycharm": {
     "name": "#%%\n"
    }
   },
   "outputs": [
    {
     "name": "stdout",
     "output_type": "stream",
     "text": [
      "Você está com o peso normal\n"
     ]
    }
   ],
   "source": [
    "def mostra_mensagem_imc(valor_imc):\n",
    "    if valor_imc < 20:\n",
    "       print('Você está abaixo do peso')\n",
    "    elif valor_imc < 24.9:\n",
    "       print('Você está com o peso normal')\n",
    "    elif valor_imc < 29.9:\n",
    "       print('Você está com sobrepeso')\n",
    "    else:\n",
    "       print('Você está com obesidade')\n",
    "\n",
    "mostra_mensagem_imc(resultado)"
   ]
  },
  {
   "cell_type": "markdown",
   "metadata": {
    "pycharm": {
     "name": "#%% md\n"
    }
   },
   "source": [
    "Cada funcão pode ter *argumentos posicionais* e *argumentos chave*. Argumentos chave são muito usados para especificar valores padrão."
   ]
  },
  {
   "cell_type": "code",
   "execution_count": 18,
   "metadata": {
    "pycharm": {
     "name": "#%%\n"
    }
   },
   "outputs": [],
   "source": [
    "def minha_funcao(x, y, z=1.5):\n",
    "   # se o usuario nao escolher um valor para z, o valor 1.5 será usado\n",
    "   if z > 1:\n",
    "      return z * (x + y)\n",
    "   else:\n",
    "      return z / (x + y)"
   ]
  },
  {
   "cell_type": "code",
   "execution_count": 33,
   "metadata": {
    "pycharm": {
     "name": "#%%\n"
    }
   },
   "outputs": [
    {
     "name": "stdout",
     "output_type": "stream",
     "text": [
      "1  e  1  e  0.5\n"
     ]
    }
   ],
   "source": [
    "x = int(input(\"x: \"))\n",
    "y = int(input(\"y:\"))\n",
    "w = minha_funcao(x, y, z = 1)  # maneira dinâmica para chamar funções com valores definidos pelo usuário previamente\n",
    "print(x,\" e \", y, \" e \", w)"
   ]
  },
  {
   "cell_type": "code",
   "execution_count": 22,
   "metadata": {
    "pycharm": {
     "name": "#%%\n"
    }
   },
   "outputs": [
    {
     "data": {
      "text/plain": [
       "0.06363636363636363"
      ]
     },
     "execution_count": 22,
     "metadata": {},
     "output_type": "execute_result"
    }
   ],
   "source": [
    "minha_funcao(5, 6, 0.7)"
   ]
  },
  {
   "cell_type": "code",
   "execution_count": 36,
   "metadata": {
    "pycharm": {
     "name": "#%%\n"
    }
   },
   "outputs": [
    {
     "name": "stdout",
     "output_type": "stream",
     "text": [
      "<class 'function'>\n"
     ]
    }
   ],
   "source": [
    "minha_funcao(10, 20)\n"
   ]
  },
  {
   "cell_type": "markdown",
   "metadata": {
    "pycharm": {
     "name": "#%% md\n"
    }
   },
   "source": [
    "Enquanto argumentos chave são opcionais para o usuario, os argumentos posicionais são obrigatórios"
   ]
  },
  {
   "cell_type": "code",
   "execution_count": 10,
   "metadata": {
    "pycharm": {
     "name": "#%%\n"
    }
   },
   "outputs": [
    {
     "ename": "TypeError",
     "evalue": "minha_funcao() missing 1 required positional argument: 'x'",
     "output_type": "error",
     "traceback": [
      "\u001b[0;31m---------------------------------------------------------------------------\u001b[0m",
      "\u001b[0;31mTypeError\u001b[0m                                 Traceback (most recent call last)",
      "Cell \u001b[0;32mIn[10], line 1\u001b[0m\n\u001b[0;32m----> 1\u001b[0m minha_funcao(y \u001b[39m=\u001b[39;49m \u001b[39m1\u001b[39;49m, z \u001b[39m=\u001b[39;49m \u001b[39m2\u001b[39;49m) \u001b[39m# tentando rodar sem incluir o 'x'. Note que dará erro !\u001b[39;00m\n",
      "\u001b[0;31mTypeError\u001b[0m: minha_funcao() missing 1 required positional argument: 'x'"
     ]
    }
   ],
   "source": [
    "minha_funcao(y = 1, z = 2) # tentando rodar sem incluir o 'x'. Note que dará erro !"
   ]
  },
  {
   "cell_type": "markdown",
   "metadata": {
    "pycharm": {
     "name": "#%% md\n"
    }
   },
   "source": [
    "Podemos retornar multiplos valores de uma funcão"
   ]
  },
  {
   "cell_type": "code",
   "execution_count": 37,
   "metadata": {
    "pycharm": {
     "name": "#%%\n"
    }
   },
   "outputs": [],
   "source": [
    "def imc():\n",
    "   peso = float(input('Entre com seu peso em kg:'))\n",
    "   altura = float(input('Entre com sua altura em metros:'))\n",
    "   indice = peso / (altura ** 2)\n",
    "   print('Seu IMC é {:.2f}'.format(indice))\n",
    "   return peso, altura, indice"
   ]
  },
  {
   "cell_type": "code",
   "execution_count": 48,
   "metadata": {
    "pycharm": {
     "name": "#%%\n"
    }
   },
   "outputs": [
    {
     "name": "stdout",
     "output_type": "stream",
     "text": [
      "Seu IMC é 30.00\n",
      "120.0 2.0 30.0\n",
      "<class 'float'> <class 'float'> <class 'float'>\n",
      "Seu IMC é 37.50\n",
      "<class 'list'>\n"
     ]
    }
   ],
   "source": [
    "p, a, i = imc() # cada valor retornado (return) é atribuído a uma variável dentro da função\n",
    "print(p,a,i)\n",
    "print(type(p),type(a),type(i))\n",
    "j = list(imc())  # os valores retornados (return) vão todos no objeto que assume tupla se j= imc() for escrito, ou uma lista como no caso\n",
    "print(type(j))\n"
   ]
  },
  {
   "cell_type": "code",
   "execution_count": 3,
   "metadata": {
    "pycharm": {
     "name": "#%%\n"
    }
   },
   "outputs": [
    {
     "name": "stdout",
     "output_type": "stream",
     "text": [
      "22.892819979188342\n"
     ]
    }
   ],
   "source": [
    "print(i)"
   ]
  },
  {
   "cell_type": "code",
   "execution_count": 4,
   "metadata": {
    "pycharm": {
     "name": "#%%\n"
    }
   },
   "outputs": [
    {
     "name": "stdout",
     "output_type": "stream",
     "text": [
      "Seu IMC é 22.89\n"
     ]
    }
   ],
   "source": [
    "resultado = imc()"
   ]
  },
  {
   "cell_type": "code",
   "execution_count": 50,
   "metadata": {
    "pycharm": {
     "name": "#%%\n"
    }
   },
   "outputs": [
    {
     "name": "stdout",
     "output_type": "stream",
     "text": [
      "(65.0, 1.59, 25.71100826707804)\n"
     ]
    }
   ],
   "source": [
    "print(resultado)"
   ]
  },
  {
   "cell_type": "markdown",
   "metadata": {
    "pycharm": {
     "name": "#%% md\n"
    }
   },
   "source": [
    "Como as funções do Python são objetos, muitas construções que são difíceis de fazer em outras linguagens podem ser facilmente feitas no Python. Suponha que estivéssemos fazendo alguma limpeza de dados e precisássemos aplicar várias transformações à seguinte lista de strings:"
   ]
  },
  {
   "cell_type": "code",
   "execution_count": 3,
   "metadata": {
    "pycharm": {
     "name": "#%%\n"
    }
   },
   "outputs": [
    {
     "data": {
      "text/plain": [
       "['são paulo',\n",
       " 'FORTALEZA',\n",
       " 'Rio de Janeiro   ',\n",
       " 'sALvador',\n",
       " 'manaus##',\n",
       " 'Natal?']"
      ]
     },
     "execution_count": 3,
     "metadata": {},
     "output_type": "execute_result"
    }
   ],
   "source": [
    "cidades = [\"são paulo\", \"FORTALEZA\", \"Rio de Janeiro   \", \"sALvador\", \"manaus##\", \"Natal?\"]\n",
    "cidades"
   ]
  },
  {
   "cell_type": "markdown",
   "metadata": {
    "pycharm": {
     "name": "#%% md\n"
    }
   },
   "source": [
    "Todo mundo que já trabalhou com enquetes que coletam dados do usuário sabe que podemos ter esse tipo de situacão. Nesse exemplo, temos de fazer várias operacões para uniformizar e padronizar os nossos dados: remover espacos em branco, remover pontuacões, padronizar letras maiúsculas e minúsculas."
   ]
  },
  {
   "cell_type": "code",
   "execution_count": 8,
   "metadata": {
    "pycharm": {
     "name": "#%%\n"
    }
   },
   "outputs": [],
   "source": [
    "import re\n",
    "\n",
    "def clean_strings(strings):\n",
    "    result = []\n",
    "    for value in strings:\n",
    "        print(value) # inclui essa linha p ver a string original\n",
    "        value = value.strip() # remove espacos em branco extras\n",
    "        value = re.sub(\"[!#?]\", \"\", value) # remove pontuacoes\n",
    "        value = value.title() # uniformiza as letras maiusculas e minúsculas deixando só 1 letra maiuscula\n",
    "        result.append(value) # pendura o novo resultado em uma lista nova que guarda os nomes limpos\n",
    "        print(value) # inclui essa linha para ver a string transformada\n",
    "    return result"
   ]
  },
  {
   "cell_type": "code",
   "execution_count": 9,
   "metadata": {
    "pycharm": {
     "name": "#%%\n"
    }
   },
   "outputs": [
    {
     "name": "stdout",
     "output_type": "stream",
     "text": [
      "são paulo\n",
      "São Paulo\n",
      "FORTALEZA\n",
      "Fortaleza\n",
      "Rio de Janeiro   \n",
      "Rio De Janeiro\n",
      "sALvador\n",
      "Salvador\n",
      "manaus##\n",
      "Manaus\n",
      "Natal?\n",
      "Natal\n",
      "['São Paulo', 'Fortaleza', 'Rio De Janeiro', 'Salvador', 'Manaus', 'Natal']\n"
     ]
    }
   ],
   "source": [
    "teste = clean_strings(cidades)\n",
    "print(teste)"
   ]
  },
  {
   "cell_type": "code",
   "execution_count": 10,
   "metadata": {
    "pycharm": {
     "name": "#%%\n"
    }
   },
   "outputs": [],
   "source": [
    "import re\n",
    "\n",
    "def clean_strings(value): # note que aqui a função passa a ser algo não aplicável a lista mas a valores individuais\n",
    "  value = value.strip()\n",
    "  value = re.sub(\"[!#?]\", \"\", value)\n",
    "  value = value.title()\n",
    "  return value"
   ]
  },
  {
   "cell_type": "code",
   "execution_count": 11,
   "metadata": {},
   "outputs": [
    {
     "ename": "AttributeError",
     "evalue": "'list' object has no attribute 'strip'",
     "output_type": "error",
     "traceback": [
      "\u001b[0;31m---------------------------------------------------------------------------\u001b[0m",
      "\u001b[0;31mAttributeError\u001b[0m                            Traceback (most recent call last)",
      "Cell \u001b[0;32mIn[11], line 1\u001b[0m\n\u001b[0;32m----> 1\u001b[0m teste \u001b[39m=\u001b[39m clean_strings(cidades) \u001b[39m# vai dar erro...\u001b[39;00m\n\u001b[1;32m      2\u001b[0m \u001b[39mprint\u001b[39m(teste)\n",
      "Cell \u001b[0;32mIn[10], line 4\u001b[0m, in \u001b[0;36mclean_strings\u001b[0;34m(value)\u001b[0m\n\u001b[1;32m      3\u001b[0m \u001b[39mdef\u001b[39;00m \u001b[39mclean_strings\u001b[39m(value): \u001b[39m# note que aqui a função passa a ser algo não aplicável a lista mas a valores individuais\u001b[39;00m\n\u001b[0;32m----> 4\u001b[0m   value \u001b[39m=\u001b[39m value\u001b[39m.\u001b[39;49mstrip()\n\u001b[1;32m      5\u001b[0m   value \u001b[39m=\u001b[39m re\u001b[39m.\u001b[39msub(\u001b[39m\"\u001b[39m\u001b[39m[!#?]\u001b[39m\u001b[39m\"\u001b[39m, \u001b[39m\"\u001b[39m\u001b[39m\"\u001b[39m, value)\n\u001b[1;32m      6\u001b[0m   value \u001b[39m=\u001b[39m value\u001b[39m.\u001b[39mtitle()\n",
      "\u001b[0;31mAttributeError\u001b[0m: 'list' object has no attribute 'strip'"
     ]
    }
   ],
   "source": [
    "teste = clean_strings(cidades) # vai dar erro...\n",
    "print(teste)"
   ]
  },
  {
   "cell_type": "markdown",
   "metadata": {
    "pycharm": {
     "name": "#%% md\n"
    }
   },
   "source": [
    "Podemos usar funções como argumentos para outras funções, como a função *map*, que aplica uma função a uma sequência de algum tipo, como uma lista:"
   ]
  },
  {
   "cell_type": "code",
   "execution_count": 12,
   "metadata": {
    "pycharm": {
     "name": "#%%\n"
    }
   },
   "outputs": [
    {
     "name": "stdout",
     "output_type": "stream",
     "text": [
      "São Paulo\n",
      "Fortaleza\n",
      "Rio De Janeiro\n",
      "Salvador\n",
      "Manaus\n",
      "Natal\n"
     ]
    },
    {
     "data": {
      "text/plain": [
       "['são paulo',\n",
       " 'FORTALEZA',\n",
       " 'Rio de Janeiro   ',\n",
       " 'sALvador',\n",
       " 'manaus##',\n",
       " 'Natal?']"
      ]
     },
     "execution_count": 12,
     "metadata": {},
     "output_type": "execute_result"
    }
   ],
   "source": [
    "result = []\n",
    "for x in map(clean_strings, cidades):\n",
    "    print(x)\n",
    "    result.append(x)\n",
    "\n",
    "result # lista transformada\n",
    "cidades # lista original"
   ]
  },
  {
   "cell_type": "markdown",
   "metadata": {
    "pycharm": {
     "name": "#%% md\n"
    }
   },
   "source": [
    "## Módulos"
   ]
  },
  {
   "cell_type": "markdown",
   "metadata": {
    "pycharm": {
     "name": "#%% md\n"
    }
   },
   "source": [
    "Uma vantagem das funcões é a maneira como elas separam blocos de código do nosso programa principal. Ao usar nomes descritivos para as suas funcões, será bem mais fácil entender seu programa principal.\n",
    "\n",
    "Podemos dar um passo além e armazenar suas funcões em um arquivo separado chamado *módulo* e, então, *importar* esse módulo em seu programa principal.\n",
    "\n",
    "Uma instrucão *import* diz ao Python para deixar o código de um módulo disponível no arquivo de programa em execucão no momento.\n",
    "\n",
    "Armazenar suas funcões em um arquivo separado permite ocultar os detalhes do código de seu programa e se concentrar na lógica de nível mais alto. Também permite reutilizar funcões em muitos programas diferentes.\n",
    "\n",
    "Quando armazenamos funcoes em arquivos separados, podemos compartilhar esses arquivos com outros programadores sem a necessidade de compartilhar o programa todo.\n",
    "\n",
    "Saber como importar funcões também possibilita usar bibliotecas de funcões que outros programadores escreveram."
   ]
  },
  {
   "cell_type": "markdown",
   "metadata": {
    "pycharm": {
     "name": "#%% md\n"
    }
   },
   "source": [
    "### Importando um módulo\n",
    "\n",
    "Um módulo é um arquivo terminado em .py que contém o código que queremos importar para o nosso programa. Para fazermos isso, precisamos importar o módulo. Isso faz com o código e as variáveis do módulo importado fiquem disponíveis no novo programa que estamos criando.\n",
    "\n",
    "Para comecar a importar funcões, inicialmente precisamos criar um módulo. Vamos olhar o módulo pizza.py que criamos!"
   ]
  },
  {
   "cell_type": "code",
   "execution_count": 11,
   "metadata": {
    "pycharm": {
     "name": "#%%\n"
    }
   },
   "outputs": [
    {
     "name": "stdout",
     "output_type": "stream",
     "text": [
      "Vamos preparar uma pizza de tamanho grande com os seguintes ingredientes:\n",
      " -  mussarela\n",
      " -  presunto\n",
      " -  ovos\n",
      " -  cebola\n",
      "A pizza vai ser assada!\n"
     ]
    }
   ],
   "source": [
    "import pizza\n",
    "# import pizza * também importa todas as funcoes\n",
    "\n",
    "pizza.faz_pizza(\"grande\", [\"mussarela\", \"presunto\", \"ovos\", \"cebola\"])\n",
    "\n",
    "pizza.assa_pizza(True)"
   ]
  },
  {
   "cell_type": "markdown",
   "metadata": {
    "collapsed": false,
    "pycharm": {
     "name": "#%% md\n"
    }
   },
   "source": [
    "Podemos usar um alias (nome mais curto) para o nosso módulo"
   ]
  },
  {
   "cell_type": "code",
   "execution_count": 6,
   "metadata": {
    "collapsed": false,
    "pycharm": {
     "name": "#%%\n"
    }
   },
   "outputs": [
    {
     "name": "stdout",
     "output_type": "stream",
     "text": [
      "Vamos preparar uma pizza de tamanho grande com os seguintes ingredientes:\n",
      " -  mussarela\n",
      " -  presunto\n",
      " -  ovos\n",
      " -  cebola\n",
      "A pizza vai ser assada!\n"
     ]
    }
   ],
   "source": [
    "import pizza as p\n",
    "p.faz_pizza(\"grande\", [\"mussarela\", \"presunto\", \"ovos\", \"cebola\"])\n",
    "\n",
    "p.assa_pizza(True)\n"
   ]
  },
  {
   "cell_type": "markdown",
   "metadata": {
    "pycharm": {
     "name": "#%% md\n"
    }
   },
   "source": [
    "Quando o Python lê esse arquivo, a linha *import pizza* lhe diz para abrir o arquivo *pizza.py* e copiar todas as funcões dele para esse programa. Nós não vemos realmente o código sendo copiado entre os arquivos porque o Python faz isso internamente, à medida que o programa é executado. Tudo que precisamos saber é que agora qualquer funcão definida em *pizza.py* estará disponível aqui no nosso notebook aula03.ipynb\n",
    "\n",
    "Nesse primeiro jeito de importar módulos, onde só escrevemos o comando import seguido do nome do módulo, ele acaba deixando disponíveis todas as funcões do módulo disponíveis no nosso notebook."
   ]
  },
  {
   "cell_type": "markdown",
   "metadata": {
    "pycharm": {
     "name": "#%% md\n"
    }
   },
   "source": [
    "### Importando funcões específicas\n",
    "\n",
    "Podemos também importar somente uma funcão específica de um módulo. Nesse caso, a sintaxe é:"
   ]
  },
  {
   "cell_type": "code",
   "execution_count": 7,
   "metadata": {
    "pycharm": {
     "name": "#%%\n"
    }
   },
   "outputs": [
    {
     "name": "stdout",
     "output_type": "stream",
     "text": [
      "Vamos preparar uma pizza de tamanho grande com os seguintes ingredientes:\n",
      " -  peperoni\n",
      " -  mussarela\n"
     ]
    }
   ],
   "source": [
    "from pizza import faz_pizza\n",
    "\n",
    "pizza.faz_pizza(\"grande\", [\"peperoni\", \"mussarela\"])\n"
   ]
  },
  {
   "cell_type": "markdown",
   "metadata": {
    "pycharm": {
     "name": "#%% md\n"
    }
   },
   "source": [
    "Também podemos usar alias para o nome das funcões"
   ]
  },
  {
   "cell_type": "code",
   "execution_count": 10,
   "metadata": {
    "collapsed": false,
    "pycharm": {
     "name": "#%%\n"
    }
   },
   "outputs": [
    {
     "name": "stdout",
     "output_type": "stream",
     "text": [
      "Vamos preparar uma pizza de tamanho grande com os seguintes ingredientes:\n",
      " -  peperoni\n",
      " -  mussarela\n",
      " -  orégano\n"
     ]
    }
   ],
   "source": [
    "from pizza import faz_pizza as fp\n",
    "\n",
    "fp(\"grande\", [\"peperoni\", \"mussarela\", \"orégano\"])\n"
   ]
  },
  {
   "attachments": {},
   "cell_type": "markdown",
   "metadata": {
    "collapsed": false,
    "pycharm": {
     "name": "#%% md\n"
    }
   },
   "source": [
    "Cuidado ao importar todas as funcões de um módulo, principalmente quando usarmos módulos maiores não escritos por nós!\n",
    "Pois, se o módulo importado por completo tiver funcoes com um nome existente em seu projeto, podemos ter resultados inesperados. O Python poderá ver várias funcões ou variáveis com o mesmo nome e, em vez de importar todas as funcões separadamente, ele vai sobrescrever elas!\n",
    "\n",
    "A melhor abordagem é importar as funcões que queremos ou o módulo que queremos usando a notacão de ponto. Isso resulta em um código mais fácil de ler e de entender."
   ]
  },
  {
   "cell_type": "markdown",
   "metadata": {
    "collapsed": false,
    "pycharm": {
     "name": "#%% md\n"
    }
   },
   "source": [
    "## O pacote Pandas\n",
    "\n",
    "![](../img/pandas.png)"
   ]
  },
  {
   "cell_type": "markdown",
   "metadata": {
    "collapsed": false,
    "pycharm": {
     "name": "#%% md\n"
    }
   },
   "source": [
    "A biblioteca Pandas foi construída com base na biblioteca NumPy, que é voltada para o processamento de alto desempenho de arrays (vetores), e no Matplotlip que é voltada para a visualização de dados. A documentacão da biblioteca está [aqui](https://pandas.pydata.org/docs/reference/index.html)"
   ]
  },
  {
   "cell_type": "markdown",
   "metadata": {
    "collapsed": false,
    "pycharm": {
     "name": "#%% md\n"
    }
   },
   "source": [
    "Nesta atividade prática vamos utilizar o conjunto de dados **Tips**. Este é um dataset que está disponível em inglês na biblioteca Seaborn do Python, mas que o Grupo de Estudos de Ciência de Dados das Pyladies São Paulo traduziu e fez a inserção da coluna tempo_permanencia. Além desta coluna, nosso dataset tem as seguintes colunas:\n",
    "\n",
    "* **total_conta**: valor gasto na refeição\n",
    "* **gorjeta**: valor dado como gorjeta\n",
    "* **genero**: feminino ou masculino\n",
    "* **fumante**: sim ou não\n",
    "* **dia**: dia da semana\n",
    "* **pessoas_mesa**: quantas pessoas havia em cada mesa\n",
    "* **tempo_permanencia**: tempo que as pessoas permaneceram no restaurante"
   ]
  },
  {
   "cell_type": "markdown",
   "metadata": {
    "collapsed": false,
    "pycharm": {
     "name": "#%% md\n"
    }
   },
   "source": [
    "## Problemas que mais resolvemos com o Pandas:\n",
    "- 1.Abrir tabelas no Python\n",
    "- 2.Explorar rapidamente os dados de tabelas\n",
    "- 3.Selecionar linhas e colunas\n",
    "- 4.Ordenar dados de acordo com uma ou mais colunas\n",
    "- 5.Criar e modificar colunas\n",
    "- 6.Summarizar e agregar colunas\n",
    "- 7.Juntar tabelas\n",
    "- 8.Salvar/exportar tabelas"
   ]
  },
  {
   "cell_type": "markdown",
   "metadata": {
    "collapsed": false,
    "pycharm": {
     "name": "#%% md\n"
    }
   },
   "source": [
    "### 1.Abrindo tabelas no Python com Pandas"
   ]
  },
  {
   "cell_type": "code",
   "execution_count": 40,
   "metadata": {
    "collapsed": false,
    "pycharm": {
     "name": "#%%\n"
    }
   },
   "outputs": [
    {
     "name": "stdout",
     "output_type": "stream",
     "text": [
      "Requirement already satisfied: pandas in /home/codespace/.local/lib/python3.10/site-packages (1.5.2)\n",
      "Requirement already satisfied: pytz>=2020.1 in /home/codespace/.local/lib/python3.10/site-packages (from pandas) (2022.7)\n",
      "Requirement already satisfied: python-dateutil>=2.8.1 in /home/codespace/.local/lib/python3.10/site-packages (from pandas) (2.8.2)\n",
      "Requirement already satisfied: numpy>=1.21.0 in /home/codespace/.local/lib/python3.10/site-packages (from pandas) (1.24.0)\n",
      "Requirement already satisfied: six>=1.5 in /home/codespace/.local/lib/python3.10/site-packages (from python-dateutil>=2.8.1->pandas) (1.16.0)\n"
     ]
    }
   ],
   "source": [
    "# eu já rodei a linha abaxo p instalar o Panda\n",
    "# !pip install pandas # se é a primeira vez que estamos usando o pacote,precisamos instalar ele"
   ]
  },
  {
   "cell_type": "code",
   "execution_count": 2,
   "metadata": {
    "collapsed": false,
    "pycharm": {
     "name": "#%%\n"
    }
   },
   "outputs": [],
   "source": [
    "# sempre que usamos o pandas, precisamos importar ele\n",
    "import pandas as pd # é a primeira vez que estamos usando o pacote,precisamos instalar ele"
   ]
  },
  {
   "cell_type": "code",
   "execution_count": 3,
   "metadata": {
    "collapsed": false,
    "pycharm": {
     "name": "#%%\n"
    }
   },
   "outputs": [],
   "source": [
    "# versao mais simples do comando\n",
    "#df = pd.read_csv('../dados/tips.csv')  # ela usou 'df' como DataFrame\n",
    "\n",
    "df = pd.read_csv('../dados/tips.csv',  # aqui mais incrementado\n",
    "                sep=',',\n",
    "                header=0, # header=None para tabelas sem cabecalho\n",
    "                names=['TotalConta', 'Gorjeta', 'Genero', 'Fumante', 'Dia', 'Horario',\n",
    "                'PessoasMesa', 'TempoPermanencia'])\n",
    "\n",
    "#df = pd.read_csv('../dados/tips.csv',  # aqui mais incrementado\n",
    "#                sep=',',\n",
    "#                header=0, names=[\"a\",\"b\",\"c\",\"d\",\"e\",\"f\",\"g\",\"h\"]) # header=None para tabelas sem cabecalho                "
   ]
  },
  {
   "cell_type": "code",
   "execution_count": 22,
   "metadata": {
    "collapsed": false,
    "pycharm": {
     "name": "#%%\n"
    }
   },
   "outputs": [
    {
     "name": "stdout",
     "output_type": "stream",
     "text": [
      "     TotalConta  Gorjeta     Genero Fumante  Dia Horario  PessoasMesa  \\\n",
      "0         16.99     1.01   Feminino     nao  dom  jantar            2   \n",
      "1         10.34     1.66  Masculino     nao  dom  jantar            3   \n",
      "2         21.01     3.50  Masculino     nao  dom  jantar            3   \n",
      "3         23.68     3.31  Masculino     nao  dom  jantar            2   \n",
      "4         24.59     3.61   Feminino     nao  dom  jantar            4   \n",
      "..          ...      ...        ...     ...  ...     ...          ...   \n",
      "239       29.03     5.92  Masculino     nao  sab  jantar            3   \n",
      "240       27.18     2.00   Feminino     sim  sab  jantar            2   \n",
      "241       22.67     2.00  Masculino     sim  sab  jantar            2   \n",
      "242       17.82     1.75  Masculino     nao  sab  jantar            2   \n",
      "243       18.78     3.00   Feminino     nao  qui  jantar            2   \n",
      "\n",
      "     TempoPermanencia  \n",
      "0                  41  \n",
      "1                  40  \n",
      "2                  49  \n",
      "3                  43  \n",
      "4                  34  \n",
      "..                ...  \n",
      "239                40  \n",
      "240                35  \n",
      "241                30  \n",
      "242                38  \n",
      "243                40  \n",
      "\n",
      "[244 rows x 8 columns]\n"
     ]
    }
   ],
   "source": [
    "print(df)"
   ]
  },
  {
   "cell_type": "markdown",
   "metadata": {
    "collapsed": false,
    "pycharm": {
     "name": "#%% md\n"
    }
   },
   "source": [
    "### 02.Explorar rapidamente os dados"
   ]
  },
  {
   "cell_type": "markdown",
   "metadata": {
    "collapsed": false,
    "pycharm": {
     "name": "#%% md\n"
    }
   },
   "source": [
    "Assim que importamos os nossos dados, sempre queremos ver se a importação funcionou corretamente e na sequência\n",
    "é comum queremos dar uma rápida espiada nos dados. Para isso podemos fazer o seguinte:"
   ]
  },
  {
   "cell_type": "code",
   "execution_count": 34,
   "metadata": {
    "collapsed": false,
    "pycharm": {
     "name": "#%%\n"
    }
   },
   "outputs": [
    {
     "data": {
      "text/html": [
       "<div>\n",
       "<style scoped>\n",
       "    .dataframe tbody tr th:only-of-type {\n",
       "        vertical-align: middle;\n",
       "    }\n",
       "\n",
       "    .dataframe tbody tr th {\n",
       "        vertical-align: top;\n",
       "    }\n",
       "\n",
       "    .dataframe thead th {\n",
       "        text-align: right;\n",
       "    }\n",
       "</style>\n",
       "<table border=\"1\" class=\"dataframe\">\n",
       "  <thead>\n",
       "    <tr style=\"text-align: right;\">\n",
       "      <th></th>\n",
       "      <th>TotalConta</th>\n",
       "      <th>Gorjeta</th>\n",
       "      <th>Genero</th>\n",
       "      <th>Fumante</th>\n",
       "      <th>Dia</th>\n",
       "      <th>Horario</th>\n",
       "      <th>PessoasMesa</th>\n",
       "      <th>TempoPermanencia</th>\n",
       "    </tr>\n",
       "  </thead>\n",
       "  <tbody>\n",
       "    <tr>\n",
       "      <th>81</th>\n",
       "      <td>16.66</td>\n",
       "      <td>3.4</td>\n",
       "      <td>Masculino</td>\n",
       "      <td>nao</td>\n",
       "      <td>qui</td>\n",
       "      <td>almoco</td>\n",
       "      <td>2</td>\n",
       "      <td>37</td>\n",
       "    </tr>\n",
       "  </tbody>\n",
       "</table>\n",
       "</div>"
      ],
      "text/plain": [
       "    TotalConta  Gorjeta     Genero Fumante  Dia Horario  PessoasMesa  \\\n",
       "81       16.66      3.4  Masculino     nao  qui  almoco            2   \n",
       "\n",
       "    TempoPermanencia  \n",
       "81                37  "
      ]
     },
     "execution_count": 34,
     "metadata": {},
     "output_type": "execute_result"
    }
   ],
   "source": [
    "# df.head() # mostra as primeiras linhas do df\n",
    "# df.tail() # mostra as ultimas linhas do df\n",
    "df.sample() # sorteia uma amostra aleatória dos nossos dados"
   ]
  },
  {
   "cell_type": "markdown",
   "metadata": {
    "collapsed": false,
    "pycharm": {
     "name": "#%% md\n"
    }
   },
   "source": [
    "Para o comando .sample() podemos fixar o resultado. Ou seja, sempre que rodarmos o código, vamos visualizar sempre os mesmos registros. Para fazer isso, basta colocar o parâmetro random_state (este valor deve ser um número inteiro).\n"
   ]
  },
  {
   "cell_type": "code",
   "execution_count": 52,
   "metadata": {
    "collapsed": false,
    "pycharm": {
     "name": "#%%\n"
    }
   },
   "outputs": [
    {
     "data": {
      "text/html": [
       "<div>\n",
       "<style scoped>\n",
       "    .dataframe tbody tr th:only-of-type {\n",
       "        vertical-align: middle;\n",
       "    }\n",
       "\n",
       "    .dataframe tbody tr th {\n",
       "        vertical-align: top;\n",
       "    }\n",
       "\n",
       "    .dataframe thead th {\n",
       "        text-align: right;\n",
       "    }\n",
       "</style>\n",
       "<table border=\"1\" class=\"dataframe\">\n",
       "  <thead>\n",
       "    <tr style=\"text-align: right;\">\n",
       "      <th></th>\n",
       "      <th>TotalConta</th>\n",
       "      <th>Gorjeta</th>\n",
       "      <th>Genero</th>\n",
       "      <th>Fumante</th>\n",
       "      <th>Dia</th>\n",
       "      <th>Horario</th>\n",
       "      <th>PessoasMesa</th>\n",
       "      <th>TempoPermanencia</th>\n",
       "    </tr>\n",
       "  </thead>\n",
       "  <tbody>\n",
       "    <tr>\n",
       "      <th>85</th>\n",
       "      <td>34.83</td>\n",
       "      <td>5.17</td>\n",
       "      <td>Feminino</td>\n",
       "      <td>nao</td>\n",
       "      <td>qui</td>\n",
       "      <td>almoco</td>\n",
       "      <td>4</td>\n",
       "      <td>41</td>\n",
       "    </tr>\n",
       "    <tr>\n",
       "      <th>54</th>\n",
       "      <td>25.56</td>\n",
       "      <td>4.34</td>\n",
       "      <td>Masculino</td>\n",
       "      <td>nao</td>\n",
       "      <td>dom</td>\n",
       "      <td>jantar</td>\n",
       "      <td>4</td>\n",
       "      <td>48</td>\n",
       "    </tr>\n",
       "    <tr>\n",
       "      <th>126</th>\n",
       "      <td>8.52</td>\n",
       "      <td>1.48</td>\n",
       "      <td>Masculino</td>\n",
       "      <td>nao</td>\n",
       "      <td>qui</td>\n",
       "      <td>almoco</td>\n",
       "      <td>2</td>\n",
       "      <td>37</td>\n",
       "    </tr>\n",
       "    <tr>\n",
       "      <th>93</th>\n",
       "      <td>16.32</td>\n",
       "      <td>4.30</td>\n",
       "      <td>Feminino</td>\n",
       "      <td>sim</td>\n",
       "      <td>sex</td>\n",
       "      <td>jantar</td>\n",
       "      <td>2</td>\n",
       "      <td>36</td>\n",
       "    </tr>\n",
       "    <tr>\n",
       "      <th>113</th>\n",
       "      <td>23.95</td>\n",
       "      <td>2.55</td>\n",
       "      <td>Masculino</td>\n",
       "      <td>nao</td>\n",
       "      <td>dom</td>\n",
       "      <td>jantar</td>\n",
       "      <td>2</td>\n",
       "      <td>41</td>\n",
       "    </tr>\n",
       "    <tr>\n",
       "      <th>141</th>\n",
       "      <td>34.30</td>\n",
       "      <td>6.70</td>\n",
       "      <td>Masculino</td>\n",
       "      <td>nao</td>\n",
       "      <td>qui</td>\n",
       "      <td>almoco</td>\n",
       "      <td>6</td>\n",
       "      <td>41</td>\n",
       "    </tr>\n",
       "    <tr>\n",
       "      <th>53</th>\n",
       "      <td>9.94</td>\n",
       "      <td>1.56</td>\n",
       "      <td>Masculino</td>\n",
       "      <td>nao</td>\n",
       "      <td>dom</td>\n",
       "      <td>jantar</td>\n",
       "      <td>2</td>\n",
       "      <td>46</td>\n",
       "    </tr>\n",
       "  </tbody>\n",
       "</table>\n",
       "</div>"
      ],
      "text/plain": [
       "     TotalConta  Gorjeta     Genero Fumante  Dia Horario  PessoasMesa  \\\n",
       "85        34.83     5.17   Feminino     nao  qui  almoco            4   \n",
       "54        25.56     4.34  Masculino     nao  dom  jantar            4   \n",
       "126        8.52     1.48  Masculino     nao  qui  almoco            2   \n",
       "93        16.32     4.30   Feminino     sim  sex  jantar            2   \n",
       "113       23.95     2.55  Masculino     nao  dom  jantar            2   \n",
       "141       34.30     6.70  Masculino     nao  qui  almoco            6   \n",
       "53         9.94     1.56  Masculino     nao  dom  jantar            2   \n",
       "\n",
       "     TempoPermanencia  \n",
       "85                 41  \n",
       "54                 48  \n",
       "126                37  \n",
       "93                 36  \n",
       "113                41  \n",
       "141                41  \n",
       "53                 46  "
      ]
     },
     "execution_count": 52,
     "metadata": {},
     "output_type": "execute_result"
    }
   ],
   "source": [
    "#df.sample(frac =0.03) # 3% dos dados\n",
    "# df.sample(random_state = 2) # sempre mostrará o mesmo registro, mesmo se outra pessoa rodar o códiggo\n",
    "df.sample(frac =0.03, random_state=2) # associa os dois parâmetros acima"
   ]
  },
  {
   "cell_type": "code",
   "execution_count": 53,
   "metadata": {
    "collapsed": false,
    "pycharm": {
     "name": "#%%\n"
    }
   },
   "outputs": [
    {
     "name": "stdout",
     "output_type": "stream",
     "text": [
      "<class 'pandas.core.frame.DataFrame'>\n",
      "RangeIndex: 244 entries, 0 to 243\n",
      "Data columns (total 8 columns):\n",
      " #   Column            Non-Null Count  Dtype  \n",
      "---  ------            --------------  -----  \n",
      " 0   TotalConta        244 non-null    float64\n",
      " 1   Gorjeta           244 non-null    float64\n",
      " 2   Genero            244 non-null    object \n",
      " 3   Fumante           244 non-null    object \n",
      " 4   Dia               244 non-null    object \n",
      " 5   Horario           244 non-null    object \n",
      " 6   PessoasMesa       244 non-null    int64  \n",
      " 7   TempoPermanencia  244 non-null    int64  \n",
      "dtypes: float64(2), int64(2), object(4)\n",
      "memory usage: 15.4+ KB\n"
     ]
    }
   ],
   "source": [
    "df.info() # Para sabermos as dimensões do nosso df e os tipos de variáveis que temos:"
   ]
  },
  {
   "cell_type": "code",
   "execution_count": 61,
   "metadata": {
    "collapsed": false,
    "pycharm": {
     "name": "#%%\n"
    }
   },
   "outputs": [
    {
     "data": {
      "text/html": [
       "<div>\n",
       "<style scoped>\n",
       "    .dataframe tbody tr th:only-of-type {\n",
       "        vertical-align: middle;\n",
       "    }\n",
       "\n",
       "    .dataframe tbody tr th {\n",
       "        vertical-align: top;\n",
       "    }\n",
       "\n",
       "    .dataframe thead th {\n",
       "        text-align: right;\n",
       "    }\n",
       "</style>\n",
       "<table border=\"1\" class=\"dataframe\">\n",
       "  <thead>\n",
       "    <tr style=\"text-align: right;\">\n",
       "      <th></th>\n",
       "      <th>TotalConta</th>\n",
       "      <th>Gorjeta</th>\n",
       "      <th>PessoasMesa</th>\n",
       "      <th>TempoPermanencia</th>\n",
       "    </tr>\n",
       "  </thead>\n",
       "  <tbody>\n",
       "    <tr>\n",
       "      <th>count</th>\n",
       "      <td>244.000000</td>\n",
       "      <td>244.000000</td>\n",
       "      <td>244.000000</td>\n",
       "      <td>244.000000</td>\n",
       "    </tr>\n",
       "    <tr>\n",
       "      <th>mean</th>\n",
       "      <td>19.785943</td>\n",
       "      <td>2.998279</td>\n",
       "      <td>2.569672</td>\n",
       "      <td>40.262295</td>\n",
       "    </tr>\n",
       "    <tr>\n",
       "      <th>std</th>\n",
       "      <td>8.902412</td>\n",
       "      <td>1.383638</td>\n",
       "      <td>0.951100</td>\n",
       "      <td>5.157285</td>\n",
       "    </tr>\n",
       "    <tr>\n",
       "      <th>min</th>\n",
       "      <td>3.070000</td>\n",
       "      <td>1.000000</td>\n",
       "      <td>1.000000</td>\n",
       "      <td>26.000000</td>\n",
       "    </tr>\n",
       "    <tr>\n",
       "      <th>25%</th>\n",
       "      <td>13.347500</td>\n",
       "      <td>2.000000</td>\n",
       "      <td>2.000000</td>\n",
       "      <td>37.000000</td>\n",
       "    </tr>\n",
       "    <tr>\n",
       "      <th>50%</th>\n",
       "      <td>17.795000</td>\n",
       "      <td>2.900000</td>\n",
       "      <td>2.000000</td>\n",
       "      <td>40.000000</td>\n",
       "    </tr>\n",
       "    <tr>\n",
       "      <th>75%</th>\n",
       "      <td>24.127500</td>\n",
       "      <td>3.562500</td>\n",
       "      <td>3.000000</td>\n",
       "      <td>44.000000</td>\n",
       "    </tr>\n",
       "    <tr>\n",
       "      <th>max</th>\n",
       "      <td>50.810000</td>\n",
       "      <td>10.000000</td>\n",
       "      <td>6.000000</td>\n",
       "      <td>53.000000</td>\n",
       "    </tr>\n",
       "  </tbody>\n",
       "</table>\n",
       "</div>"
      ],
      "text/plain": [
       "       TotalConta     Gorjeta  PessoasMesa  TempoPermanencia\n",
       "count  244.000000  244.000000   244.000000        244.000000\n",
       "mean    19.785943    2.998279     2.569672         40.262295\n",
       "std      8.902412    1.383638     0.951100          5.157285\n",
       "min      3.070000    1.000000     1.000000         26.000000\n",
       "25%     13.347500    2.000000     2.000000         37.000000\n",
       "50%     17.795000    2.900000     2.000000         40.000000\n",
       "75%     24.127500    3.562500     3.000000         44.000000\n",
       "max     50.810000   10.000000     6.000000         53.000000"
      ]
     },
     "execution_count": 61,
     "metadata": {},
     "output_type": "execute_result"
    }
   ],
   "source": [
    "df.describe() # Se quisermos obter um resumo estatístico dos nossos dados, como percentil, média, desvio padrão, etc:\n",
    "#df.shape # dá as dimensões simples do dataframe"
   ]
  },
  {
   "cell_type": "code",
   "execution_count": 90,
   "metadata": {
    "collapsed": false,
    "pycharm": {
     "name": "#%%\n"
    }
   },
   "outputs": [
    {
     "data": {
      "text/plain": [
       "2    156\n",
       "3     38\n",
       "4     37\n",
       "5      5\n",
       "1      4\n",
       "6      4\n",
       "Name: PessoasMesa, dtype: int64"
      ]
     },
     "execution_count": 90,
     "metadata": {},
     "output_type": "execute_result"
    }
   ],
   "source": [
    "# Para retornar o número de valores únicos\n",
    "#df.nunique() # n valores unicos para cada variável do dataframe\n",
    "#df['TempoPermanencia'].nunique() # n valores unicos para variável indicada do dataframe\n",
    "#df.groupby('TempoPermanencia')['Genero'].nunique() # n valores unicos para variável em [] e agrupada por ()\n",
    "df[\"PessoasMesa\"].value_counts() # freq absoluta da variável indicada; não sei como colocar duas ou mais variáveis\n"
   ]
  },
  {
   "cell_type": "code",
   "execution_count": 94,
   "metadata": {
    "collapsed": false,
    "pycharm": {
     "name": "#%%\n"
    }
   },
   "outputs": [
    {
     "name": "stdout",
     "output_type": "stream",
     "text": [
      "<class 'pandas.core.frame.DataFrame'>\n",
      "RangeIndex: 244 entries, 0 to 243\n",
      "Data columns (total 8 columns):\n",
      " #   Column            Non-Null Count  Dtype   \n",
      "---  ------            --------------  -----   \n",
      " 0   TotalConta        244 non-null    float64 \n",
      " 1   Gorjeta           244 non-null    float64 \n",
      " 2   Genero            244 non-null    category\n",
      " 3   Fumante           244 non-null    object  \n",
      " 4   Dia               244 non-null    object  \n",
      " 5   Horario           244 non-null    object  \n",
      " 6   PessoasMesa       244 non-null    int64   \n",
      " 7   TempoPermanencia  244 non-null    int64   \n",
      "dtypes: category(1), float64(2), int64(2), object(3)\n",
      "memory usage: 13.8+ KB\n"
     ]
    }
   ],
   "source": [
    "df['Genero'] = df['Genero'].astype('category')  # Transforma dado em categoria\n",
    "df.info()\n"
   ]
  },
  {
   "cell_type": "code",
   "execution_count": null,
   "metadata": {},
   "outputs": [],
   "source": []
  },
  {
   "cell_type": "code",
   "execution_count": 131,
   "metadata": {
    "collapsed": false,
    "pycharm": {
     "name": "#%%\n"
    }
   },
   "outputs": [
    {
     "data": {
      "text/plain": [
       "TotalConta          0\n",
       "Gorjeta             0\n",
       "Genero              0\n",
       "Fumante             0\n",
       "Dia                 0\n",
       "Horario             0\n",
       "PessoasMesa         0\n",
       "TempoPermanencia    0\n",
       "dtype: int64"
      ]
     },
     "execution_count": 131,
     "metadata": {},
     "output_type": "execute_result"
    }
   ],
   "source": [
    "# Lidando com valores ausentes\n",
    "# Total de valores ausentes por coluna\n",
    "df.isna().sum()   # total de ausentes; 'sum()' é p/ sumarizar senão imprime uma tabela de todo df com true/false nos NA de cada posição\n",
    "# link útil para estudar mais sobre valores ausentes, missing values\n",
    "# https://estatsite.com.br/2020/02/16/como-tratar-missing-no-python/"
   ]
  },
  {
   "cell_type": "code",
   "execution_count": 134,
   "metadata": {
    "collapsed": false,
    "pycharm": {
     "name": "#%%\n"
    }
   },
   "outputs": [],
   "source": [
    "df.dropna()   # Podemos remover valores missing ou"
   ]
  },
  {
   "cell_type": "code",
   "execution_count": 136,
   "metadata": {
    "collapsed": false,
    "pycharm": {
     "name": "#%%\n"
    }
   },
   "outputs": [
    {
     "data": {
      "text/html": [
       "<div>\n",
       "<style scoped>\n",
       "    .dataframe tbody tr th:only-of-type {\n",
       "        vertical-align: middle;\n",
       "    }\n",
       "\n",
       "    .dataframe tbody tr th {\n",
       "        vertical-align: top;\n",
       "    }\n",
       "\n",
       "    .dataframe thead th {\n",
       "        text-align: right;\n",
       "    }\n",
       "</style>\n",
       "<table border=\"1\" class=\"dataframe\">\n",
       "  <thead>\n",
       "    <tr style=\"text-align: right;\">\n",
       "      <th></th>\n",
       "      <th>TotalConta</th>\n",
       "      <th>Gorjeta</th>\n",
       "      <th>Genero</th>\n",
       "      <th>Fumante</th>\n",
       "      <th>Dia</th>\n",
       "      <th>Horario</th>\n",
       "      <th>PessoasMesa</th>\n",
       "      <th>TempoPermanencia</th>\n",
       "    </tr>\n",
       "  </thead>\n",
       "  <tbody>\n",
       "    <tr>\n",
       "      <th>0</th>\n",
       "      <td>16.99</td>\n",
       "      <td>1.01</td>\n",
       "      <td>Feminino</td>\n",
       "      <td>nao</td>\n",
       "      <td>dom</td>\n",
       "      <td>jantar</td>\n",
       "      <td>2</td>\n",
       "      <td>41</td>\n",
       "    </tr>\n",
       "    <tr>\n",
       "      <th>1</th>\n",
       "      <td>10.34</td>\n",
       "      <td>1.66</td>\n",
       "      <td>Masculino</td>\n",
       "      <td>nao</td>\n",
       "      <td>dom</td>\n",
       "      <td>jantar</td>\n",
       "      <td>3</td>\n",
       "      <td>40</td>\n",
       "    </tr>\n",
       "    <tr>\n",
       "      <th>2</th>\n",
       "      <td>21.01</td>\n",
       "      <td>3.50</td>\n",
       "      <td>Masculino</td>\n",
       "      <td>nao</td>\n",
       "      <td>dom</td>\n",
       "      <td>jantar</td>\n",
       "      <td>3</td>\n",
       "      <td>49</td>\n",
       "    </tr>\n",
       "    <tr>\n",
       "      <th>3</th>\n",
       "      <td>23.68</td>\n",
       "      <td>3.31</td>\n",
       "      <td>Masculino</td>\n",
       "      <td>nao</td>\n",
       "      <td>dom</td>\n",
       "      <td>jantar</td>\n",
       "      <td>2</td>\n",
       "      <td>43</td>\n",
       "    </tr>\n",
       "    <tr>\n",
       "      <th>4</th>\n",
       "      <td>24.59</td>\n",
       "      <td>3.61</td>\n",
       "      <td>Feminino</td>\n",
       "      <td>nao</td>\n",
       "      <td>dom</td>\n",
       "      <td>jantar</td>\n",
       "      <td>4</td>\n",
       "      <td>34</td>\n",
       "    </tr>\n",
       "    <tr>\n",
       "      <th>...</th>\n",
       "      <td>...</td>\n",
       "      <td>...</td>\n",
       "      <td>...</td>\n",
       "      <td>...</td>\n",
       "      <td>...</td>\n",
       "      <td>...</td>\n",
       "      <td>...</td>\n",
       "      <td>...</td>\n",
       "    </tr>\n",
       "    <tr>\n",
       "      <th>239</th>\n",
       "      <td>29.03</td>\n",
       "      <td>5.92</td>\n",
       "      <td>Masculino</td>\n",
       "      <td>nao</td>\n",
       "      <td>sab</td>\n",
       "      <td>jantar</td>\n",
       "      <td>3</td>\n",
       "      <td>40</td>\n",
       "    </tr>\n",
       "    <tr>\n",
       "      <th>240</th>\n",
       "      <td>27.18</td>\n",
       "      <td>2.00</td>\n",
       "      <td>Feminino</td>\n",
       "      <td>sim</td>\n",
       "      <td>sab</td>\n",
       "      <td>jantar</td>\n",
       "      <td>2</td>\n",
       "      <td>35</td>\n",
       "    </tr>\n",
       "    <tr>\n",
       "      <th>241</th>\n",
       "      <td>22.67</td>\n",
       "      <td>2.00</td>\n",
       "      <td>Masculino</td>\n",
       "      <td>sim</td>\n",
       "      <td>sab</td>\n",
       "      <td>jantar</td>\n",
       "      <td>2</td>\n",
       "      <td>30</td>\n",
       "    </tr>\n",
       "    <tr>\n",
       "      <th>242</th>\n",
       "      <td>17.82</td>\n",
       "      <td>1.75</td>\n",
       "      <td>Masculino</td>\n",
       "      <td>nao</td>\n",
       "      <td>sab</td>\n",
       "      <td>jantar</td>\n",
       "      <td>2</td>\n",
       "      <td>38</td>\n",
       "    </tr>\n",
       "    <tr>\n",
       "      <th>243</th>\n",
       "      <td>18.78</td>\n",
       "      <td>3.00</td>\n",
       "      <td>Feminino</td>\n",
       "      <td>nao</td>\n",
       "      <td>qui</td>\n",
       "      <td>jantar</td>\n",
       "      <td>2</td>\n",
       "      <td>40</td>\n",
       "    </tr>\n",
       "  </tbody>\n",
       "</table>\n",
       "<p>244 rows × 8 columns</p>\n",
       "</div>"
      ],
      "text/plain": [
       "     TotalConta  Gorjeta     Genero Fumante  Dia Horario  PessoasMesa  \\\n",
       "0         16.99     1.01   Feminino     nao  dom  jantar            2   \n",
       "1         10.34     1.66  Masculino     nao  dom  jantar            3   \n",
       "2         21.01     3.50  Masculino     nao  dom  jantar            3   \n",
       "3         23.68     3.31  Masculino     nao  dom  jantar            2   \n",
       "4         24.59     3.61   Feminino     nao  dom  jantar            4   \n",
       "..          ...      ...        ...     ...  ...     ...          ...   \n",
       "239       29.03     5.92  Masculino     nao  sab  jantar            3   \n",
       "240       27.18     2.00   Feminino     sim  sab  jantar            2   \n",
       "241       22.67     2.00  Masculino     sim  sab  jantar            2   \n",
       "242       17.82     1.75  Masculino     nao  sab  jantar            2   \n",
       "243       18.78     3.00   Feminino     nao  qui  jantar            2   \n",
       "\n",
       "     TempoPermanencia  \n",
       "0                  41  \n",
       "1                  40  \n",
       "2                  49  \n",
       "3                  43  \n",
       "4                  34  \n",
       "..                ...  \n",
       "239                40  \n",
       "240                35  \n",
       "241                30  \n",
       "242                38  \n",
       "243                40  \n",
       "\n",
       "[244 rows x 8 columns]"
      ]
     },
     "execution_count": 136,
     "metadata": {},
     "output_type": "execute_result"
    }
   ],
   "source": [
    "# substituir os valores ausentes, no caso abaixo com 0:\n",
    "df.fillna(0) # # substituir os valores ausentes, no caso abaixo com 0; 0 e NA podem ser coisas diferentes"
   ]
  },
  {
   "cell_type": "markdown",
   "metadata": {
    "collapsed": false,
    "pycharm": {
     "name": "#%% md\n"
    }
   },
   "source": [
    "### 3.Selecionar linhas e colunas\n",
    "\n",
    "Há várias estratégias que podemos usar para selecionar linhas e colunas. Vamos ver algumas delas, porém vamos comentar sobre o conceito de index."
   ]
  },
  {
   "cell_type": "code",
   "execution_count": 137,
   "metadata": {
    "collapsed": false,
    "pycharm": {
     "name": "#%%\n"
    }
   },
   "outputs": [
    {
     "data": {
      "text/plain": [
       "Index(['TotalConta', 'Gorjeta', 'Genero', 'Fumante', 'Dia', 'Horario',\n",
       "       'PessoasMesa', 'TempoPermanencia'],\n",
       "      dtype='object')"
      ]
     },
     "execution_count": 137,
     "metadata": {},
     "output_type": "execute_result"
    }
   ],
   "source": [
    "# Lista as colunas do dataset\n",
    "df.columns"
   ]
  },
  {
   "cell_type": "code",
   "execution_count": 139,
   "metadata": {
    "collapsed": false,
    "pycharm": {
     "name": "#%%\n"
    }
   },
   "outputs": [
    {
     "data": {
      "text/plain": [
       "RangeIndex(start=0, stop=244, step=1)"
      ]
     },
     "execution_count": 139,
     "metadata": {},
     "output_type": "execute_result"
    }
   ],
   "source": [
    "# Lista os índices do dataset\n",
    "df.index"
   ]
  },
  {
   "cell_type": "code",
   "execution_count": 10,
   "metadata": {
    "collapsed": false,
    "pycharm": {
     "name": "#%%\n"
    }
   },
   "outputs": [
    {
     "data": {
      "text/html": [
       "<div>\n",
       "<style scoped>\n",
       "    .dataframe tbody tr th:only-of-type {\n",
       "        vertical-align: middle;\n",
       "    }\n",
       "\n",
       "    .dataframe tbody tr th {\n",
       "        vertical-align: top;\n",
       "    }\n",
       "\n",
       "    .dataframe thead th {\n",
       "        text-align: right;\n",
       "    }\n",
       "</style>\n",
       "<table border=\"1\" class=\"dataframe\">\n",
       "  <thead>\n",
       "    <tr style=\"text-align: right;\">\n",
       "      <th></th>\n",
       "      <th>month</th>\n",
       "      <th>year</th>\n",
       "      <th>sale</th>\n",
       "    </tr>\n",
       "  </thead>\n",
       "  <tbody>\n",
       "    <tr>\n",
       "      <th>0</th>\n",
       "      <td>1</td>\n",
       "      <td>2012</td>\n",
       "      <td>55</td>\n",
       "    </tr>\n",
       "    <tr>\n",
       "      <th>1</th>\n",
       "      <td>4</td>\n",
       "      <td>2014</td>\n",
       "      <td>40</td>\n",
       "    </tr>\n",
       "    <tr>\n",
       "      <th>2</th>\n",
       "      <td>7</td>\n",
       "      <td>2013</td>\n",
       "      <td>84</td>\n",
       "    </tr>\n",
       "    <tr>\n",
       "      <th>3</th>\n",
       "      <td>10</td>\n",
       "      <td>2014</td>\n",
       "      <td>31</td>\n",
       "    </tr>\n",
       "  </tbody>\n",
       "</table>\n",
       "</div>"
      ],
      "text/plain": [
       "   month  year  sale\n",
       "0      1  2012    55\n",
       "1      4  2014    40\n",
       "2      7  2013    84\n",
       "3     10  2014    31"
      ]
     },
     "execution_count": 10,
     "metadata": {},
     "output_type": "execute_result"
    }
   ],
   "source": [
    "# Configurar uma coluna como índice\n",
    "df_index = pd.DataFrame({'month': [1, 4, 7, 10],\n",
    "                   'year': [2012, 2014, 2013, 2014],\n",
    "                   'sale': [55, 40, 84, 31]})\n",
    "\n",
    "df_index"
   ]
  },
  {
   "cell_type": "code",
   "execution_count": 19,
   "metadata": {
    "collapsed": false,
    "pycharm": {
     "name": "#%%\n"
    }
   },
   "outputs": [
    {
     "data": {
      "text/html": [
       "<div>\n",
       "<style scoped>\n",
       "    .dataframe tbody tr th:only-of-type {\n",
       "        vertical-align: middle;\n",
       "    }\n",
       "\n",
       "    .dataframe tbody tr th {\n",
       "        vertical-align: top;\n",
       "    }\n",
       "\n",
       "    .dataframe thead th {\n",
       "        text-align: right;\n",
       "    }\n",
       "</style>\n",
       "<table border=\"1\" class=\"dataframe\">\n",
       "  <thead>\n",
       "    <tr style=\"text-align: right;\">\n",
       "      <th></th>\n",
       "      <th>month</th>\n",
       "      <th>year</th>\n",
       "      <th>sale</th>\n",
       "    </tr>\n",
       "  </thead>\n",
       "  <tbody>\n",
       "    <tr>\n",
       "      <th>0</th>\n",
       "      <td>1</td>\n",
       "      <td>2012</td>\n",
       "      <td>55</td>\n",
       "    </tr>\n",
       "    <tr>\n",
       "      <th>1</th>\n",
       "      <td>4</td>\n",
       "      <td>2014</td>\n",
       "      <td>40</td>\n",
       "    </tr>\n",
       "    <tr>\n",
       "      <th>2</th>\n",
       "      <td>7</td>\n",
       "      <td>2013</td>\n",
       "      <td>84</td>\n",
       "    </tr>\n",
       "    <tr>\n",
       "      <th>3</th>\n",
       "      <td>10</td>\n",
       "      <td>2014</td>\n",
       "      <td>31</td>\n",
       "    </tr>\n",
       "  </tbody>\n",
       "</table>\n",
       "</div>"
      ],
      "text/plain": [
       "   month  year  sale\n",
       "0      1  2012    55\n",
       "1      4  2014    40\n",
       "2      7  2013    84\n",
       "3     10  2014    31"
      ]
     },
     "execution_count": 19,
     "metadata": {},
     "output_type": "execute_result"
    }
   ],
   "source": [
    "#df_index = df_index.set_index('month')  # 'month' passa a ser a variável índice (index) do dataframe\n",
    "df_index"
   ]
  },
  {
   "cell_type": "code",
   "execution_count": 18,
   "metadata": {
    "collapsed": false,
    "pycharm": {
     "name": "#%%\n"
    }
   },
   "outputs": [
    {
     "data": {
      "text/html": [
       "<div>\n",
       "<style scoped>\n",
       "    .dataframe tbody tr th:only-of-type {\n",
       "        vertical-align: middle;\n",
       "    }\n",
       "\n",
       "    .dataframe tbody tr th {\n",
       "        vertical-align: top;\n",
       "    }\n",
       "\n",
       "    .dataframe thead th {\n",
       "        text-align: right;\n",
       "    }\n",
       "</style>\n",
       "<table border=\"1\" class=\"dataframe\">\n",
       "  <thead>\n",
       "    <tr style=\"text-align: right;\">\n",
       "      <th></th>\n",
       "      <th>month</th>\n",
       "      <th>year</th>\n",
       "      <th>sale</th>\n",
       "    </tr>\n",
       "  </thead>\n",
       "  <tbody>\n",
       "    <tr>\n",
       "      <th>0</th>\n",
       "      <td>1</td>\n",
       "      <td>2012</td>\n",
       "      <td>55</td>\n",
       "    </tr>\n",
       "    <tr>\n",
       "      <th>1</th>\n",
       "      <td>4</td>\n",
       "      <td>2014</td>\n",
       "      <td>40</td>\n",
       "    </tr>\n",
       "    <tr>\n",
       "      <th>2</th>\n",
       "      <td>7</td>\n",
       "      <td>2013</td>\n",
       "      <td>84</td>\n",
       "    </tr>\n",
       "    <tr>\n",
       "      <th>3</th>\n",
       "      <td>10</td>\n",
       "      <td>2014</td>\n",
       "      <td>31</td>\n",
       "    </tr>\n",
       "  </tbody>\n",
       "</table>\n",
       "</div>"
      ],
      "text/plain": [
       "   month  year  sale\n",
       "0      1  2012    55\n",
       "1      4  2014    40\n",
       "2      7  2013    84\n",
       "3     10  2014    31"
      ]
     },
     "execution_count": 18,
     "metadata": {},
     "output_type": "execute_result"
    }
   ],
   "source": [
    "# Removendo índice\n",
    "# df_index.reset_index(drop=True)\n",
    "df_index = df_index.reset_index()    # foi necessário reatribuir ao df o reset_index para de fato tornar a mudança efetiva no dataframe\n",
    "df_index"
   ]
  },
  {
   "cell_type": "markdown",
   "metadata": {
    "collapsed": false,
    "pycharm": {
     "name": "#%% md\n"
    }
   },
   "source": [
    "Há vários jeitos de se fazer essa operação, porém dois comandos famosos são: **loc** e **iloc**. Vamos ver o loc primeiro."
   ]
  },
  {
   "cell_type": "code",
   "execution_count": 24,
   "metadata": {
    "collapsed": false,
    "pycharm": {
     "name": "#%%\n"
    }
   },
   "outputs": [
    {
     "data": {
      "text/plain": [
       "TotalConta               8.77\n",
       "Gorjeta                   2.0\n",
       "Genero              Masculino\n",
       "Fumante                   nao\n",
       "Dia                       dom\n",
       "Horario                jantar\n",
       "PessoasMesa                 2\n",
       "TempoPermanencia           41\n",
       "Name: 6, dtype: object"
      ]
     },
     "execution_count": 24,
     "metadata": {},
     "output_type": "execute_result"
    }
   ],
   "source": [
    "# podemos chamar uma linha pelo seu índice\n",
    "df.loc[6]"
   ]
  },
  {
   "cell_type": "code",
   "execution_count": 33,
   "metadata": {
    "collapsed": false,
    "pycharm": {
     "name": "#%%\n"
    }
   },
   "outputs": [
    {
     "data": {
      "text/html": [
       "<div>\n",
       "<style scoped>\n",
       "    .dataframe tbody tr th:only-of-type {\n",
       "        vertical-align: middle;\n",
       "    }\n",
       "\n",
       "    .dataframe tbody tr th {\n",
       "        vertical-align: top;\n",
       "    }\n",
       "\n",
       "    .dataframe thead th {\n",
       "        text-align: right;\n",
       "    }\n",
       "</style>\n",
       "<table border=\"1\" class=\"dataframe\">\n",
       "  <thead>\n",
       "    <tr style=\"text-align: right;\">\n",
       "      <th></th>\n",
       "      <th>TotalConta</th>\n",
       "      <th>Gorjeta</th>\n",
       "      <th>Genero</th>\n",
       "      <th>Fumante</th>\n",
       "      <th>Dia</th>\n",
       "      <th>Horario</th>\n",
       "      <th>PessoasMesa</th>\n",
       "      <th>TempoPermanencia</th>\n",
       "    </tr>\n",
       "  </thead>\n",
       "  <tbody>\n",
       "    <tr>\n",
       "      <th>6</th>\n",
       "      <td>8.77</td>\n",
       "      <td>2.00</td>\n",
       "      <td>Masculino</td>\n",
       "      <td>nao</td>\n",
       "      <td>dom</td>\n",
       "      <td>jantar</td>\n",
       "      <td>2</td>\n",
       "      <td>41</td>\n",
       "    </tr>\n",
       "    <tr>\n",
       "      <th>7</th>\n",
       "      <td>26.88</td>\n",
       "      <td>3.12</td>\n",
       "      <td>Masculino</td>\n",
       "      <td>nao</td>\n",
       "      <td>dom</td>\n",
       "      <td>jantar</td>\n",
       "      <td>4</td>\n",
       "      <td>31</td>\n",
       "    </tr>\n",
       "    <tr>\n",
       "      <th>8</th>\n",
       "      <td>15.04</td>\n",
       "      <td>1.96</td>\n",
       "      <td>Masculino</td>\n",
       "      <td>nao</td>\n",
       "      <td>dom</td>\n",
       "      <td>jantar</td>\n",
       "      <td>2</td>\n",
       "      <td>35</td>\n",
       "    </tr>\n",
       "    <tr>\n",
       "      <th>9</th>\n",
       "      <td>14.78</td>\n",
       "      <td>3.23</td>\n",
       "      <td>Masculino</td>\n",
       "      <td>nao</td>\n",
       "      <td>dom</td>\n",
       "      <td>jantar</td>\n",
       "      <td>2</td>\n",
       "      <td>41</td>\n",
       "    </tr>\n",
       "  </tbody>\n",
       "</table>\n",
       "</div>"
      ],
      "text/plain": [
       "   TotalConta  Gorjeta     Genero Fumante  Dia Horario  PessoasMesa  \\\n",
       "6        8.77     2.00  Masculino     nao  dom  jantar            2   \n",
       "7       26.88     3.12  Masculino     nao  dom  jantar            4   \n",
       "8       15.04     1.96  Masculino     nao  dom  jantar            2   \n",
       "9       14.78     3.23  Masculino     nao  dom  jantar            2   \n",
       "\n",
       "   TempoPermanencia  \n",
       "6                41  \n",
       "7                31  \n",
       "8                35  \n",
       "9                41  "
      ]
     },
     "execution_count": 33,
     "metadata": {},
     "output_type": "execute_result"
    }
   ],
   "source": [
    "# ou com um array de índices\n",
    "df.loc[[6,30,43]]"
   ]
  },
  {
   "cell_type": "code",
   "execution_count": 34,
   "metadata": {
    "collapsed": false,
    "pycharm": {
     "name": "#%%\n"
    }
   },
   "outputs": [
    {
     "data": {
      "text/html": [
       "<div>\n",
       "<style scoped>\n",
       "    .dataframe tbody tr th:only-of-type {\n",
       "        vertical-align: middle;\n",
       "    }\n",
       "\n",
       "    .dataframe tbody tr th {\n",
       "        vertical-align: top;\n",
       "    }\n",
       "\n",
       "    .dataframe thead th {\n",
       "        text-align: right;\n",
       "    }\n",
       "</style>\n",
       "<table border=\"1\" class=\"dataframe\">\n",
       "  <thead>\n",
       "    <tr style=\"text-align: right;\">\n",
       "      <th></th>\n",
       "      <th>TotalConta</th>\n",
       "      <th>Gorjeta</th>\n",
       "      <th>Genero</th>\n",
       "      <th>Fumante</th>\n",
       "      <th>Dia</th>\n",
       "      <th>Horario</th>\n",
       "      <th>PessoasMesa</th>\n",
       "      <th>TempoPermanencia</th>\n",
       "    </tr>\n",
       "  </thead>\n",
       "  <tbody>\n",
       "    <tr>\n",
       "      <th>5</th>\n",
       "      <td>25.29</td>\n",
       "      <td>4.71</td>\n",
       "      <td>Masculino</td>\n",
       "      <td>nao</td>\n",
       "      <td>dom</td>\n",
       "      <td>jantar</td>\n",
       "      <td>4</td>\n",
       "      <td>39</td>\n",
       "    </tr>\n",
       "    <tr>\n",
       "      <th>6</th>\n",
       "      <td>8.77</td>\n",
       "      <td>2.00</td>\n",
       "      <td>Masculino</td>\n",
       "      <td>nao</td>\n",
       "      <td>dom</td>\n",
       "      <td>jantar</td>\n",
       "      <td>2</td>\n",
       "      <td>41</td>\n",
       "    </tr>\n",
       "    <tr>\n",
       "      <th>7</th>\n",
       "      <td>26.88</td>\n",
       "      <td>3.12</td>\n",
       "      <td>Masculino</td>\n",
       "      <td>nao</td>\n",
       "      <td>dom</td>\n",
       "      <td>jantar</td>\n",
       "      <td>4</td>\n",
       "      <td>31</td>\n",
       "    </tr>\n",
       "  </tbody>\n",
       "</table>\n",
       "</div>"
      ],
      "text/plain": [
       "   TotalConta  Gorjeta     Genero Fumante  Dia Horario  PessoasMesa  \\\n",
       "5       25.29     4.71  Masculino     nao  dom  jantar            4   \n",
       "6        8.77     2.00  Masculino     nao  dom  jantar            2   \n",
       "7       26.88     3.12  Masculino     nao  dom  jantar            4   \n",
       "\n",
       "   TempoPermanencia  \n",
       "5                39  \n",
       "6                41  \n",
       "7                31  "
      ]
     },
     "execution_count": 34,
     "metadata": {},
     "output_type": "execute_result"
    }
   ],
   "source": [
    "# uma fatia, do quinto ao sétimo elemento\n",
    "df.loc[5:7]  # aqui o intervalo inclui o ultimo numero"
   ]
  },
  {
   "cell_type": "markdown",
   "metadata": {
    "collapsed": false,
    "pycharm": {
     "name": "#%% md\n"
    }
   },
   "source": [
    "Também podemos combinar operadores lógicos para chegar no resultado que queremos."
   ]
  },
  {
   "cell_type": "code",
   "execution_count": 41,
   "metadata": {
    "collapsed": false,
    "pycharm": {
     "name": "#%%\n"
    }
   },
   "outputs": [
    {
     "data": {
      "text/html": [
       "<div>\n",
       "<style scoped>\n",
       "    .dataframe tbody tr th:only-of-type {\n",
       "        vertical-align: middle;\n",
       "    }\n",
       "\n",
       "    .dataframe tbody tr th {\n",
       "        vertical-align: top;\n",
       "    }\n",
       "\n",
       "    .dataframe thead th {\n",
       "        text-align: right;\n",
       "    }\n",
       "</style>\n",
       "<table border=\"1\" class=\"dataframe\">\n",
       "  <thead>\n",
       "    <tr style=\"text-align: right;\">\n",
       "      <th></th>\n",
       "      <th>TotalConta</th>\n",
       "      <th>Gorjeta</th>\n",
       "      <th>Genero</th>\n",
       "      <th>Fumante</th>\n",
       "      <th>Dia</th>\n",
       "      <th>Horario</th>\n",
       "      <th>PessoasMesa</th>\n",
       "      <th>TempoPermanencia</th>\n",
       "    </tr>\n",
       "  </thead>\n",
       "  <tbody>\n",
       "    <tr>\n",
       "      <th>22</th>\n",
       "      <td>15.77</td>\n",
       "      <td>2.23</td>\n",
       "      <td>Feminino</td>\n",
       "      <td>nao</td>\n",
       "      <td>sab</td>\n",
       "      <td>jantar</td>\n",
       "      <td>2</td>\n",
       "      <td>50</td>\n",
       "    </tr>\n",
       "    <tr>\n",
       "      <th>56</th>\n",
       "      <td>38.01</td>\n",
       "      <td>3.00</td>\n",
       "      <td>Masculino</td>\n",
       "      <td>sim</td>\n",
       "      <td>sab</td>\n",
       "      <td>jantar</td>\n",
       "      <td>4</td>\n",
       "      <td>42</td>\n",
       "    </tr>\n",
       "    <tr>\n",
       "      <th>58</th>\n",
       "      <td>11.24</td>\n",
       "      <td>1.76</td>\n",
       "      <td>Masculino</td>\n",
       "      <td>sim</td>\n",
       "      <td>sab</td>\n",
       "      <td>jantar</td>\n",
       "      <td>2</td>\n",
       "      <td>44</td>\n",
       "    </tr>\n",
       "    <tr>\n",
       "      <th>60</th>\n",
       "      <td>20.29</td>\n",
       "      <td>3.21</td>\n",
       "      <td>Masculino</td>\n",
       "      <td>sim</td>\n",
       "      <td>sab</td>\n",
       "      <td>jantar</td>\n",
       "      <td>2</td>\n",
       "      <td>38</td>\n",
       "    </tr>\n",
       "    <tr>\n",
       "      <th>61</th>\n",
       "      <td>13.81</td>\n",
       "      <td>2.00</td>\n",
       "      <td>Masculino</td>\n",
       "      <td>sim</td>\n",
       "      <td>sab</td>\n",
       "      <td>jantar</td>\n",
       "      <td>2</td>\n",
       "      <td>42</td>\n",
       "    </tr>\n",
       "    <tr>\n",
       "      <th>...</th>\n",
       "      <td>...</td>\n",
       "      <td>...</td>\n",
       "      <td>...</td>\n",
       "      <td>...</td>\n",
       "      <td>...</td>\n",
       "      <td>...</td>\n",
       "      <td>...</td>\n",
       "      <td>...</td>\n",
       "    </tr>\n",
       "    <tr>\n",
       "      <th>234</th>\n",
       "      <td>15.53</td>\n",
       "      <td>3.00</td>\n",
       "      <td>Masculino</td>\n",
       "      <td>sim</td>\n",
       "      <td>sab</td>\n",
       "      <td>jantar</td>\n",
       "      <td>2</td>\n",
       "      <td>52</td>\n",
       "    </tr>\n",
       "    <tr>\n",
       "      <th>236</th>\n",
       "      <td>12.60</td>\n",
       "      <td>1.00</td>\n",
       "      <td>Masculino</td>\n",
       "      <td>sim</td>\n",
       "      <td>sab</td>\n",
       "      <td>jantar</td>\n",
       "      <td>2</td>\n",
       "      <td>50</td>\n",
       "    </tr>\n",
       "    <tr>\n",
       "      <th>237</th>\n",
       "      <td>32.83</td>\n",
       "      <td>1.17</td>\n",
       "      <td>Masculino</td>\n",
       "      <td>sim</td>\n",
       "      <td>sab</td>\n",
       "      <td>jantar</td>\n",
       "      <td>2</td>\n",
       "      <td>38</td>\n",
       "    </tr>\n",
       "    <tr>\n",
       "      <th>240</th>\n",
       "      <td>27.18</td>\n",
       "      <td>2.00</td>\n",
       "      <td>Feminino</td>\n",
       "      <td>sim</td>\n",
       "      <td>sab</td>\n",
       "      <td>jantar</td>\n",
       "      <td>2</td>\n",
       "      <td>35</td>\n",
       "    </tr>\n",
       "    <tr>\n",
       "      <th>241</th>\n",
       "      <td>22.67</td>\n",
       "      <td>2.00</td>\n",
       "      <td>Masculino</td>\n",
       "      <td>sim</td>\n",
       "      <td>sab</td>\n",
       "      <td>jantar</td>\n",
       "      <td>2</td>\n",
       "      <td>30</td>\n",
       "    </tr>\n",
       "  </tbody>\n",
       "</table>\n",
       "<p>95 rows × 8 columns</p>\n",
       "</div>"
      ],
      "text/plain": [
       "     TotalConta  Gorjeta     Genero Fumante  Dia Horario  PessoasMesa  \\\n",
       "22        15.77     2.23   Feminino     nao  sab  jantar            2   \n",
       "56        38.01     3.00  Masculino     sim  sab  jantar            4   \n",
       "58        11.24     1.76  Masculino     sim  sab  jantar            2   \n",
       "60        20.29     3.21  Masculino     sim  sab  jantar            2   \n",
       "61        13.81     2.00  Masculino     sim  sab  jantar            2   \n",
       "..          ...      ...        ...     ...  ...     ...          ...   \n",
       "234       15.53     3.00  Masculino     sim  sab  jantar            2   \n",
       "236       12.60     1.00  Masculino     sim  sab  jantar            2   \n",
       "237       32.83     1.17  Masculino     sim  sab  jantar            2   \n",
       "240       27.18     2.00   Feminino     sim  sab  jantar            2   \n",
       "241       22.67     2.00  Masculino     sim  sab  jantar            2   \n",
       "\n",
       "     TempoPermanencia  \n",
       "22                 50  \n",
       "56                 42  \n",
       "58                 44  \n",
       "60                 38  \n",
       "61                 42  \n",
       "..                ...  \n",
       "234                52  \n",
       "236                50  \n",
       "237                38  \n",
       "240                35  \n",
       "241                30  \n",
       "\n",
       "[95 rows x 8 columns]"
      ]
     },
     "execution_count": 41,
     "metadata": {},
     "output_type": "execute_result"
    }
   ],
   "source": [
    "# vamos selecionar as entradas cujo *tempo_permanencia* seja maior de 50 minutos.\n",
    "df.loc[(df['TempoPermanencia']) >= 50] # só uma condição; o parênteses é opcional, coloquei p organizar\n",
    "df.loc[((df['TempoPermanencia'] >= 50) & (df[\"Genero\"] == \"Feminino\")) | (df[\"Fumante\"] == \"sim\")] # várias condições\n",
    "# na linha acima tem vários parênteses para garantir a ordem de precedência. E durante a aula, ela tentou \n",
    "# sem parênteses e o compilador reclamou. É melhor usar os parênteses p garantir."
   ]
  },
  {
   "cell_type": "code",
   "execution_count": 4,
   "metadata": {
    "collapsed": false,
    "pycharm": {
     "name": "#%%\n"
    }
   },
   "outputs": [
    {
     "data": {
      "text/html": [
       "<div>\n",
       "<style scoped>\n",
       "    .dataframe tbody tr th:only-of-type {\n",
       "        vertical-align: middle;\n",
       "    }\n",
       "\n",
       "    .dataframe tbody tr th {\n",
       "        vertical-align: top;\n",
       "    }\n",
       "\n",
       "    .dataframe thead th {\n",
       "        text-align: right;\n",
       "    }\n",
       "</style>\n",
       "<table border=\"1\" class=\"dataframe\">\n",
       "  <thead>\n",
       "    <tr style=\"text-align: right;\">\n",
       "      <th></th>\n",
       "      <th>TotalConta</th>\n",
       "      <th>Gorjeta</th>\n",
       "      <th>Genero</th>\n",
       "      <th>Fumante</th>\n",
       "      <th>Dia</th>\n",
       "      <th>Horario</th>\n",
       "      <th>PessoasMesa</th>\n",
       "      <th>TempoPermanencia</th>\n",
       "    </tr>\n",
       "  </thead>\n",
       "  <tbody>\n",
       "    <tr>\n",
       "      <th>0</th>\n",
       "      <td>16.99</td>\n",
       "      <td>1.01</td>\n",
       "      <td>Feminino</td>\n",
       "      <td>nao</td>\n",
       "      <td>dom</td>\n",
       "      <td>jantar</td>\n",
       "      <td>2</td>\n",
       "      <td>60</td>\n",
       "    </tr>\n",
       "    <tr>\n",
       "      <th>1</th>\n",
       "      <td>10.34</td>\n",
       "      <td>1.66</td>\n",
       "      <td>Masculino</td>\n",
       "      <td>nao</td>\n",
       "      <td>dom</td>\n",
       "      <td>jantar</td>\n",
       "      <td>3</td>\n",
       "      <td>60</td>\n",
       "    </tr>\n",
       "    <tr>\n",
       "      <th>2</th>\n",
       "      <td>21.01</td>\n",
       "      <td>3.50</td>\n",
       "      <td>Masculino</td>\n",
       "      <td>nao</td>\n",
       "      <td>dom</td>\n",
       "      <td>jantar</td>\n",
       "      <td>3</td>\n",
       "      <td>60</td>\n",
       "    </tr>\n",
       "    <tr>\n",
       "      <th>3</th>\n",
       "      <td>23.68</td>\n",
       "      <td>3.31</td>\n",
       "      <td>Masculino</td>\n",
       "      <td>nao</td>\n",
       "      <td>dom</td>\n",
       "      <td>jantar</td>\n",
       "      <td>2</td>\n",
       "      <td>60</td>\n",
       "    </tr>\n",
       "    <tr>\n",
       "      <th>4</th>\n",
       "      <td>24.59</td>\n",
       "      <td>3.61</td>\n",
       "      <td>Feminino</td>\n",
       "      <td>nao</td>\n",
       "      <td>dom</td>\n",
       "      <td>jantar</td>\n",
       "      <td>4</td>\n",
       "      <td>60</td>\n",
       "    </tr>\n",
       "  </tbody>\n",
       "</table>\n",
       "</div>"
      ],
      "text/plain": [
       "   TotalConta  Gorjeta     Genero Fumante  Dia Horario  PessoasMesa  \\\n",
       "0       16.99     1.01   Feminino     nao  dom  jantar            2   \n",
       "1       10.34     1.66  Masculino     nao  dom  jantar            3   \n",
       "2       21.01     3.50  Masculino     nao  dom  jantar            3   \n",
       "3       23.68     3.31  Masculino     nao  dom  jantar            2   \n",
       "4       24.59     3.61   Feminino     nao  dom  jantar            4   \n",
       "\n",
       "   TempoPermanencia  \n",
       "0                60  \n",
       "1                60  \n",
       "2                60  \n",
       "3                60  \n",
       "4                60  "
      ]
     },
     "execution_count": 4,
     "metadata": {},
     "output_type": "execute_result"
    }
   ],
   "source": [
    "#Mudando os 5 primeiros registros para um tempo de permanencia de 60min\n",
    "df2 = df.copy() # faco uma cópia do objeto\n",
    "df2.loc[0:5, 'TempoPermanencia'] = 60\n",
    "df2.head(5)"
   ]
  },
  {
   "cell_type": "code",
   "execution_count": 44,
   "metadata": {
    "collapsed": false,
    "pycharm": {
     "name": "#%%\n"
    }
   },
   "outputs": [
    {
     "data": {
      "text/html": [
       "<div>\n",
       "<style scoped>\n",
       "    .dataframe tbody tr th:only-of-type {\n",
       "        vertical-align: middle;\n",
       "    }\n",
       "\n",
       "    .dataframe tbody tr th {\n",
       "        vertical-align: top;\n",
       "    }\n",
       "\n",
       "    .dataframe thead th {\n",
       "        text-align: right;\n",
       "    }\n",
       "</style>\n",
       "<table border=\"1\" class=\"dataframe\">\n",
       "  <thead>\n",
       "    <tr style=\"text-align: right;\">\n",
       "      <th></th>\n",
       "      <th>TotalConta</th>\n",
       "      <th>Gorjeta</th>\n",
       "      <th>Genero</th>\n",
       "      <th>Fumante</th>\n",
       "      <th>Dia</th>\n",
       "      <th>Horario</th>\n",
       "      <th>PessoasMesa</th>\n",
       "      <th>TempoPermanencia</th>\n",
       "    </tr>\n",
       "  </thead>\n",
       "  <tbody>\n",
       "    <tr>\n",
       "      <th>0</th>\n",
       "      <td>16.99</td>\n",
       "      <td>1.01</td>\n",
       "      <td>Feminino</td>\n",
       "      <td>nao</td>\n",
       "      <td>dom</td>\n",
       "      <td>jantar</td>\n",
       "      <td>2</td>\n",
       "      <td>41</td>\n",
       "    </tr>\n",
       "    <tr>\n",
       "      <th>1</th>\n",
       "      <td>10.34</td>\n",
       "      <td>1.66</td>\n",
       "      <td>Masculino</td>\n",
       "      <td>nao</td>\n",
       "      <td>dom</td>\n",
       "      <td>jantar</td>\n",
       "      <td>3</td>\n",
       "      <td>40</td>\n",
       "    </tr>\n",
       "    <tr>\n",
       "      <th>2</th>\n",
       "      <td>21.01</td>\n",
       "      <td>3.50</td>\n",
       "      <td>Masculino</td>\n",
       "      <td>nao</td>\n",
       "      <td>dom</td>\n",
       "      <td>jantar</td>\n",
       "      <td>3</td>\n",
       "      <td>49</td>\n",
       "    </tr>\n",
       "    <tr>\n",
       "      <th>3</th>\n",
       "      <td>23.68</td>\n",
       "      <td>3.31</td>\n",
       "      <td>Masculino</td>\n",
       "      <td>nao</td>\n",
       "      <td>dom</td>\n",
       "      <td>jantar</td>\n",
       "      <td>2</td>\n",
       "      <td>43</td>\n",
       "    </tr>\n",
       "    <tr>\n",
       "      <th>4</th>\n",
       "      <td>24.59</td>\n",
       "      <td>3.61</td>\n",
       "      <td>Feminino</td>\n",
       "      <td>nao</td>\n",
       "      <td>dom</td>\n",
       "      <td>jantar</td>\n",
       "      <td>4</td>\n",
       "      <td>34</td>\n",
       "    </tr>\n",
       "    <tr>\n",
       "      <th>5</th>\n",
       "      <td>25.29</td>\n",
       "      <td>4.71</td>\n",
       "      <td>Masculino</td>\n",
       "      <td>nao</td>\n",
       "      <td>dom</td>\n",
       "      <td>jantar</td>\n",
       "      <td>4</td>\n",
       "      <td>39</td>\n",
       "    </tr>\n",
       "  </tbody>\n",
       "</table>\n",
       "</div>"
      ],
      "text/plain": [
       "   TotalConta  Gorjeta     Genero Fumante  Dia Horario  PessoasMesa  \\\n",
       "0       16.99     1.01   Feminino     nao  dom  jantar            2   \n",
       "1       10.34     1.66  Masculino     nao  dom  jantar            3   \n",
       "2       21.01     3.50  Masculino     nao  dom  jantar            3   \n",
       "3       23.68     3.31  Masculino     nao  dom  jantar            2   \n",
       "4       24.59     3.61   Feminino     nao  dom  jantar            4   \n",
       "5       25.29     4.71  Masculino     nao  dom  jantar            4   \n",
       "\n",
       "   TempoPermanencia  \n",
       "0                41  \n",
       "1                40  \n",
       "2                49  \n",
       "3                43  \n",
       "4                34  \n",
       "5                39  "
      ]
     },
     "execution_count": 44,
     "metadata": {},
     "output_type": "execute_result"
    }
   ],
   "source": [
    "df.loc[0:5] # com o comando .copy() os dados modificados no df2 nao sao vistos no df"
   ]
  },
  {
   "cell_type": "code",
   "execution_count": 52,
   "metadata": {
    "collapsed": false,
    "pycharm": {
     "name": "#%%\n"
    }
   },
   "outputs": [
    {
     "data": {
      "text/html": [
       "<div>\n",
       "<style scoped>\n",
       "    .dataframe tbody tr th:only-of-type {\n",
       "        vertical-align: middle;\n",
       "    }\n",
       "\n",
       "    .dataframe tbody tr th {\n",
       "        vertical-align: top;\n",
       "    }\n",
       "\n",
       "    .dataframe thead th {\n",
       "        text-align: right;\n",
       "    }\n",
       "</style>\n",
       "<table border=\"1\" class=\"dataframe\">\n",
       "  <thead>\n",
       "    <tr style=\"text-align: right;\">\n",
       "      <th></th>\n",
       "      <th>TotalConta</th>\n",
       "      <th>Gorjeta</th>\n",
       "      <th>Genero</th>\n",
       "      <th>Fumante</th>\n",
       "      <th>Dia</th>\n",
       "      <th>Horario</th>\n",
       "      <th>PessoasMesa</th>\n",
       "      <th>TempoPermanencia</th>\n",
       "      <th>tempo_permanencia</th>\n",
       "    </tr>\n",
       "  </thead>\n",
       "  <tbody>\n",
       "    <tr>\n",
       "      <th>77</th>\n",
       "      <td>27.20</td>\n",
       "      <td>4.00</td>\n",
       "      <td>Masculino</td>\n",
       "      <td>nao</td>\n",
       "      <td>qui</td>\n",
       "      <td>almoco</td>\n",
       "      <td>4</td>\n",
       "      <td>47</td>\n",
       "      <td>NaN</td>\n",
       "    </tr>\n",
       "    <tr>\n",
       "      <th>78</th>\n",
       "      <td>22.76</td>\n",
       "      <td>3.00</td>\n",
       "      <td>Masculino</td>\n",
       "      <td>nao</td>\n",
       "      <td>qui</td>\n",
       "      <td>almoco</td>\n",
       "      <td>2</td>\n",
       "      <td>36</td>\n",
       "      <td>NaN</td>\n",
       "    </tr>\n",
       "    <tr>\n",
       "      <th>79</th>\n",
       "      <td>17.29</td>\n",
       "      <td>2.71</td>\n",
       "      <td>Masculino</td>\n",
       "      <td>nao</td>\n",
       "      <td>qui</td>\n",
       "      <td>almoco</td>\n",
       "      <td>2</td>\n",
       "      <td>38</td>\n",
       "      <td>NaN</td>\n",
       "    </tr>\n",
       "    <tr>\n",
       "      <th>80</th>\n",
       "      <td>19.44</td>\n",
       "      <td>3.00</td>\n",
       "      <td>Masculino</td>\n",
       "      <td>sim</td>\n",
       "      <td>qui</td>\n",
       "      <td>almoco</td>\n",
       "      <td>2</td>\n",
       "      <td>36</td>\n",
       "      <td>NaN</td>\n",
       "    </tr>\n",
       "    <tr>\n",
       "      <th>81</th>\n",
       "      <td>16.66</td>\n",
       "      <td>3.40</td>\n",
       "      <td>Masculino</td>\n",
       "      <td>nao</td>\n",
       "      <td>qui</td>\n",
       "      <td>almoco</td>\n",
       "      <td>2</td>\n",
       "      <td>37</td>\n",
       "      <td>NaN</td>\n",
       "    </tr>\n",
       "    <tr>\n",
       "      <th>...</th>\n",
       "      <td>...</td>\n",
       "      <td>...</td>\n",
       "      <td>...</td>\n",
       "      <td>...</td>\n",
       "      <td>...</td>\n",
       "      <td>...</td>\n",
       "      <td>...</td>\n",
       "      <td>...</td>\n",
       "      <td>...</td>\n",
       "    </tr>\n",
       "    <tr>\n",
       "      <th>223</th>\n",
       "      <td>15.98</td>\n",
       "      <td>3.00</td>\n",
       "      <td>Feminino</td>\n",
       "      <td>nao</td>\n",
       "      <td>sex</td>\n",
       "      <td>almoco</td>\n",
       "      <td>3</td>\n",
       "      <td>40</td>\n",
       "      <td>NaN</td>\n",
       "    </tr>\n",
       "    <tr>\n",
       "      <th>224</th>\n",
       "      <td>13.42</td>\n",
       "      <td>1.58</td>\n",
       "      <td>Masculino</td>\n",
       "      <td>sim</td>\n",
       "      <td>sex</td>\n",
       "      <td>almoco</td>\n",
       "      <td>2</td>\n",
       "      <td>45</td>\n",
       "      <td>NaN</td>\n",
       "    </tr>\n",
       "    <tr>\n",
       "      <th>225</th>\n",
       "      <td>16.27</td>\n",
       "      <td>2.50</td>\n",
       "      <td>Feminino</td>\n",
       "      <td>sim</td>\n",
       "      <td>sex</td>\n",
       "      <td>almoco</td>\n",
       "      <td>2</td>\n",
       "      <td>50</td>\n",
       "      <td>NaN</td>\n",
       "    </tr>\n",
       "    <tr>\n",
       "      <th>226</th>\n",
       "      <td>10.09</td>\n",
       "      <td>2.00</td>\n",
       "      <td>Feminino</td>\n",
       "      <td>sim</td>\n",
       "      <td>sex</td>\n",
       "      <td>almoco</td>\n",
       "      <td>2</td>\n",
       "      <td>51</td>\n",
       "      <td>NaN</td>\n",
       "    </tr>\n",
       "    <tr>\n",
       "      <th>243</th>\n",
       "      <td>18.78</td>\n",
       "      <td>3.00</td>\n",
       "      <td>Feminino</td>\n",
       "      <td>nao</td>\n",
       "      <td>qui</td>\n",
       "      <td>jantar</td>\n",
       "      <td>2</td>\n",
       "      <td>40</td>\n",
       "      <td>NaN</td>\n",
       "    </tr>\n",
       "  </tbody>\n",
       "</table>\n",
       "<p>81 rows × 9 columns</p>\n",
       "</div>"
      ],
      "text/plain": [
       "     TotalConta  Gorjeta     Genero Fumante  Dia Horario  PessoasMesa  \\\n",
       "77        27.20     4.00  Masculino     nao  qui  almoco            4   \n",
       "78        22.76     3.00  Masculino     nao  qui  almoco            2   \n",
       "79        17.29     2.71  Masculino     nao  qui  almoco            2   \n",
       "80        19.44     3.00  Masculino     sim  qui  almoco            2   \n",
       "81        16.66     3.40  Masculino     nao  qui  almoco            2   \n",
       "..          ...      ...        ...     ...  ...     ...          ...   \n",
       "223       15.98     3.00   Feminino     nao  sex  almoco            3   \n",
       "224       13.42     1.58  Masculino     sim  sex  almoco            2   \n",
       "225       16.27     2.50   Feminino     sim  sex  almoco            2   \n",
       "226       10.09     2.00   Feminino     sim  sex  almoco            2   \n",
       "243       18.78     3.00   Feminino     nao  qui  jantar            2   \n",
       "\n",
       "     TempoPermanencia  tempo_permanencia  \n",
       "77                 47                NaN  \n",
       "78                 36                NaN  \n",
       "79                 38                NaN  \n",
       "80                 36                NaN  \n",
       "81                 37                NaN  \n",
       "..                ...                ...  \n",
       "223                40                NaN  \n",
       "224                45                NaN  \n",
       "225                50                NaN  \n",
       "226                51                NaN  \n",
       "243                40                NaN  \n",
       "\n",
       "[81 rows x 9 columns]"
      ]
     },
     "execution_count": 52,
     "metadata": {},
     "output_type": "execute_result"
    }
   ],
   "source": [
    "df2.loc[df2['Dia'].isin(['seg', 'ter', 'qua', 'qui', 'sex'])]\n",
    "# df2.loc[df2['Dia'].isin(['qui'])]"
   ]
  },
  {
   "cell_type": "code",
   "execution_count": 62,
   "metadata": {
    "collapsed": false,
    "pycharm": {
     "name": "#%%\n"
    }
   },
   "outputs": [
    {
     "data": {
      "text/html": [
       "<div>\n",
       "<style scoped>\n",
       "    .dataframe tbody tr th:only-of-type {\n",
       "        vertical-align: middle;\n",
       "    }\n",
       "\n",
       "    .dataframe tbody tr th {\n",
       "        vertical-align: top;\n",
       "    }\n",
       "\n",
       "    .dataframe thead th {\n",
       "        text-align: right;\n",
       "    }\n",
       "</style>\n",
       "<table border=\"1\" class=\"dataframe\">\n",
       "  <thead>\n",
       "    <tr style=\"text-align: right;\">\n",
       "      <th></th>\n",
       "      <th>TotalConta</th>\n",
       "      <th>Gorjeta</th>\n",
       "      <th>Genero</th>\n",
       "      <th>Fumante</th>\n",
       "      <th>Dia</th>\n",
       "      <th>Horario</th>\n",
       "      <th>PessoasMesa</th>\n",
       "      <th>TempoPermanencia</th>\n",
       "    </tr>\n",
       "  </thead>\n",
       "  <tbody>\n",
       "    <tr>\n",
       "      <th>77</th>\n",
       "      <td>27.20</td>\n",
       "      <td>4.00</td>\n",
       "      <td>Masculino</td>\n",
       "      <td>nao</td>\n",
       "      <td>qui</td>\n",
       "      <td>almoco</td>\n",
       "      <td>4</td>\n",
       "      <td>47</td>\n",
       "    </tr>\n",
       "    <tr>\n",
       "      <th>78</th>\n",
       "      <td>22.76</td>\n",
       "      <td>3.00</td>\n",
       "      <td>Masculino</td>\n",
       "      <td>nao</td>\n",
       "      <td>qui</td>\n",
       "      <td>almoco</td>\n",
       "      <td>2</td>\n",
       "      <td>36</td>\n",
       "    </tr>\n",
       "    <tr>\n",
       "      <th>79</th>\n",
       "      <td>17.29</td>\n",
       "      <td>2.71</td>\n",
       "      <td>Masculino</td>\n",
       "      <td>nao</td>\n",
       "      <td>qui</td>\n",
       "      <td>almoco</td>\n",
       "      <td>2</td>\n",
       "      <td>38</td>\n",
       "    </tr>\n",
       "    <tr>\n",
       "      <th>80</th>\n",
       "      <td>19.44</td>\n",
       "      <td>3.00</td>\n",
       "      <td>Masculino</td>\n",
       "      <td>sim</td>\n",
       "      <td>qui</td>\n",
       "      <td>almoco</td>\n",
       "      <td>2</td>\n",
       "      <td>36</td>\n",
       "    </tr>\n",
       "    <tr>\n",
       "      <th>81</th>\n",
       "      <td>16.66</td>\n",
       "      <td>3.40</td>\n",
       "      <td>Masculino</td>\n",
       "      <td>nao</td>\n",
       "      <td>qui</td>\n",
       "      <td>almoco</td>\n",
       "      <td>2</td>\n",
       "      <td>37</td>\n",
       "    </tr>\n",
       "    <tr>\n",
       "      <th>...</th>\n",
       "      <td>...</td>\n",
       "      <td>...</td>\n",
       "      <td>...</td>\n",
       "      <td>...</td>\n",
       "      <td>...</td>\n",
       "      <td>...</td>\n",
       "      <td>...</td>\n",
       "      <td>...</td>\n",
       "    </tr>\n",
       "    <tr>\n",
       "      <th>223</th>\n",
       "      <td>15.98</td>\n",
       "      <td>3.00</td>\n",
       "      <td>Feminino</td>\n",
       "      <td>nao</td>\n",
       "      <td>sex</td>\n",
       "      <td>almoco</td>\n",
       "      <td>3</td>\n",
       "      <td>40</td>\n",
       "    </tr>\n",
       "    <tr>\n",
       "      <th>224</th>\n",
       "      <td>13.42</td>\n",
       "      <td>1.58</td>\n",
       "      <td>Masculino</td>\n",
       "      <td>sim</td>\n",
       "      <td>sex</td>\n",
       "      <td>almoco</td>\n",
       "      <td>2</td>\n",
       "      <td>45</td>\n",
       "    </tr>\n",
       "    <tr>\n",
       "      <th>225</th>\n",
       "      <td>16.27</td>\n",
       "      <td>2.50</td>\n",
       "      <td>Feminino</td>\n",
       "      <td>sim</td>\n",
       "      <td>sex</td>\n",
       "      <td>almoco</td>\n",
       "      <td>2</td>\n",
       "      <td>50</td>\n",
       "    </tr>\n",
       "    <tr>\n",
       "      <th>226</th>\n",
       "      <td>10.09</td>\n",
       "      <td>2.00</td>\n",
       "      <td>Feminino</td>\n",
       "      <td>sim</td>\n",
       "      <td>sex</td>\n",
       "      <td>almoco</td>\n",
       "      <td>2</td>\n",
       "      <td>51</td>\n",
       "    </tr>\n",
       "    <tr>\n",
       "      <th>243</th>\n",
       "      <td>18.78</td>\n",
       "      <td>3.00</td>\n",
       "      <td>Feminino</td>\n",
       "      <td>nao</td>\n",
       "      <td>qui</td>\n",
       "      <td>jantar</td>\n",
       "      <td>2</td>\n",
       "      <td>40</td>\n",
       "    </tr>\n",
       "  </tbody>\n",
       "</table>\n",
       "<p>81 rows × 8 columns</p>\n",
       "</div>"
      ],
      "text/plain": [
       "     TotalConta  Gorjeta     Genero Fumante  Dia Horario  PessoasMesa  \\\n",
       "77        27.20     4.00  Masculino     nao  qui  almoco            4   \n",
       "78        22.76     3.00  Masculino     nao  qui  almoco            2   \n",
       "79        17.29     2.71  Masculino     nao  qui  almoco            2   \n",
       "80        19.44     3.00  Masculino     sim  qui  almoco            2   \n",
       "81        16.66     3.40  Masculino     nao  qui  almoco            2   \n",
       "..          ...      ...        ...     ...  ...     ...          ...   \n",
       "223       15.98     3.00   Feminino     nao  sex  almoco            3   \n",
       "224       13.42     1.58  Masculino     sim  sex  almoco            2   \n",
       "225       16.27     2.50   Feminino     sim  sex  almoco            2   \n",
       "226       10.09     2.00   Feminino     sim  sex  almoco            2   \n",
       "243       18.78     3.00   Feminino     nao  qui  jantar            2   \n",
       "\n",
       "     TempoPermanencia  \n",
       "77                 47  \n",
       "78                 36  \n",
       "79                 38  \n",
       "80                 36  \n",
       "81                 37  \n",
       "..                ...  \n",
       "223                40  \n",
       "224                45  \n",
       "225                50  \n",
       "226                51  \n",
       "243                40  \n",
       "\n",
       "[81 rows x 8 columns]"
      ]
     },
     "execution_count": 62,
     "metadata": {},
     "output_type": "execute_result"
    }
   ],
   "source": [
    "df.loc[~df['Dia'].isin(['sab', 'dom'])] # pega tudo que nao eh sabado ou domingo\n",
    "# o acento til é negacao !"
   ]
  },
  {
   "cell_type": "markdown",
   "metadata": {
    "collapsed": false,
    "pycharm": {
     "name": "#%% md\n"
    }
   },
   "source": [
    "Basicamente o comando **iloc** é usado quando queremos selecionar dados de linhas e colunas pelo seu valor numérico de índice. Isso torna o seu uso mais restrito, logo ele é menos utilizado que loc."
   ]
  },
  {
   "cell_type": "code",
   "execution_count": 63,
   "metadata": {
    "collapsed": false,
    "pycharm": {
     "name": "#%%\n"
    }
   },
   "outputs": [
    {
     "data": {
      "text/html": [
       "<div>\n",
       "<style scoped>\n",
       "    .dataframe tbody tr th:only-of-type {\n",
       "        vertical-align: middle;\n",
       "    }\n",
       "\n",
       "    .dataframe tbody tr th {\n",
       "        vertical-align: top;\n",
       "    }\n",
       "\n",
       "    .dataframe thead th {\n",
       "        text-align: right;\n",
       "    }\n",
       "</style>\n",
       "<table border=\"1\" class=\"dataframe\">\n",
       "  <thead>\n",
       "    <tr style=\"text-align: right;\">\n",
       "      <th></th>\n",
       "      <th>TotalConta</th>\n",
       "      <th>Gorjeta</th>\n",
       "      <th>Genero</th>\n",
       "      <th>Fumante</th>\n",
       "      <th>Dia</th>\n",
       "      <th>Horario</th>\n",
       "      <th>PessoasMesa</th>\n",
       "      <th>TempoPermanencia</th>\n",
       "    </tr>\n",
       "  </thead>\n",
       "  <tbody>\n",
       "    <tr>\n",
       "      <th>0</th>\n",
       "      <td>16.99</td>\n",
       "      <td>1.01</td>\n",
       "      <td>Feminino</td>\n",
       "      <td>nao</td>\n",
       "      <td>dom</td>\n",
       "      <td>jantar</td>\n",
       "      <td>2</td>\n",
       "      <td>41</td>\n",
       "    </tr>\n",
       "    <tr>\n",
       "      <th>1</th>\n",
       "      <td>10.34</td>\n",
       "      <td>1.66</td>\n",
       "      <td>Masculino</td>\n",
       "      <td>nao</td>\n",
       "      <td>dom</td>\n",
       "      <td>jantar</td>\n",
       "      <td>3</td>\n",
       "      <td>40</td>\n",
       "    </tr>\n",
       "    <tr>\n",
       "      <th>2</th>\n",
       "      <td>21.01</td>\n",
       "      <td>3.50</td>\n",
       "      <td>Masculino</td>\n",
       "      <td>nao</td>\n",
       "      <td>dom</td>\n",
       "      <td>jantar</td>\n",
       "      <td>3</td>\n",
       "      <td>49</td>\n",
       "    </tr>\n",
       "    <tr>\n",
       "      <th>3</th>\n",
       "      <td>23.68</td>\n",
       "      <td>3.31</td>\n",
       "      <td>Masculino</td>\n",
       "      <td>nao</td>\n",
       "      <td>dom</td>\n",
       "      <td>jantar</td>\n",
       "      <td>2</td>\n",
       "      <td>43</td>\n",
       "    </tr>\n",
       "  </tbody>\n",
       "</table>\n",
       "</div>"
      ],
      "text/plain": [
       "   TotalConta  Gorjeta     Genero Fumante  Dia Horario  PessoasMesa  \\\n",
       "0       16.99     1.01   Feminino     nao  dom  jantar            2   \n",
       "1       10.34     1.66  Masculino     nao  dom  jantar            3   \n",
       "2       21.01     3.50  Masculino     nao  dom  jantar            3   \n",
       "3       23.68     3.31  Masculino     nao  dom  jantar            2   \n",
       "\n",
       "   TempoPermanencia  \n",
       "0                41  \n",
       "1                40  \n",
       "2                49  \n",
       "3                43  "
      ]
     },
     "execution_count": 63,
     "metadata": {},
     "output_type": "execute_result"
    }
   ],
   "source": [
    "df.loc[0:3] # pega valor do ultimo índice"
   ]
  },
  {
   "cell_type": "code",
   "execution_count": 67,
   "metadata": {
    "collapsed": false,
    "pycharm": {
     "name": "#%%\n"
    }
   },
   "outputs": [
    {
     "data": {
      "text/html": [
       "<div>\n",
       "<style scoped>\n",
       "    .dataframe tbody tr th:only-of-type {\n",
       "        vertical-align: middle;\n",
       "    }\n",
       "\n",
       "    .dataframe tbody tr th {\n",
       "        vertical-align: top;\n",
       "    }\n",
       "\n",
       "    .dataframe thead th {\n",
       "        text-align: right;\n",
       "    }\n",
       "</style>\n",
       "<table border=\"1\" class=\"dataframe\">\n",
       "  <thead>\n",
       "    <tr style=\"text-align: right;\">\n",
       "      <th></th>\n",
       "      <th>Horario</th>\n",
       "      <th>PessoasMesa</th>\n",
       "      <th>TempoPermanencia</th>\n",
       "    </tr>\n",
       "  </thead>\n",
       "  <tbody>\n",
       "    <tr>\n",
       "      <th>0</th>\n",
       "      <td>jantar</td>\n",
       "      <td>2</td>\n",
       "      <td>41</td>\n",
       "    </tr>\n",
       "    <tr>\n",
       "      <th>2</th>\n",
       "      <td>jantar</td>\n",
       "      <td>3</td>\n",
       "      <td>49</td>\n",
       "    </tr>\n",
       "    <tr>\n",
       "      <th>4</th>\n",
       "      <td>jantar</td>\n",
       "      <td>4</td>\n",
       "      <td>34</td>\n",
       "    </tr>\n",
       "  </tbody>\n",
       "</table>\n",
       "</div>"
      ],
      "text/plain": [
       "  Horario  PessoasMesa  TempoPermanencia\n",
       "0  jantar            2                41\n",
       "2  jantar            3                49\n",
       "4  jantar            4                34"
      ]
     },
     "execution_count": 67,
     "metadata": {},
     "output_type": "execute_result"
    }
   ],
   "source": [
    "# resgatando as primeiras três linhas do dataset\n",
    "#df.iloc[0:3] # três primeiras linhas do DataFrame, não pega o valor do último índice\n",
    "#df.iloc[:, 1:3] # todos os dados da segunda e terceira coluna; usa os índices das colunas (começam em 0)\n",
    "#df.iloc[0:3, 1:3] # nas 10 primeiras linhas, todos os dados da segunda e terceira coluna\n",
    "df.iloc[[0,2,4], 5:8] # 1º,3º e 5º elementos e 6ª a 8ª colunas"
   ]
  },
  {
   "cell_type": "markdown",
   "metadata": {
    "collapsed": false,
    "pycharm": {
     "name": "#%% md\n"
    }
   },
   "source": []
  },
  {
   "cell_type": "markdown",
   "metadata": {
    "collapsed": false,
    "pycharm": {
     "name": "#%% md\n"
    }
   },
   "source": [
    "### 4.Criar e modificar colunas"
   ]
  },
  {
   "cell_type": "code",
   "execution_count": 69,
   "metadata": {
    "collapsed": false,
    "pycharm": {
     "name": "#%%\n"
    }
   },
   "outputs": [
    {
     "data": {
      "text/html": [
       "<div>\n",
       "<style scoped>\n",
       "    .dataframe tbody tr th:only-of-type {\n",
       "        vertical-align: middle;\n",
       "    }\n",
       "\n",
       "    .dataframe tbody tr th {\n",
       "        vertical-align: top;\n",
       "    }\n",
       "\n",
       "    .dataframe thead th {\n",
       "        text-align: right;\n",
       "    }\n",
       "</style>\n",
       "<table border=\"1\" class=\"dataframe\">\n",
       "  <thead>\n",
       "    <tr style=\"text-align: right;\">\n",
       "      <th></th>\n",
       "      <th>TotalConta</th>\n",
       "      <th>Gorjeta</th>\n",
       "      <th>Genero</th>\n",
       "      <th>Fumante</th>\n",
       "      <th>Dia</th>\n",
       "      <th>Horario</th>\n",
       "      <th>PessoasMesa</th>\n",
       "      <th>TempoPermanencia</th>\n",
       "      <th>TotalContaReais</th>\n",
       "    </tr>\n",
       "  </thead>\n",
       "  <tbody>\n",
       "    <tr>\n",
       "      <th>0</th>\n",
       "      <td>16.99</td>\n",
       "      <td>1.01</td>\n",
       "      <td>Feminino</td>\n",
       "      <td>nao</td>\n",
       "      <td>dom</td>\n",
       "      <td>jantar</td>\n",
       "      <td>2</td>\n",
       "      <td>60</td>\n",
       "      <td>88.348</td>\n",
       "    </tr>\n",
       "    <tr>\n",
       "      <th>1</th>\n",
       "      <td>10.34</td>\n",
       "      <td>1.66</td>\n",
       "      <td>Masculino</td>\n",
       "      <td>nao</td>\n",
       "      <td>dom</td>\n",
       "      <td>jantar</td>\n",
       "      <td>3</td>\n",
       "      <td>60</td>\n",
       "      <td>53.768</td>\n",
       "    </tr>\n",
       "    <tr>\n",
       "      <th>2</th>\n",
       "      <td>21.01</td>\n",
       "      <td>3.50</td>\n",
       "      <td>Masculino</td>\n",
       "      <td>nao</td>\n",
       "      <td>dom</td>\n",
       "      <td>jantar</td>\n",
       "      <td>3</td>\n",
       "      <td>60</td>\n",
       "      <td>109.252</td>\n",
       "    </tr>\n",
       "    <tr>\n",
       "      <th>3</th>\n",
       "      <td>23.68</td>\n",
       "      <td>3.31</td>\n",
       "      <td>Masculino</td>\n",
       "      <td>nao</td>\n",
       "      <td>dom</td>\n",
       "      <td>jantar</td>\n",
       "      <td>2</td>\n",
       "      <td>60</td>\n",
       "      <td>123.136</td>\n",
       "    </tr>\n",
       "    <tr>\n",
       "      <th>4</th>\n",
       "      <td>24.59</td>\n",
       "      <td>3.61</td>\n",
       "      <td>Feminino</td>\n",
       "      <td>nao</td>\n",
       "      <td>dom</td>\n",
       "      <td>jantar</td>\n",
       "      <td>4</td>\n",
       "      <td>60</td>\n",
       "      <td>127.868</td>\n",
       "    </tr>\n",
       "  </tbody>\n",
       "</table>\n",
       "</div>"
      ],
      "text/plain": [
       "   TotalConta  Gorjeta     Genero Fumante  Dia Horario  PessoasMesa  \\\n",
       "0       16.99     1.01   Feminino     nao  dom  jantar            2   \n",
       "1       10.34     1.66  Masculino     nao  dom  jantar            3   \n",
       "2       21.01     3.50  Masculino     nao  dom  jantar            3   \n",
       "3       23.68     3.31  Masculino     nao  dom  jantar            2   \n",
       "4       24.59     3.61   Feminino     nao  dom  jantar            4   \n",
       "\n",
       "   TempoPermanencia  TotalContaReais  \n",
       "0                60           88.348  \n",
       "1                60           53.768  \n",
       "2                60          109.252  \n",
       "3                60          123.136  \n",
       "4                60          127.868  "
      ]
     },
     "execution_count": 69,
     "metadata": {},
     "output_type": "execute_result"
    }
   ],
   "source": [
    "# podemos executar diretamente a operação necessária na coluna desejada linha a linha.\n",
    "df2['TotalContaReais'] = df2['TotalConta']*5.20\n",
    "df2.head()"
   ]
  },
  {
   "cell_type": "code",
   "execution_count": 73,
   "metadata": {
    "collapsed": false,
    "pycharm": {
     "name": "#%%\n"
    }
   },
   "outputs": [
    {
     "data": {
      "text/html": [
       "<div>\n",
       "<style scoped>\n",
       "    .dataframe tbody tr th:only-of-type {\n",
       "        vertical-align: middle;\n",
       "    }\n",
       "\n",
       "    .dataframe tbody tr th {\n",
       "        vertical-align: top;\n",
       "    }\n",
       "\n",
       "    .dataframe thead th {\n",
       "        text-align: right;\n",
       "    }\n",
       "</style>\n",
       "<table border=\"1\" class=\"dataframe\">\n",
       "  <thead>\n",
       "    <tr style=\"text-align: right;\">\n",
       "      <th></th>\n",
       "      <th>TotalConta</th>\n",
       "      <th>Gorjeta</th>\n",
       "      <th>Genero</th>\n",
       "      <th>Fumante</th>\n",
       "      <th>Dia</th>\n",
       "      <th>Horario</th>\n",
       "      <th>PessoasMesa</th>\n",
       "      <th>TempoPermanencia</th>\n",
       "      <th>TipoTicket</th>\n",
       "    </tr>\n",
       "  </thead>\n",
       "  <tbody>\n",
       "    <tr>\n",
       "      <th>0</th>\n",
       "      <td>16.99</td>\n",
       "      <td>1.01</td>\n",
       "      <td>Feminino</td>\n",
       "      <td>nao</td>\n",
       "      <td>dom</td>\n",
       "      <td>jantar</td>\n",
       "      <td>2</td>\n",
       "      <td>41</td>\n",
       "      <td>baixo</td>\n",
       "    </tr>\n",
       "    <tr>\n",
       "      <th>1</th>\n",
       "      <td>10.34</td>\n",
       "      <td>1.66</td>\n",
       "      <td>Masculino</td>\n",
       "      <td>nao</td>\n",
       "      <td>dom</td>\n",
       "      <td>jantar</td>\n",
       "      <td>3</td>\n",
       "      <td>40</td>\n",
       "      <td>baixo</td>\n",
       "    </tr>\n",
       "    <tr>\n",
       "      <th>2</th>\n",
       "      <td>21.01</td>\n",
       "      <td>3.50</td>\n",
       "      <td>Masculino</td>\n",
       "      <td>nao</td>\n",
       "      <td>dom</td>\n",
       "      <td>jantar</td>\n",
       "      <td>3</td>\n",
       "      <td>49</td>\n",
       "      <td>baixo</td>\n",
       "    </tr>\n",
       "    <tr>\n",
       "      <th>3</th>\n",
       "      <td>23.68</td>\n",
       "      <td>3.31</td>\n",
       "      <td>Masculino</td>\n",
       "      <td>nao</td>\n",
       "      <td>dom</td>\n",
       "      <td>jantar</td>\n",
       "      <td>2</td>\n",
       "      <td>43</td>\n",
       "      <td>baixo</td>\n",
       "    </tr>\n",
       "    <tr>\n",
       "      <th>4</th>\n",
       "      <td>24.59</td>\n",
       "      <td>3.61</td>\n",
       "      <td>Feminino</td>\n",
       "      <td>nao</td>\n",
       "      <td>dom</td>\n",
       "      <td>jantar</td>\n",
       "      <td>4</td>\n",
       "      <td>34</td>\n",
       "      <td>baixo</td>\n",
       "    </tr>\n",
       "  </tbody>\n",
       "</table>\n",
       "</div>"
      ],
      "text/plain": [
       "   TotalConta  Gorjeta     Genero Fumante  Dia Horario  PessoasMesa  \\\n",
       "0       16.99     1.01   Feminino     nao  dom  jantar            2   \n",
       "1       10.34     1.66  Masculino     nao  dom  jantar            3   \n",
       "2       21.01     3.50  Masculino     nao  dom  jantar            3   \n",
       "3       23.68     3.31  Masculino     nao  dom  jantar            2   \n",
       "4       24.59     3.61   Feminino     nao  dom  jantar            4   \n",
       "\n",
       "   TempoPermanencia TipoTicket  \n",
       "0                41      baixo  \n",
       "1                40      baixo  \n",
       "2                49      baixo  \n",
       "3                43      baixo  \n",
       "4                34      baixo  "
      ]
     },
     "execution_count": 73,
     "metadata": {},
     "output_type": "execute_result"
    }
   ],
   "source": [
    "# podemos usar o metodo .apply() que aplica uma funcao na coluna que vai dar origem a nova coluna\n",
    "# definimos a nossa regra de criacao da nova coluna\n",
    "\n",
    "def classifica_ticket(row_value):\n",
    "    if row_value >= 50:\n",
    "        ticket = 'alto'\n",
    "    elif row_value >= 30:\n",
    "        ticket = 'medio'\n",
    "    else:\n",
    "        ticket = 'baixo'\n",
    "    return ticket\n",
    "\n",
    "\n",
    "# aplicamos a regra na coluna que nos interessa\n",
    "df['TipoTicket'] = df['TotalConta'].apply(classifica_ticket)\n",
    "df.head()"
   ]
  },
  {
   "cell_type": "code",
   "execution_count": 75,
   "metadata": {
    "collapsed": false,
    "pycharm": {
     "name": "#%%\n"
    }
   },
   "outputs": [
    {
     "data": {
      "text/html": [
       "<div>\n",
       "<style scoped>\n",
       "    .dataframe tbody tr th:only-of-type {\n",
       "        vertical-align: middle;\n",
       "    }\n",
       "\n",
       "    .dataframe tbody tr th {\n",
       "        vertical-align: top;\n",
       "    }\n",
       "\n",
       "    .dataframe thead th {\n",
       "        text-align: right;\n",
       "    }\n",
       "</style>\n",
       "<table border=\"1\" class=\"dataframe\">\n",
       "  <thead>\n",
       "    <tr style=\"text-align: right;\">\n",
       "      <th></th>\n",
       "      <th>TotalConta</th>\n",
       "      <th>Gorjeta</th>\n",
       "      <th>Genero</th>\n",
       "      <th>Fumante</th>\n",
       "      <th>Dia</th>\n",
       "      <th>Horario</th>\n",
       "      <th>PessoasMesa</th>\n",
       "      <th>TempoPermanencia</th>\n",
       "      <th>TotalContaReais</th>\n",
       "      <th>TipoTicket</th>\n",
       "      <th>genero2</th>\n",
       "    </tr>\n",
       "  </thead>\n",
       "  <tbody>\n",
       "    <tr>\n",
       "      <th>0</th>\n",
       "      <td>16.99</td>\n",
       "      <td>1.01</td>\n",
       "      <td>Feminino</td>\n",
       "      <td>nao</td>\n",
       "      <td>dom</td>\n",
       "      <td>jantar</td>\n",
       "      <td>2</td>\n",
       "      <td>60</td>\n",
       "      <td>88.348</td>\n",
       "      <td>baixo</td>\n",
       "      <td>1</td>\n",
       "    </tr>\n",
       "    <tr>\n",
       "      <th>1</th>\n",
       "      <td>10.34</td>\n",
       "      <td>1.66</td>\n",
       "      <td>Masculino</td>\n",
       "      <td>nao</td>\n",
       "      <td>dom</td>\n",
       "      <td>jantar</td>\n",
       "      <td>3</td>\n",
       "      <td>60</td>\n",
       "      <td>53.768</td>\n",
       "      <td>baixo</td>\n",
       "      <td>0</td>\n",
       "    </tr>\n",
       "    <tr>\n",
       "      <th>2</th>\n",
       "      <td>21.01</td>\n",
       "      <td>3.50</td>\n",
       "      <td>Masculino</td>\n",
       "      <td>nao</td>\n",
       "      <td>dom</td>\n",
       "      <td>jantar</td>\n",
       "      <td>3</td>\n",
       "      <td>60</td>\n",
       "      <td>109.252</td>\n",
       "      <td>baixo</td>\n",
       "      <td>0</td>\n",
       "    </tr>\n",
       "    <tr>\n",
       "      <th>3</th>\n",
       "      <td>23.68</td>\n",
       "      <td>3.31</td>\n",
       "      <td>Masculino</td>\n",
       "      <td>nao</td>\n",
       "      <td>dom</td>\n",
       "      <td>jantar</td>\n",
       "      <td>2</td>\n",
       "      <td>60</td>\n",
       "      <td>123.136</td>\n",
       "      <td>baixo</td>\n",
       "      <td>0</td>\n",
       "    </tr>\n",
       "    <tr>\n",
       "      <th>4</th>\n",
       "      <td>24.59</td>\n",
       "      <td>3.61</td>\n",
       "      <td>Feminino</td>\n",
       "      <td>nao</td>\n",
       "      <td>dom</td>\n",
       "      <td>jantar</td>\n",
       "      <td>4</td>\n",
       "      <td>60</td>\n",
       "      <td>127.868</td>\n",
       "      <td>baixo</td>\n",
       "      <td>1</td>\n",
       "    </tr>\n",
       "    <tr>\n",
       "      <th>...</th>\n",
       "      <td>...</td>\n",
       "      <td>...</td>\n",
       "      <td>...</td>\n",
       "      <td>...</td>\n",
       "      <td>...</td>\n",
       "      <td>...</td>\n",
       "      <td>...</td>\n",
       "      <td>...</td>\n",
       "      <td>...</td>\n",
       "      <td>...</td>\n",
       "      <td>...</td>\n",
       "    </tr>\n",
       "    <tr>\n",
       "      <th>239</th>\n",
       "      <td>29.03</td>\n",
       "      <td>5.92</td>\n",
       "      <td>Masculino</td>\n",
       "      <td>nao</td>\n",
       "      <td>sab</td>\n",
       "      <td>jantar</td>\n",
       "      <td>3</td>\n",
       "      <td>40</td>\n",
       "      <td>150.956</td>\n",
       "      <td>baixo</td>\n",
       "      <td>0</td>\n",
       "    </tr>\n",
       "    <tr>\n",
       "      <th>240</th>\n",
       "      <td>27.18</td>\n",
       "      <td>2.00</td>\n",
       "      <td>Feminino</td>\n",
       "      <td>sim</td>\n",
       "      <td>sab</td>\n",
       "      <td>jantar</td>\n",
       "      <td>2</td>\n",
       "      <td>35</td>\n",
       "      <td>141.336</td>\n",
       "      <td>baixo</td>\n",
       "      <td>1</td>\n",
       "    </tr>\n",
       "    <tr>\n",
       "      <th>241</th>\n",
       "      <td>22.67</td>\n",
       "      <td>2.00</td>\n",
       "      <td>Masculino</td>\n",
       "      <td>sim</td>\n",
       "      <td>sab</td>\n",
       "      <td>jantar</td>\n",
       "      <td>2</td>\n",
       "      <td>30</td>\n",
       "      <td>117.884</td>\n",
       "      <td>baixo</td>\n",
       "      <td>0</td>\n",
       "    </tr>\n",
       "    <tr>\n",
       "      <th>242</th>\n",
       "      <td>17.82</td>\n",
       "      <td>1.75</td>\n",
       "      <td>Masculino</td>\n",
       "      <td>nao</td>\n",
       "      <td>sab</td>\n",
       "      <td>jantar</td>\n",
       "      <td>2</td>\n",
       "      <td>38</td>\n",
       "      <td>92.664</td>\n",
       "      <td>baixo</td>\n",
       "      <td>0</td>\n",
       "    </tr>\n",
       "    <tr>\n",
       "      <th>243</th>\n",
       "      <td>18.78</td>\n",
       "      <td>3.00</td>\n",
       "      <td>Feminino</td>\n",
       "      <td>nao</td>\n",
       "      <td>qui</td>\n",
       "      <td>jantar</td>\n",
       "      <td>2</td>\n",
       "      <td>40</td>\n",
       "      <td>97.656</td>\n",
       "      <td>baixo</td>\n",
       "      <td>1</td>\n",
       "    </tr>\n",
       "  </tbody>\n",
       "</table>\n",
       "<p>244 rows × 11 columns</p>\n",
       "</div>"
      ],
      "text/plain": [
       "     TotalConta  Gorjeta     Genero Fumante  Dia Horario  PessoasMesa  \\\n",
       "0         16.99     1.01   Feminino     nao  dom  jantar            2   \n",
       "1         10.34     1.66  Masculino     nao  dom  jantar            3   \n",
       "2         21.01     3.50  Masculino     nao  dom  jantar            3   \n",
       "3         23.68     3.31  Masculino     nao  dom  jantar            2   \n",
       "4         24.59     3.61   Feminino     nao  dom  jantar            4   \n",
       "..          ...      ...        ...     ...  ...     ...          ...   \n",
       "239       29.03     5.92  Masculino     nao  sab  jantar            3   \n",
       "240       27.18     2.00   Feminino     sim  sab  jantar            2   \n",
       "241       22.67     2.00  Masculino     sim  sab  jantar            2   \n",
       "242       17.82     1.75  Masculino     nao  sab  jantar            2   \n",
       "243       18.78     3.00   Feminino     nao  qui  jantar            2   \n",
       "\n",
       "     TempoPermanencia  TotalContaReais TipoTicket  genero2  \n",
       "0                  60           88.348      baixo        1  \n",
       "1                  60           53.768      baixo        0  \n",
       "2                  60          109.252      baixo        0  \n",
       "3                  60          123.136      baixo        0  \n",
       "4                  60          127.868      baixo        1  \n",
       "..                ...              ...        ...      ...  \n",
       "239                40          150.956      baixo        0  \n",
       "240                35          141.336      baixo        1  \n",
       "241                30          117.884      baixo        0  \n",
       "242                38           92.664      baixo        0  \n",
       "243                40           97.656      baixo        1  \n",
       "\n",
       "[244 rows x 11 columns]"
      ]
     },
     "execution_count": 75,
     "metadata": {},
     "output_type": "execute_result"
    }
   ],
   "source": [
    "# podemos usar o metodo .map() que mapeia os dados atraves de um dicionario\n",
    "# criamos o dicionario\n",
    "de_para ={'Feminino' : 1, 'Masculino' : 0}\n",
    "\n",
    "# cria a coluna genero2\n",
    "df2['genero2'] = df2['Genero'].map(de_para)\n",
    "\n",
    "# Print the DataFrame\n",
    "df2"
   ]
  },
  {
   "cell_type": "markdown",
   "metadata": {
    "collapsed": false,
    "pycharm": {
     "name": "#%% md\n"
    }
   },
   "source": [
    "### 5.Ordenar de acordo com uma ou mais colunas"
   ]
  },
  {
   "cell_type": "markdown",
   "metadata": {
    "collapsed": false,
    "pycharm": {
     "name": "#%% md\n"
    }
   },
   "source": [
    "Classificando o df em ordem crescente"
   ]
  },
  {
   "cell_type": "code",
   "execution_count": 78,
   "metadata": {
    "collapsed": false,
    "pycharm": {
     "name": "#%%\n"
    }
   },
   "outputs": [
    {
     "data": {
      "text/html": [
       "<div>\n",
       "<style scoped>\n",
       "    .dataframe tbody tr th:only-of-type {\n",
       "        vertical-align: middle;\n",
       "    }\n",
       "\n",
       "    .dataframe tbody tr th {\n",
       "        vertical-align: top;\n",
       "    }\n",
       "\n",
       "    .dataframe thead th {\n",
       "        text-align: right;\n",
       "    }\n",
       "</style>\n",
       "<table border=\"1\" class=\"dataframe\">\n",
       "  <thead>\n",
       "    <tr style=\"text-align: right;\">\n",
       "      <th></th>\n",
       "      <th>TotalConta</th>\n",
       "      <th>Gorjeta</th>\n",
       "      <th>Genero</th>\n",
       "      <th>Fumante</th>\n",
       "      <th>Dia</th>\n",
       "      <th>Horario</th>\n",
       "      <th>PessoasMesa</th>\n",
       "      <th>TempoPermanencia</th>\n",
       "      <th>TipoTicket</th>\n",
       "    </tr>\n",
       "  </thead>\n",
       "  <tbody>\n",
       "    <tr>\n",
       "      <th>0</th>\n",
       "      <td>16.99</td>\n",
       "      <td>1.01</td>\n",
       "      <td>Feminino</td>\n",
       "      <td>nao</td>\n",
       "      <td>dom</td>\n",
       "      <td>jantar</td>\n",
       "      <td>2</td>\n",
       "      <td>41</td>\n",
       "      <td>baixo</td>\n",
       "    </tr>\n",
       "    <tr>\n",
       "      <th>4</th>\n",
       "      <td>24.59</td>\n",
       "      <td>3.61</td>\n",
       "      <td>Feminino</td>\n",
       "      <td>nao</td>\n",
       "      <td>dom</td>\n",
       "      <td>jantar</td>\n",
       "      <td>4</td>\n",
       "      <td>34</td>\n",
       "      <td>baixo</td>\n",
       "    </tr>\n",
       "    <tr>\n",
       "      <th>11</th>\n",
       "      <td>35.26</td>\n",
       "      <td>5.00</td>\n",
       "      <td>Feminino</td>\n",
       "      <td>nao</td>\n",
       "      <td>dom</td>\n",
       "      <td>jantar</td>\n",
       "      <td>4</td>\n",
       "      <td>38</td>\n",
       "      <td>medio</td>\n",
       "    </tr>\n",
       "    <tr>\n",
       "      <th>14</th>\n",
       "      <td>14.83</td>\n",
       "      <td>3.02</td>\n",
       "      <td>Feminino</td>\n",
       "      <td>nao</td>\n",
       "      <td>dom</td>\n",
       "      <td>jantar</td>\n",
       "      <td>2</td>\n",
       "      <td>42</td>\n",
       "      <td>baixo</td>\n",
       "    </tr>\n",
       "    <tr>\n",
       "      <th>16</th>\n",
       "      <td>10.33</td>\n",
       "      <td>1.67</td>\n",
       "      <td>Feminino</td>\n",
       "      <td>nao</td>\n",
       "      <td>dom</td>\n",
       "      <td>jantar</td>\n",
       "      <td>3</td>\n",
       "      <td>35</td>\n",
       "      <td>baixo</td>\n",
       "    </tr>\n",
       "    <tr>\n",
       "      <th>...</th>\n",
       "      <td>...</td>\n",
       "      <td>...</td>\n",
       "      <td>...</td>\n",
       "      <td>...</td>\n",
       "      <td>...</td>\n",
       "      <td>...</td>\n",
       "      <td>...</td>\n",
       "      <td>...</td>\n",
       "      <td>...</td>\n",
       "    </tr>\n",
       "    <tr>\n",
       "      <th>200</th>\n",
       "      <td>18.71</td>\n",
       "      <td>4.00</td>\n",
       "      <td>Masculino</td>\n",
       "      <td>sim</td>\n",
       "      <td>qui</td>\n",
       "      <td>almoco</td>\n",
       "      <td>3</td>\n",
       "      <td>48</td>\n",
       "      <td>baixo</td>\n",
       "    </tr>\n",
       "    <tr>\n",
       "      <th>204</th>\n",
       "      <td>20.53</td>\n",
       "      <td>4.00</td>\n",
       "      <td>Masculino</td>\n",
       "      <td>sim</td>\n",
       "      <td>qui</td>\n",
       "      <td>almoco</td>\n",
       "      <td>4</td>\n",
       "      <td>45</td>\n",
       "      <td>baixo</td>\n",
       "    </tr>\n",
       "    <tr>\n",
       "      <th>220</th>\n",
       "      <td>12.16</td>\n",
       "      <td>2.20</td>\n",
       "      <td>Masculino</td>\n",
       "      <td>sim</td>\n",
       "      <td>sex</td>\n",
       "      <td>almoco</td>\n",
       "      <td>2</td>\n",
       "      <td>49</td>\n",
       "      <td>baixo</td>\n",
       "    </tr>\n",
       "    <tr>\n",
       "      <th>222</th>\n",
       "      <td>8.58</td>\n",
       "      <td>1.92</td>\n",
       "      <td>Masculino</td>\n",
       "      <td>sim</td>\n",
       "      <td>sex</td>\n",
       "      <td>almoco</td>\n",
       "      <td>1</td>\n",
       "      <td>36</td>\n",
       "      <td>baixo</td>\n",
       "    </tr>\n",
       "    <tr>\n",
       "      <th>224</th>\n",
       "      <td>13.42</td>\n",
       "      <td>1.58</td>\n",
       "      <td>Masculino</td>\n",
       "      <td>sim</td>\n",
       "      <td>sex</td>\n",
       "      <td>almoco</td>\n",
       "      <td>2</td>\n",
       "      <td>45</td>\n",
       "      <td>baixo</td>\n",
       "    </tr>\n",
       "  </tbody>\n",
       "</table>\n",
       "<p>244 rows × 9 columns</p>\n",
       "</div>"
      ],
      "text/plain": [
       "     TotalConta  Gorjeta     Genero Fumante  Dia Horario  PessoasMesa  \\\n",
       "0         16.99     1.01   Feminino     nao  dom  jantar            2   \n",
       "4         24.59     3.61   Feminino     nao  dom  jantar            4   \n",
       "11        35.26     5.00   Feminino     nao  dom  jantar            4   \n",
       "14        14.83     3.02   Feminino     nao  dom  jantar            2   \n",
       "16        10.33     1.67   Feminino     nao  dom  jantar            3   \n",
       "..          ...      ...        ...     ...  ...     ...          ...   \n",
       "200       18.71     4.00  Masculino     sim  qui  almoco            3   \n",
       "204       20.53     4.00  Masculino     sim  qui  almoco            4   \n",
       "220       12.16     2.20  Masculino     sim  sex  almoco            2   \n",
       "222        8.58     1.92  Masculino     sim  sex  almoco            1   \n",
       "224       13.42     1.58  Masculino     sim  sex  almoco            2   \n",
       "\n",
       "     TempoPermanencia TipoTicket  \n",
       "0                  41      baixo  \n",
       "4                  34      baixo  \n",
       "11                 38      medio  \n",
       "14                 42      baixo  \n",
       "16                 35      baixo  \n",
       "..                ...        ...  \n",
       "200                48      baixo  \n",
       "204                45      baixo  \n",
       "220                49      baixo  \n",
       "222                36      baixo  \n",
       "224                45      baixo  \n",
       "\n",
       "[244 rows x 9 columns]"
      ]
     },
     "execution_count": 78,
     "metadata": {},
     "output_type": "execute_result"
    }
   ],
   "source": [
    "# sort pela coluna 'horario'\n",
    "df.sort_values(by=['Horario'])\n",
    "# sort pela coluna 'horario' em ordem decrescente e pela coluna genero em ordem crescente\n",
    "df.sort_values(by=['Horario','Genero'], ascending=[False,True])"
   ]
  },
  {
   "cell_type": "markdown",
   "metadata": {
    "collapsed": false,
    "pycharm": {
     "name": "#%% md\n"
    }
   },
   "source": [
    "Classificando o df em ordem decrescente"
   ]
  },
  {
   "cell_type": "code",
   "execution_count": 100,
   "metadata": {
    "collapsed": false,
    "pycharm": {
     "name": "#%%\n"
    }
   },
   "outputs": [
    {
     "data": {
      "text/html": [
       "<div>\n",
       "<style scoped>\n",
       "    .dataframe tbody tr th:only-of-type {\n",
       "        vertical-align: middle;\n",
       "    }\n",
       "\n",
       "    .dataframe tbody tr th {\n",
       "        vertical-align: top;\n",
       "    }\n",
       "\n",
       "    .dataframe thead th {\n",
       "        text-align: right;\n",
       "    }\n",
       "</style>\n",
       "<table border=\"1\" class=\"dataframe\">\n",
       "  <thead>\n",
       "    <tr style=\"text-align: right;\">\n",
       "      <th></th>\n",
       "      <th>total_conta</th>\n",
       "      <th>gorjeta</th>\n",
       "      <th>genero</th>\n",
       "      <th>fumante</th>\n",
       "      <th>dia</th>\n",
       "      <th>horario</th>\n",
       "      <th>pessoas_mesa</th>\n",
       "      <th>tempo_permanencia</th>\n",
       "    </tr>\n",
       "  </thead>\n",
       "  <tbody>\n",
       "    <tr>\n",
       "      <th>0</th>\n",
       "      <td>16.99</td>\n",
       "      <td>1.01</td>\n",
       "      <td>Feminino</td>\n",
       "      <td>nao</td>\n",
       "      <td>dom</td>\n",
       "      <td>jantar</td>\n",
       "      <td>2</td>\n",
       "      <td>41</td>\n",
       "    </tr>\n",
       "    <tr>\n",
       "      <th>162</th>\n",
       "      <td>16.21</td>\n",
       "      <td>2.00</td>\n",
       "      <td>Feminino</td>\n",
       "      <td>nao</td>\n",
       "      <td>dom</td>\n",
       "      <td>jantar</td>\n",
       "      <td>3</td>\n",
       "      <td>46</td>\n",
       "    </tr>\n",
       "    <tr>\n",
       "      <th>153</th>\n",
       "      <td>24.55</td>\n",
       "      <td>2.00</td>\n",
       "      <td>Masculino</td>\n",
       "      <td>nao</td>\n",
       "      <td>dom</td>\n",
       "      <td>jantar</td>\n",
       "      <td>4</td>\n",
       "      <td>33</td>\n",
       "    </tr>\n",
       "    <tr>\n",
       "      <th>154</th>\n",
       "      <td>19.77</td>\n",
       "      <td>2.00</td>\n",
       "      <td>Masculino</td>\n",
       "      <td>nao</td>\n",
       "      <td>dom</td>\n",
       "      <td>jantar</td>\n",
       "      <td>4</td>\n",
       "      <td>39</td>\n",
       "    </tr>\n",
       "    <tr>\n",
       "      <th>155</th>\n",
       "      <td>29.85</td>\n",
       "      <td>5.14</td>\n",
       "      <td>Feminino</td>\n",
       "      <td>nao</td>\n",
       "      <td>dom</td>\n",
       "      <td>jantar</td>\n",
       "      <td>5</td>\n",
       "      <td>38</td>\n",
       "    </tr>\n",
       "    <tr>\n",
       "      <th>...</th>\n",
       "      <td>...</td>\n",
       "      <td>...</td>\n",
       "      <td>...</td>\n",
       "      <td>...</td>\n",
       "      <td>...</td>\n",
       "      <td>...</td>\n",
       "      <td>...</td>\n",
       "      <td>...</td>\n",
       "    </tr>\n",
       "    <tr>\n",
       "      <th>191</th>\n",
       "      <td>19.81</td>\n",
       "      <td>4.19</td>\n",
       "      <td>Feminino</td>\n",
       "      <td>sim</td>\n",
       "      <td>qui</td>\n",
       "      <td>almoco</td>\n",
       "      <td>2</td>\n",
       "      <td>32</td>\n",
       "    </tr>\n",
       "    <tr>\n",
       "      <th>128</th>\n",
       "      <td>11.38</td>\n",
       "      <td>2.00</td>\n",
       "      <td>Feminino</td>\n",
       "      <td>nao</td>\n",
       "      <td>qui</td>\n",
       "      <td>almoco</td>\n",
       "      <td>2</td>\n",
       "      <td>36</td>\n",
       "    </tr>\n",
       "    <tr>\n",
       "      <th>129</th>\n",
       "      <td>22.82</td>\n",
       "      <td>2.18</td>\n",
       "      <td>Masculino</td>\n",
       "      <td>nao</td>\n",
       "      <td>qui</td>\n",
       "      <td>almoco</td>\n",
       "      <td>3</td>\n",
       "      <td>46</td>\n",
       "    </tr>\n",
       "    <tr>\n",
       "      <th>130</th>\n",
       "      <td>19.08</td>\n",
       "      <td>1.50</td>\n",
       "      <td>Masculino</td>\n",
       "      <td>nao</td>\n",
       "      <td>qui</td>\n",
       "      <td>almoco</td>\n",
       "      <td>2</td>\n",
       "      <td>36</td>\n",
       "    </tr>\n",
       "    <tr>\n",
       "      <th>122</th>\n",
       "      <td>14.26</td>\n",
       "      <td>2.50</td>\n",
       "      <td>Masculino</td>\n",
       "      <td>nao</td>\n",
       "      <td>qui</td>\n",
       "      <td>almoco</td>\n",
       "      <td>2</td>\n",
       "      <td>36</td>\n",
       "    </tr>\n",
       "  </tbody>\n",
       "</table>\n",
       "<p>244 rows × 8 columns</p>\n",
       "</div>"
      ],
      "text/plain": [
       "     total_conta  gorjeta     genero fumante  dia horario  pessoas_mesa  \\\n",
       "0          16.99     1.01   Feminino     nao  dom  jantar             2   \n",
       "162        16.21     2.00   Feminino     nao  dom  jantar             3   \n",
       "153        24.55     2.00  Masculino     nao  dom  jantar             4   \n",
       "154        19.77     2.00  Masculino     nao  dom  jantar             4   \n",
       "155        29.85     5.14   Feminino     nao  dom  jantar             5   \n",
       "..           ...      ...        ...     ...  ...     ...           ...   \n",
       "191        19.81     4.19   Feminino     sim  qui  almoco             2   \n",
       "128        11.38     2.00   Feminino     nao  qui  almoco             2   \n",
       "129        22.82     2.18  Masculino     nao  qui  almoco             3   \n",
       "130        19.08     1.50  Masculino     nao  qui  almoco             2   \n",
       "122        14.26     2.50  Masculino     nao  qui  almoco             2   \n",
       "\n",
       "     tempo_permanencia  \n",
       "0                   41  \n",
       "162                 46  \n",
       "153                 33  \n",
       "154                 39  \n",
       "155                 38  \n",
       "..                 ...  \n",
       "191                 32  \n",
       "128                 36  \n",
       "129                 46  \n",
       "130                 36  \n",
       "122                 36  \n",
       "\n",
       "[244 rows x 8 columns]"
      ]
     },
     "execution_count": 100,
     "metadata": {},
     "output_type": "execute_result"
    }
   ],
   "source": [
    "# sort pela coluna 'horario'\n",
    "df.sort_values(by=['horario'], ascending=False)"
   ]
  },
  {
   "cell_type": "markdown",
   "metadata": {
    "collapsed": false,
    "pycharm": {
     "name": "#%% md\n"
    }
   },
   "source": [
    "Classificando o df colocando os valores ausentes primeiro"
   ]
  },
  {
   "cell_type": "code",
   "execution_count": 80,
   "metadata": {
    "collapsed": false,
    "pycharm": {
     "name": "#%%\n"
    }
   },
   "outputs": [
    {
     "data": {
      "text/html": [
       "<div>\n",
       "<style scoped>\n",
       "    .dataframe tbody tr th:only-of-type {\n",
       "        vertical-align: middle;\n",
       "    }\n",
       "\n",
       "    .dataframe tbody tr th {\n",
       "        vertical-align: top;\n",
       "    }\n",
       "\n",
       "    .dataframe thead th {\n",
       "        text-align: right;\n",
       "    }\n",
       "</style>\n",
       "<table border=\"1\" class=\"dataframe\">\n",
       "  <thead>\n",
       "    <tr style=\"text-align: right;\">\n",
       "      <th></th>\n",
       "      <th>TotalConta</th>\n",
       "      <th>Gorjeta</th>\n",
       "      <th>Genero</th>\n",
       "      <th>Fumante</th>\n",
       "      <th>Dia</th>\n",
       "      <th>Horario</th>\n",
       "      <th>PessoasMesa</th>\n",
       "      <th>TempoPermanencia</th>\n",
       "      <th>TipoTicket</th>\n",
       "    </tr>\n",
       "  </thead>\n",
       "  <tbody>\n",
       "    <tr>\n",
       "      <th>121</th>\n",
       "      <td>13.42</td>\n",
       "      <td>1.68</td>\n",
       "      <td>Feminino</td>\n",
       "      <td>nao</td>\n",
       "      <td>qui</td>\n",
       "      <td>almoco</td>\n",
       "      <td>2</td>\n",
       "      <td>33</td>\n",
       "      <td>baixo</td>\n",
       "    </tr>\n",
       "    <tr>\n",
       "      <th>145</th>\n",
       "      <td>8.35</td>\n",
       "      <td>1.50</td>\n",
       "      <td>Feminino</td>\n",
       "      <td>nao</td>\n",
       "      <td>qui</td>\n",
       "      <td>almoco</td>\n",
       "      <td>2</td>\n",
       "      <td>48</td>\n",
       "      <td>baixo</td>\n",
       "    </tr>\n",
       "    <tr>\n",
       "      <th>146</th>\n",
       "      <td>18.64</td>\n",
       "      <td>1.36</td>\n",
       "      <td>Feminino</td>\n",
       "      <td>nao</td>\n",
       "      <td>qui</td>\n",
       "      <td>almoco</td>\n",
       "      <td>3</td>\n",
       "      <td>38</td>\n",
       "      <td>baixo</td>\n",
       "    </tr>\n",
       "    <tr>\n",
       "      <th>147</th>\n",
       "      <td>11.87</td>\n",
       "      <td>1.63</td>\n",
       "      <td>Feminino</td>\n",
       "      <td>nao</td>\n",
       "      <td>qui</td>\n",
       "      <td>almoco</td>\n",
       "      <td>2</td>\n",
       "      <td>49</td>\n",
       "      <td>baixo</td>\n",
       "    </tr>\n",
       "    <tr>\n",
       "      <th>148</th>\n",
       "      <td>9.78</td>\n",
       "      <td>1.73</td>\n",
       "      <td>Masculino</td>\n",
       "      <td>nao</td>\n",
       "      <td>qui</td>\n",
       "      <td>almoco</td>\n",
       "      <td>2</td>\n",
       "      <td>50</td>\n",
       "      <td>baixo</td>\n",
       "    </tr>\n",
       "    <tr>\n",
       "      <th>...</th>\n",
       "      <td>...</td>\n",
       "      <td>...</td>\n",
       "      <td>...</td>\n",
       "      <td>...</td>\n",
       "      <td>...</td>\n",
       "      <td>...</td>\n",
       "      <td>...</td>\n",
       "      <td>...</td>\n",
       "      <td>...</td>\n",
       "    </tr>\n",
       "    <tr>\n",
       "      <th>74</th>\n",
       "      <td>14.73</td>\n",
       "      <td>2.20</td>\n",
       "      <td>Feminino</td>\n",
       "      <td>nao</td>\n",
       "      <td>sab</td>\n",
       "      <td>jantar</td>\n",
       "      <td>2</td>\n",
       "      <td>43</td>\n",
       "      <td>baixo</td>\n",
       "    </tr>\n",
       "    <tr>\n",
       "      <th>75</th>\n",
       "      <td>10.51</td>\n",
       "      <td>1.25</td>\n",
       "      <td>Masculino</td>\n",
       "      <td>nao</td>\n",
       "      <td>sab</td>\n",
       "      <td>jantar</td>\n",
       "      <td>2</td>\n",
       "      <td>32</td>\n",
       "      <td>baixo</td>\n",
       "    </tr>\n",
       "    <tr>\n",
       "      <th>76</th>\n",
       "      <td>17.92</td>\n",
       "      <td>3.08</td>\n",
       "      <td>Masculino</td>\n",
       "      <td>sim</td>\n",
       "      <td>sab</td>\n",
       "      <td>jantar</td>\n",
       "      <td>2</td>\n",
       "      <td>35</td>\n",
       "      <td>baixo</td>\n",
       "    </tr>\n",
       "    <tr>\n",
       "      <th>52</th>\n",
       "      <td>34.81</td>\n",
       "      <td>5.20</td>\n",
       "      <td>Feminino</td>\n",
       "      <td>nao</td>\n",
       "      <td>dom</td>\n",
       "      <td>jantar</td>\n",
       "      <td>4</td>\n",
       "      <td>40</td>\n",
       "      <td>medio</td>\n",
       "    </tr>\n",
       "    <tr>\n",
       "      <th>243</th>\n",
       "      <td>18.78</td>\n",
       "      <td>3.00</td>\n",
       "      <td>Feminino</td>\n",
       "      <td>nao</td>\n",
       "      <td>qui</td>\n",
       "      <td>jantar</td>\n",
       "      <td>2</td>\n",
       "      <td>40</td>\n",
       "      <td>baixo</td>\n",
       "    </tr>\n",
       "  </tbody>\n",
       "</table>\n",
       "<p>244 rows × 9 columns</p>\n",
       "</div>"
      ],
      "text/plain": [
       "     TotalConta  Gorjeta     Genero Fumante  Dia Horario  PessoasMesa  \\\n",
       "121       13.42     1.68   Feminino     nao  qui  almoco            2   \n",
       "145        8.35     1.50   Feminino     nao  qui  almoco            2   \n",
       "146       18.64     1.36   Feminino     nao  qui  almoco            3   \n",
       "147       11.87     1.63   Feminino     nao  qui  almoco            2   \n",
       "148        9.78     1.73  Masculino     nao  qui  almoco            2   \n",
       "..          ...      ...        ...     ...  ...     ...          ...   \n",
       "74        14.73     2.20   Feminino     nao  sab  jantar            2   \n",
       "75        10.51     1.25  Masculino     nao  sab  jantar            2   \n",
       "76        17.92     3.08  Masculino     sim  sab  jantar            2   \n",
       "52        34.81     5.20   Feminino     nao  dom  jantar            4   \n",
       "243       18.78     3.00   Feminino     nao  qui  jantar            2   \n",
       "\n",
       "     TempoPermanencia TipoTicket  \n",
       "121                33      baixo  \n",
       "145                48      baixo  \n",
       "146                38      baixo  \n",
       "147                49      baixo  \n",
       "148                50      baixo  \n",
       "..                ...        ...  \n",
       "74                 43      baixo  \n",
       "75                 32      baixo  \n",
       "76                 35      baixo  \n",
       "52                 40      medio  \n",
       "243                40      baixo  \n",
       "\n",
       "[244 rows x 9 columns]"
      ]
     },
     "execution_count": 80,
     "metadata": {},
     "output_type": "execute_result"
    }
   ],
   "source": [
    "# sort pela coluna 'horario'\n",
    "# colocando os valores nulos primeiro\n",
    "df.sort_values(by=['Horario'], na_position='first') # nao temos NA, lembram?"
   ]
  },
  {
   "cell_type": "markdown",
   "metadata": {
    "collapsed": false,
    "pycharm": {
     "name": "#%% md\n"
    }
   },
   "source": [
    "Classificando o df por várias colunas, mas em ordem diferente"
   ]
  },
  {
   "cell_type": "code",
   "execution_count": 85,
   "metadata": {
    "collapsed": false,
    "pycharm": {
     "name": "#%%\n"
    }
   },
   "outputs": [
    {
     "data": {
      "text/html": [
       "<div>\n",
       "<style scoped>\n",
       "    .dataframe tbody tr th:only-of-type {\n",
       "        vertical-align: middle;\n",
       "    }\n",
       "\n",
       "    .dataframe tbody tr th {\n",
       "        vertical-align: top;\n",
       "    }\n",
       "\n",
       "    .dataframe thead th {\n",
       "        text-align: right;\n",
       "    }\n",
       "</style>\n",
       "<table border=\"1\" class=\"dataframe\">\n",
       "  <thead>\n",
       "    <tr style=\"text-align: right;\">\n",
       "      <th></th>\n",
       "      <th>TotalConta</th>\n",
       "      <th>Gorjeta</th>\n",
       "      <th>Genero</th>\n",
       "      <th>Fumante</th>\n",
       "      <th>Dia</th>\n",
       "      <th>Horario</th>\n",
       "      <th>PessoasMesa</th>\n",
       "      <th>TempoPermanencia</th>\n",
       "      <th>TipoTicket</th>\n",
       "    </tr>\n",
       "  </thead>\n",
       "  <tbody>\n",
       "    <tr>\n",
       "      <th>0</th>\n",
       "      <td>16.99</td>\n",
       "      <td>1.01</td>\n",
       "      <td>Feminino</td>\n",
       "      <td>nao</td>\n",
       "      <td>dom</td>\n",
       "      <td>jantar</td>\n",
       "      <td>2</td>\n",
       "      <td>41</td>\n",
       "      <td>baixo</td>\n",
       "    </tr>\n",
       "    <tr>\n",
       "      <th>4</th>\n",
       "      <td>24.59</td>\n",
       "      <td>3.61</td>\n",
       "      <td>Feminino</td>\n",
       "      <td>nao</td>\n",
       "      <td>dom</td>\n",
       "      <td>jantar</td>\n",
       "      <td>4</td>\n",
       "      <td>34</td>\n",
       "      <td>baixo</td>\n",
       "    </tr>\n",
       "    <tr>\n",
       "      <th>11</th>\n",
       "      <td>35.26</td>\n",
       "      <td>5.00</td>\n",
       "      <td>Feminino</td>\n",
       "      <td>nao</td>\n",
       "      <td>dom</td>\n",
       "      <td>jantar</td>\n",
       "      <td>4</td>\n",
       "      <td>38</td>\n",
       "      <td>medio</td>\n",
       "    </tr>\n",
       "    <tr>\n",
       "      <th>14</th>\n",
       "      <td>14.83</td>\n",
       "      <td>3.02</td>\n",
       "      <td>Feminino</td>\n",
       "      <td>nao</td>\n",
       "      <td>dom</td>\n",
       "      <td>jantar</td>\n",
       "      <td>2</td>\n",
       "      <td>42</td>\n",
       "      <td>baixo</td>\n",
       "    </tr>\n",
       "    <tr>\n",
       "      <th>16</th>\n",
       "      <td>10.33</td>\n",
       "      <td>1.67</td>\n",
       "      <td>Feminino</td>\n",
       "      <td>nao</td>\n",
       "      <td>dom</td>\n",
       "      <td>jantar</td>\n",
       "      <td>3</td>\n",
       "      <td>35</td>\n",
       "      <td>baixo</td>\n",
       "    </tr>\n",
       "    <tr>\n",
       "      <th>...</th>\n",
       "      <td>...</td>\n",
       "      <td>...</td>\n",
       "      <td>...</td>\n",
       "      <td>...</td>\n",
       "      <td>...</td>\n",
       "      <td>...</td>\n",
       "      <td>...</td>\n",
       "      <td>...</td>\n",
       "      <td>...</td>\n",
       "    </tr>\n",
       "    <tr>\n",
       "      <th>200</th>\n",
       "      <td>18.71</td>\n",
       "      <td>4.00</td>\n",
       "      <td>Masculino</td>\n",
       "      <td>sim</td>\n",
       "      <td>qui</td>\n",
       "      <td>almoco</td>\n",
       "      <td>3</td>\n",
       "      <td>48</td>\n",
       "      <td>baixo</td>\n",
       "    </tr>\n",
       "    <tr>\n",
       "      <th>204</th>\n",
       "      <td>20.53</td>\n",
       "      <td>4.00</td>\n",
       "      <td>Masculino</td>\n",
       "      <td>sim</td>\n",
       "      <td>qui</td>\n",
       "      <td>almoco</td>\n",
       "      <td>4</td>\n",
       "      <td>45</td>\n",
       "      <td>baixo</td>\n",
       "    </tr>\n",
       "    <tr>\n",
       "      <th>220</th>\n",
       "      <td>12.16</td>\n",
       "      <td>2.20</td>\n",
       "      <td>Masculino</td>\n",
       "      <td>sim</td>\n",
       "      <td>sex</td>\n",
       "      <td>almoco</td>\n",
       "      <td>2</td>\n",
       "      <td>49</td>\n",
       "      <td>baixo</td>\n",
       "    </tr>\n",
       "    <tr>\n",
       "      <th>222</th>\n",
       "      <td>8.58</td>\n",
       "      <td>1.92</td>\n",
       "      <td>Masculino</td>\n",
       "      <td>sim</td>\n",
       "      <td>sex</td>\n",
       "      <td>almoco</td>\n",
       "      <td>1</td>\n",
       "      <td>36</td>\n",
       "      <td>baixo</td>\n",
       "    </tr>\n",
       "    <tr>\n",
       "      <th>224</th>\n",
       "      <td>13.42</td>\n",
       "      <td>1.58</td>\n",
       "      <td>Masculino</td>\n",
       "      <td>sim</td>\n",
       "      <td>sex</td>\n",
       "      <td>almoco</td>\n",
       "      <td>2</td>\n",
       "      <td>45</td>\n",
       "      <td>baixo</td>\n",
       "    </tr>\n",
       "  </tbody>\n",
       "</table>\n",
       "<p>244 rows × 9 columns</p>\n",
       "</div>"
      ],
      "text/plain": [
       "     TotalConta  Gorjeta     Genero Fumante  Dia Horario  PessoasMesa  \\\n",
       "0         16.99     1.01   Feminino     nao  dom  jantar            2   \n",
       "4         24.59     3.61   Feminino     nao  dom  jantar            4   \n",
       "11        35.26     5.00   Feminino     nao  dom  jantar            4   \n",
       "14        14.83     3.02   Feminino     nao  dom  jantar            2   \n",
       "16        10.33     1.67   Feminino     nao  dom  jantar            3   \n",
       "..          ...      ...        ...     ...  ...     ...          ...   \n",
       "200       18.71     4.00  Masculino     sim  qui  almoco            3   \n",
       "204       20.53     4.00  Masculino     sim  qui  almoco            4   \n",
       "220       12.16     2.20  Masculino     sim  sex  almoco            2   \n",
       "222        8.58     1.92  Masculino     sim  sex  almoco            1   \n",
       "224       13.42     1.58  Masculino     sim  sex  almoco            2   \n",
       "\n",
       "     TempoPermanencia TipoTicket  \n",
       "0                  41      baixo  \n",
       "4                  34      baixo  \n",
       "11                 38      medio  \n",
       "14                 42      baixo  \n",
       "16                 35      baixo  \n",
       "..                ...        ...  \n",
       "200                48      baixo  \n",
       "204                45      baixo  \n",
       "220                49      baixo  \n",
       "222                36      baixo  \n",
       "224                45      baixo  \n",
       "\n",
       "[244 rows x 9 columns]"
      ]
     },
     "execution_count": 85,
     "metadata": {},
     "output_type": "execute_result"
    }
   ],
   "source": [
    "# sort pela coluna 'horario' em ordem descrecente e pela coluna 'genero' em ordem crescente\n",
    "df.sort_values(by=['Horario', 'Genero'], ascending=[False, True])"
   ]
  },
  {
   "cell_type": "markdown",
   "metadata": {
    "collapsed": false,
    "pycharm": {
     "name": "#%% md\n"
    }
   },
   "source": [
    "### 6.Summarizar e agregar colunas\n",
    "\n",
    "Podemos utilizar os métodos .aggregate() ou .agg() e o .groupby() ou ainda esses dois métodos juntos\n"
   ]
  },
  {
   "cell_type": "code",
   "execution_count": 83,
   "metadata": {
    "collapsed": false,
    "pycharm": {
     "name": "#%%\n"
    }
   },
   "outputs": [
    {
     "data": {
      "text/html": [
       "<div>\n",
       "<style scoped>\n",
       "    .dataframe tbody tr th:only-of-type {\n",
       "        vertical-align: middle;\n",
       "    }\n",
       "\n",
       "    .dataframe tbody tr th {\n",
       "        vertical-align: top;\n",
       "    }\n",
       "\n",
       "    .dataframe thead th {\n",
       "        text-align: right;\n",
       "    }\n",
       "</style>\n",
       "<table border=\"1\" class=\"dataframe\">\n",
       "  <thead>\n",
       "    <tr style=\"text-align: right;\">\n",
       "      <th></th>\n",
       "      <th>TotalConta</th>\n",
       "      <th>Gorjeta</th>\n",
       "    </tr>\n",
       "  </thead>\n",
       "  <tbody>\n",
       "    <tr>\n",
       "      <th>sum</th>\n",
       "      <td>4827.770000</td>\n",
       "      <td>731.580000</td>\n",
       "    </tr>\n",
       "    <tr>\n",
       "      <th>min</th>\n",
       "      <td>3.070000</td>\n",
       "      <td>1.000000</td>\n",
       "    </tr>\n",
       "    <tr>\n",
       "      <th>max</th>\n",
       "      <td>50.810000</td>\n",
       "      <td>10.000000</td>\n",
       "    </tr>\n",
       "    <tr>\n",
       "      <th>mean</th>\n",
       "      <td>19.785943</td>\n",
       "      <td>2.998279</td>\n",
       "    </tr>\n",
       "    <tr>\n",
       "      <th>median</th>\n",
       "      <td>17.795000</td>\n",
       "      <td>2.900000</td>\n",
       "    </tr>\n",
       "  </tbody>\n",
       "</table>\n",
       "</div>"
      ],
      "text/plain": [
       "         TotalConta     Gorjeta\n",
       "sum     4827.770000  731.580000\n",
       "min        3.070000    1.000000\n",
       "max       50.810000   10.000000\n",
       "mean      19.785943    2.998279\n",
       "median    17.795000    2.900000"
      ]
     },
     "execution_count": 83,
     "metadata": {},
     "output_type": "execute_result"
    }
   ],
   "source": [
    "df[['TotalConta', 'Gorjeta']].agg(['sum', 'min', 'max','mean','median'])"
   ]
  },
  {
   "cell_type": "code",
   "execution_count": 88,
   "metadata": {
    "collapsed": false,
    "pycharm": {
     "name": "#%%\n"
    }
   },
   "outputs": [
    {
     "data": {
      "text/html": [
       "<div>\n",
       "<style scoped>\n",
       "    .dataframe tbody tr th:only-of-type {\n",
       "        vertical-align: middle;\n",
       "    }\n",
       "\n",
       "    .dataframe tbody tr th {\n",
       "        vertical-align: top;\n",
       "    }\n",
       "\n",
       "    .dataframe thead th {\n",
       "        text-align: right;\n",
       "    }\n",
       "</style>\n",
       "<table border=\"1\" class=\"dataframe\">\n",
       "  <thead>\n",
       "    <tr style=\"text-align: right;\">\n",
       "      <th></th>\n",
       "      <th>TotalConta</th>\n",
       "      <th>Gorjeta</th>\n",
       "      <th>Genero</th>\n",
       "    </tr>\n",
       "  </thead>\n",
       "  <tbody>\n",
       "    <tr>\n",
       "      <th>sum</th>\n",
       "      <td>4827.770000</td>\n",
       "      <td>NaN</td>\n",
       "      <td>NaN</td>\n",
       "    </tr>\n",
       "    <tr>\n",
       "      <th>mean</th>\n",
       "      <td>19.785943</td>\n",
       "      <td>NaN</td>\n",
       "      <td>NaN</td>\n",
       "    </tr>\n",
       "    <tr>\n",
       "      <th>max</th>\n",
       "      <td>NaN</td>\n",
       "      <td>10.0</td>\n",
       "      <td>NaN</td>\n",
       "    </tr>\n",
       "    <tr>\n",
       "      <th>min</th>\n",
       "      <td>NaN</td>\n",
       "      <td>1.0</td>\n",
       "      <td>NaN</td>\n",
       "    </tr>\n",
       "    <tr>\n",
       "      <th>count</th>\n",
       "      <td>NaN</td>\n",
       "      <td>NaN</td>\n",
       "      <td>244.0</td>\n",
       "    </tr>\n",
       "  </tbody>\n",
       "</table>\n",
       "</div>"
      ],
      "text/plain": [
       "        TotalConta  Gorjeta  Genero\n",
       "sum    4827.770000      NaN     NaN\n",
       "mean     19.785943      NaN     NaN\n",
       "max            NaN     10.0     NaN\n",
       "min            NaN      1.0     NaN\n",
       "count          NaN      NaN   244.0"
      ]
     },
     "execution_count": 88,
     "metadata": {},
     "output_type": "execute_result"
    }
   ],
   "source": [
    "# agregando com base em um dicionário\n",
    "df.agg({\"TotalConta\":['sum', 'mean'],\n",
    "        \"Gorjeta\":['max', 'min'],\n",
    "        \"Genero\":['count']})"
   ]
  },
  {
   "cell_type": "code",
   "execution_count": 90,
   "metadata": {
    "collapsed": false,
    "pycharm": {
     "name": "#%%\n"
    }
   },
   "outputs": [
    {
     "data": {
      "text/plain": [
       "<pandas.core.groupby.generic.DataFrameGroupBy object at 0x7f5133652230>"
      ]
     },
     "execution_count": 90,
     "metadata": {},
     "output_type": "execute_result"
    }
   ],
   "source": [
    "df.groupby('Genero') # apenas agrupou, não retornou nada pois nada foi pedido no código"
   ]
  },
  {
   "cell_type": "code",
   "execution_count": 94,
   "metadata": {
    "collapsed": false,
    "pycharm": {
     "name": "#%%\n"
    }
   },
   "outputs": [
    {
     "name": "stdout",
     "output_type": "stream",
     "text": [
      "<pandas.core.groupby.generic.DataFrameGroupBy object at 0x7f5133614880>\n"
     ]
    }
   ],
   "source": [
    "df.groupby(['Genero', 'Horario'])"
   ]
  },
  {
   "cell_type": "markdown",
   "metadata": {
    "collapsed": false,
    "pycharm": {
     "name": "#%% md\n"
    }
   },
   "source": [
    "O groupby está esperando a operacão  ser feita pelo dado agrupado"
   ]
  },
  {
   "cell_type": "code",
   "execution_count": 101,
   "metadata": {
    "collapsed": false,
    "pycharm": {
     "name": "#%%\n"
    }
   },
   "outputs": [
    {
     "data": {
      "text/html": [
       "<div>\n",
       "<style scoped>\n",
       "    .dataframe tbody tr th:only-of-type {\n",
       "        vertical-align: middle;\n",
       "    }\n",
       "\n",
       "    .dataframe tbody tr th {\n",
       "        vertical-align: top;\n",
       "    }\n",
       "\n",
       "    .dataframe thead th {\n",
       "        text-align: right;\n",
       "    }\n",
       "</style>\n",
       "<table border=\"1\" class=\"dataframe\">\n",
       "  <thead>\n",
       "    <tr style=\"text-align: right;\">\n",
       "      <th></th>\n",
       "      <th>TotalConta</th>\n",
       "    </tr>\n",
       "    <tr>\n",
       "      <th>Genero</th>\n",
       "      <th></th>\n",
       "    </tr>\n",
       "  </thead>\n",
       "  <tbody>\n",
       "    <tr>\n",
       "      <th>Feminino</th>\n",
       "      <td>18.056897</td>\n",
       "    </tr>\n",
       "    <tr>\n",
       "      <th>Masculino</th>\n",
       "      <td>20.744076</td>\n",
       "    </tr>\n",
       "  </tbody>\n",
       "</table>\n",
       "</div>"
      ],
      "text/plain": [
       "           TotalConta\n",
       "Genero               \n",
       "Feminino    18.056897\n",
       "Masculino   20.744076"
      ]
     },
     "execution_count": 101,
     "metadata": {},
     "output_type": "execute_result"
    }
   ],
   "source": [
    "#df[[\"Genero\",\"Fumante\",\"Horario\"]].groupby(['Genero','Fumante']).count() \n",
    "#df[[\"Genero\",\"Fumante\",\"Horario\"]].groupby(['Genero']).count() \n",
    "df[[\"Genero\",\"TotalConta\"]].groupby(['Genero']).mean() \n",
    "# veja que 'genero' tem que aparecer na lista de colunas de df[]"
   ]
  },
  {
   "cell_type": "markdown",
   "metadata": {
    "collapsed": false,
    "pycharm": {
     "name": "#%% md\n"
    }
   },
   "source": [
    "Podemos agrupar os dados por gênero e calcular estatísticas báscicas para cada uma das categorias"
   ]
  },
  {
   "cell_type": "code",
   "execution_count": 102,
   "metadata": {
    "collapsed": false,
    "pycharm": {
     "name": "#%%\n"
    }
   },
   "outputs": [
    {
     "data": {
      "text/html": [
       "<div>\n",
       "<style scoped>\n",
       "    .dataframe tbody tr th:only-of-type {\n",
       "        vertical-align: middle;\n",
       "    }\n",
       "\n",
       "    .dataframe tbody tr th {\n",
       "        vertical-align: top;\n",
       "    }\n",
       "\n",
       "    .dataframe thead tr th {\n",
       "        text-align: left;\n",
       "    }\n",
       "\n",
       "    .dataframe thead tr:last-of-type th {\n",
       "        text-align: right;\n",
       "    }\n",
       "</style>\n",
       "<table border=\"1\" class=\"dataframe\">\n",
       "  <thead>\n",
       "    <tr>\n",
       "      <th></th>\n",
       "      <th colspan=\"3\" halign=\"left\">TotalConta</th>\n",
       "      <th colspan=\"3\" halign=\"left\">Gorjeta</th>\n",
       "    </tr>\n",
       "    <tr>\n",
       "      <th></th>\n",
       "      <th>min</th>\n",
       "      <th>mean</th>\n",
       "      <th>max</th>\n",
       "      <th>min</th>\n",
       "      <th>mean</th>\n",
       "      <th>max</th>\n",
       "    </tr>\n",
       "    <tr>\n",
       "      <th>Genero</th>\n",
       "      <th></th>\n",
       "      <th></th>\n",
       "      <th></th>\n",
       "      <th></th>\n",
       "      <th></th>\n",
       "      <th></th>\n",
       "    </tr>\n",
       "  </thead>\n",
       "  <tbody>\n",
       "    <tr>\n",
       "      <th>Feminino</th>\n",
       "      <td>3.07</td>\n",
       "      <td>18.056897</td>\n",
       "      <td>44.30</td>\n",
       "      <td>1.0</td>\n",
       "      <td>2.833448</td>\n",
       "      <td>6.5</td>\n",
       "    </tr>\n",
       "    <tr>\n",
       "      <th>Masculino</th>\n",
       "      <td>7.25</td>\n",
       "      <td>20.744076</td>\n",
       "      <td>50.81</td>\n",
       "      <td>1.0</td>\n",
       "      <td>3.089618</td>\n",
       "      <td>10.0</td>\n",
       "    </tr>\n",
       "  </tbody>\n",
       "</table>\n",
       "</div>"
      ],
      "text/plain": [
       "          TotalConta                   Gorjeta                \n",
       "                 min       mean    max     min      mean   max\n",
       "Genero                                                        \n",
       "Feminino        3.07  18.056897  44.30     1.0  2.833448   6.5\n",
       "Masculino       7.25  20.744076  50.81     1.0  3.089618  10.0"
      ]
     },
     "execution_count": 102,
     "metadata": {},
     "output_type": "execute_result"
    }
   ],
   "source": [
    "df[['Genero','TotalConta','Gorjeta']].groupby('Genero').agg(['min','mean', 'max']) # .mean()"
   ]
  },
  {
   "cell_type": "markdown",
   "metadata": {
    "collapsed": false,
    "pycharm": {
     "name": "#%% md\n"
    }
   },
   "source": [
    "### 8.Juntar tabelas\n",
    "\n",
    "A primeira estratégia que podemos pensar para juntar duas ou mais colunas é através do comando .concat(). Ele basicamente empilha as colunas ou os dados das nossas tabelas.\n",
    "\n",
    "![Concatenando tabelas](../img/concat.png \"Concatenando tabelas\")."
   ]
  },
  {
   "cell_type": "code",
   "execution_count": 12,
   "metadata": {
    "collapsed": false,
    "pycharm": {
     "name": "#%%\n"
    }
   },
   "outputs": [
    {
     "name": "stdout",
     "output_type": "stream",
     "text": [
      "<class 'pandas.core.frame.DataFrame'>\n",
      "Int64Index: 488 entries, 0 to 243\n",
      "Data columns (total 8 columns):\n",
      " #   Column            Non-Null Count  Dtype  \n",
      "---  ------            --------------  -----  \n",
      " 0   TotalConta        488 non-null    float64\n",
      " 1   Gorjeta           488 non-null    float64\n",
      " 2   Genero            488 non-null    object \n",
      " 3   Fumante           488 non-null    object \n",
      " 4   Dia               488 non-null    object \n",
      " 5   Horario           488 non-null    object \n",
      " 6   PessoasMesa       488 non-null    int64  \n",
      " 7   TempoPermanencia  488 non-null    int64  \n",
      "dtypes: float64(2), int64(2), object(4)\n",
      "memory usage: 34.3+ KB\n"
     ]
    }
   ],
   "source": [
    "result = pd.concat([df, df2])\n",
    "result.head()\n",
    "result.info()"
   ]
  },
  {
   "cell_type": "code",
   "execution_count": 13,
   "metadata": {
    "collapsed": false,
    "pycharm": {
     "name": "#%%\n"
    }
   },
   "outputs": [
    {
     "data": {
      "text/html": [
       "<div>\n",
       "<style scoped>\n",
       "    .dataframe tbody tr th:only-of-type {\n",
       "        vertical-align: middle;\n",
       "    }\n",
       "\n",
       "    .dataframe tbody tr th {\n",
       "        vertical-align: top;\n",
       "    }\n",
       "\n",
       "    .dataframe thead th {\n",
       "        text-align: right;\n",
       "    }\n",
       "</style>\n",
       "<table border=\"1\" class=\"dataframe\">\n",
       "  <thead>\n",
       "    <tr style=\"text-align: right;\">\n",
       "      <th></th>\n",
       "      <th>TotalConta</th>\n",
       "      <th>Gorjeta</th>\n",
       "      <th>Genero</th>\n",
       "      <th>Fumante</th>\n",
       "      <th>Dia</th>\n",
       "      <th>Horario</th>\n",
       "      <th>PessoasMesa</th>\n",
       "      <th>TempoPermanencia</th>\n",
       "      <th>TotalConta</th>\n",
       "      <th>Gorjeta</th>\n",
       "      <th>Genero</th>\n",
       "      <th>Fumante</th>\n",
       "      <th>Dia</th>\n",
       "      <th>Horario</th>\n",
       "      <th>PessoasMesa</th>\n",
       "      <th>TempoPermanencia</th>\n",
       "    </tr>\n",
       "  </thead>\n",
       "  <tbody>\n",
       "    <tr>\n",
       "      <th>0</th>\n",
       "      <td>16.99</td>\n",
       "      <td>1.01</td>\n",
       "      <td>Feminino</td>\n",
       "      <td>nao</td>\n",
       "      <td>dom</td>\n",
       "      <td>jantar</td>\n",
       "      <td>2</td>\n",
       "      <td>41</td>\n",
       "      <td>16.99</td>\n",
       "      <td>1.01</td>\n",
       "      <td>Feminino</td>\n",
       "      <td>nao</td>\n",
       "      <td>dom</td>\n",
       "      <td>jantar</td>\n",
       "      <td>2</td>\n",
       "      <td>60</td>\n",
       "    </tr>\n",
       "    <tr>\n",
       "      <th>1</th>\n",
       "      <td>10.34</td>\n",
       "      <td>1.66</td>\n",
       "      <td>Masculino</td>\n",
       "      <td>nao</td>\n",
       "      <td>dom</td>\n",
       "      <td>jantar</td>\n",
       "      <td>3</td>\n",
       "      <td>40</td>\n",
       "      <td>10.34</td>\n",
       "      <td>1.66</td>\n",
       "      <td>Masculino</td>\n",
       "      <td>nao</td>\n",
       "      <td>dom</td>\n",
       "      <td>jantar</td>\n",
       "      <td>3</td>\n",
       "      <td>60</td>\n",
       "    </tr>\n",
       "    <tr>\n",
       "      <th>2</th>\n",
       "      <td>21.01</td>\n",
       "      <td>3.50</td>\n",
       "      <td>Masculino</td>\n",
       "      <td>nao</td>\n",
       "      <td>dom</td>\n",
       "      <td>jantar</td>\n",
       "      <td>3</td>\n",
       "      <td>49</td>\n",
       "      <td>21.01</td>\n",
       "      <td>3.50</td>\n",
       "      <td>Masculino</td>\n",
       "      <td>nao</td>\n",
       "      <td>dom</td>\n",
       "      <td>jantar</td>\n",
       "      <td>3</td>\n",
       "      <td>60</td>\n",
       "    </tr>\n",
       "    <tr>\n",
       "      <th>3</th>\n",
       "      <td>23.68</td>\n",
       "      <td>3.31</td>\n",
       "      <td>Masculino</td>\n",
       "      <td>nao</td>\n",
       "      <td>dom</td>\n",
       "      <td>jantar</td>\n",
       "      <td>2</td>\n",
       "      <td>43</td>\n",
       "      <td>23.68</td>\n",
       "      <td>3.31</td>\n",
       "      <td>Masculino</td>\n",
       "      <td>nao</td>\n",
       "      <td>dom</td>\n",
       "      <td>jantar</td>\n",
       "      <td>2</td>\n",
       "      <td>60</td>\n",
       "    </tr>\n",
       "    <tr>\n",
       "      <th>4</th>\n",
       "      <td>24.59</td>\n",
       "      <td>3.61</td>\n",
       "      <td>Feminino</td>\n",
       "      <td>nao</td>\n",
       "      <td>dom</td>\n",
       "      <td>jantar</td>\n",
       "      <td>4</td>\n",
       "      <td>34</td>\n",
       "      <td>24.59</td>\n",
       "      <td>3.61</td>\n",
       "      <td>Feminino</td>\n",
       "      <td>nao</td>\n",
       "      <td>dom</td>\n",
       "      <td>jantar</td>\n",
       "      <td>4</td>\n",
       "      <td>60</td>\n",
       "    </tr>\n",
       "  </tbody>\n",
       "</table>\n",
       "</div>"
      ],
      "text/plain": [
       "   TotalConta  Gorjeta     Genero Fumante  Dia Horario  PessoasMesa  \\\n",
       "0       16.99     1.01   Feminino     nao  dom  jantar            2   \n",
       "1       10.34     1.66  Masculino     nao  dom  jantar            3   \n",
       "2       21.01     3.50  Masculino     nao  dom  jantar            3   \n",
       "3       23.68     3.31  Masculino     nao  dom  jantar            2   \n",
       "4       24.59     3.61   Feminino     nao  dom  jantar            4   \n",
       "\n",
       "   TempoPermanencia  TotalConta  Gorjeta     Genero Fumante  Dia Horario  \\\n",
       "0                41       16.99     1.01   Feminino     nao  dom  jantar   \n",
       "1                40       10.34     1.66  Masculino     nao  dom  jantar   \n",
       "2                49       21.01     3.50  Masculino     nao  dom  jantar   \n",
       "3                43       23.68     3.31  Masculino     nao  dom  jantar   \n",
       "4                34       24.59     3.61   Feminino     nao  dom  jantar   \n",
       "\n",
       "   PessoasMesa  TempoPermanencia  \n",
       "0            2                60  \n",
       "1            3                60  \n",
       "2            3                60  \n",
       "3            2                60  \n",
       "4            4                60  "
      ]
     },
     "execution_count": 13,
     "metadata": {},
     "output_type": "execute_result"
    }
   ],
   "source": [
    "result = pd.concat([df, df2], axis=\"columns\")\n",
    "result.head()"
   ]
  },
  {
   "cell_type": "markdown",
   "metadata": {
    "collapsed": false,
    "pycharm": {
     "name": "#%% md\n"
    }
   },
   "source": [
    "A segunda estratégia é atravé do comando .merge() que é o análogo da instrução JOIN do SQL!"
   ]
  },
  {
   "cell_type": "code",
   "execution_count": 16,
   "metadata": {
    "collapsed": false,
    "pycharm": {
     "name": "#%%\n"
    }
   },
   "outputs": [
    {
     "data": {
      "text/html": [
       "<div>\n",
       "<style scoped>\n",
       "    .dataframe tbody tr th:only-of-type {\n",
       "        vertical-align: middle;\n",
       "    }\n",
       "\n",
       "    .dataframe tbody tr th {\n",
       "        vertical-align: top;\n",
       "    }\n",
       "\n",
       "    .dataframe thead th {\n",
       "        text-align: right;\n",
       "    }\n",
       "</style>\n",
       "<table border=\"1\" class=\"dataframe\">\n",
       "  <thead>\n",
       "    <tr style=\"text-align: right;\">\n",
       "      <th></th>\n",
       "      <th>id</th>\n",
       "      <th>nome</th>\n",
       "      <th>idade</th>\n",
       "      <th>id_produto</th>\n",
       "      <th>produto_comprado</th>\n",
       "      <th>cidade</th>\n",
       "    </tr>\n",
       "  </thead>\n",
       "  <tbody>\n",
       "    <tr>\n",
       "      <th>0</th>\n",
       "      <td>1</td>\n",
       "      <td>Olivia</td>\n",
       "      <td>20</td>\n",
       "      <td>101</td>\n",
       "      <td>Relógio</td>\n",
       "      <td>Paraná</td>\n",
       "    </tr>\n",
       "    <tr>\n",
       "      <th>1</th>\n",
       "      <td>2</td>\n",
       "      <td>Maria</td>\n",
       "      <td>25</td>\n",
       "      <td>0</td>\n",
       "      <td>NA</td>\n",
       "      <td>Rio de Janeiro</td>\n",
       "    </tr>\n",
       "    <tr>\n",
       "      <th>2</th>\n",
       "      <td>3</td>\n",
       "      <td>Carol</td>\n",
       "      <td>15</td>\n",
       "      <td>106</td>\n",
       "      <td>Cinto</td>\n",
       "      <td>Manaus</td>\n",
       "    </tr>\n",
       "    <tr>\n",
       "      <th>3</th>\n",
       "      <td>4</td>\n",
       "      <td>Isabel</td>\n",
       "      <td>10</td>\n",
       "      <td>0</td>\n",
       "      <td>NA</td>\n",
       "      <td>Brasília</td>\n",
       "    </tr>\n",
       "    <tr>\n",
       "      <th>4</th>\n",
       "      <td>5</td>\n",
       "      <td>Diego</td>\n",
       "      <td>30</td>\n",
       "      <td>103</td>\n",
       "      <td>Sapatos</td>\n",
       "      <td>Brasília</td>\n",
       "    </tr>\n",
       "    <tr>\n",
       "      <th>5</th>\n",
       "      <td>6</td>\n",
       "      <td>Thiago</td>\n",
       "      <td>65</td>\n",
       "      <td>104</td>\n",
       "      <td>Smartphone</td>\n",
       "      <td>Rio de Janeiro</td>\n",
       "    </tr>\n",
       "    <tr>\n",
       "      <th>6</th>\n",
       "      <td>7</td>\n",
       "      <td>Samuel</td>\n",
       "      <td>35</td>\n",
       "      <td>0</td>\n",
       "      <td>NA</td>\n",
       "      <td>Recife</td>\n",
       "    </tr>\n",
       "    <tr>\n",
       "      <th>7</th>\n",
       "      <td>8</td>\n",
       "      <td>Daniel</td>\n",
       "      <td>18</td>\n",
       "      <td>0</td>\n",
       "      <td>NA</td>\n",
       "      <td>Rio de Janeiro</td>\n",
       "    </tr>\n",
       "    <tr>\n",
       "      <th>8</th>\n",
       "      <td>9</td>\n",
       "      <td>Juliana</td>\n",
       "      <td>23</td>\n",
       "      <td>107</td>\n",
       "      <td>Notebook</td>\n",
       "      <td>Paraná</td>\n",
       "    </tr>\n",
       "    <tr>\n",
       "      <th>9</th>\n",
       "      <td>10</td>\n",
       "      <td>Juliana</td>\n",
       "      <td>23</td>\n",
       "      <td>106</td>\n",
       "      <td>Cinto</td>\n",
       "      <td>Paraná</td>\n",
       "    </tr>\n",
       "  </tbody>\n",
       "</table>\n",
       "</div>"
      ],
      "text/plain": [
       "   id     nome  idade  id_produto produto_comprado          cidade\n",
       "0   1   Olivia     20         101          Relógio          Paraná\n",
       "1   2    Maria     25           0               NA  Rio de Janeiro\n",
       "2   3    Carol     15         106            Cinto          Manaus\n",
       "3   4   Isabel     10           0               NA        Brasília\n",
       "4   5    Diego     30         103          Sapatos        Brasília\n",
       "5   6   Thiago     65         104       Smartphone  Rio de Janeiro\n",
       "6   7   Samuel     35           0               NA          Recife\n",
       "7   8   Daniel     18           0               NA  Rio de Janeiro\n",
       "8   9  Juliana     23         107         Notebook          Paraná\n",
       "9  10  Juliana     23         106            Cinto          Paraná"
      ]
     },
     "execution_count": 16,
     "metadata": {},
     "output_type": "execute_result"
    }
   ],
   "source": [
    "# um jeito de criar df sem importar dados\n",
    "cliente=pd.DataFrame({\n",
    "    'id':[1,2,3,4,5,6,7,8,9,10],\n",
    "    'nome':['Olivia','Maria','Carol','Isabel','Diego','Thiago','Samuel','Daniel','Juliana', 'Juliana'],\n",
    "    'idade':[20,25,15,10,30,65,35,18,23, 23],\n",
    "    'id_produto':[101,0,106,0,103,104,0,0,107,106],\n",
    "    'produto_comprado':['Relógio','NA','Cinto','NA','Sapatos','Smartphone','NA','NA','Notebook', 'Cinto'],\n",
    "    'cidade':['Paraná','Rio de Janeiro','Manaus','Brasília','Brasília','Rio de Janeiro','Recife','Rio de Janeiro','Paraná', 'Paraná']\n",
    "})\n",
    "cliente\n"
   ]
  },
  {
   "cell_type": "code",
   "execution_count": 22,
   "metadata": {
    "collapsed": false,
    "pycharm": {
     "name": "#%%\n"
    }
   },
   "outputs": [
    {
     "data": {
      "text/html": [
       "<div>\n",
       "<style scoped>\n",
       "    .dataframe tbody tr th:only-of-type {\n",
       "        vertical-align: middle;\n",
       "    }\n",
       "\n",
       "    .dataframe tbody tr th {\n",
       "        vertical-align: top;\n",
       "    }\n",
       "\n",
       "    .dataframe thead th {\n",
       "        text-align: right;\n",
       "    }\n",
       "</style>\n",
       "<table border=\"1\" class=\"dataframe\">\n",
       "  <thead>\n",
       "    <tr style=\"text-align: right;\">\n",
       "      <th></th>\n",
       "      <th>id_produto</th>\n",
       "      <th>nome_produto</th>\n",
       "      <th>categoria</th>\n",
       "      <th>preco</th>\n",
       "      <th>cidade_venda</th>\n",
       "    </tr>\n",
       "  </thead>\n",
       "  <tbody>\n",
       "    <tr>\n",
       "      <th>0</th>\n",
       "      <td>101</td>\n",
       "      <td>Relógio</td>\n",
       "      <td>Moda</td>\n",
       "      <td>300</td>\n",
       "      <td>Rio de Janeiro</td>\n",
       "    </tr>\n",
       "    <tr>\n",
       "      <th>1</th>\n",
       "      <td>102</td>\n",
       "      <td>Bolsa</td>\n",
       "      <td>Moda</td>\n",
       "      <td>600</td>\n",
       "      <td>Paraná</td>\n",
       "    </tr>\n",
       "    <tr>\n",
       "      <th>2</th>\n",
       "      <td>103</td>\n",
       "      <td>Sapatos</td>\n",
       "      <td>Moda</td>\n",
       "      <td>400</td>\n",
       "      <td>Brasília</td>\n",
       "    </tr>\n",
       "    <tr>\n",
       "      <th>3</th>\n",
       "      <td>104</td>\n",
       "      <td>Smartphone</td>\n",
       "      <td>Eletrônicos</td>\n",
       "      <td>4500</td>\n",
       "      <td>Recife</td>\n",
       "    </tr>\n",
       "    <tr>\n",
       "      <th>4</th>\n",
       "      <td>105</td>\n",
       "      <td>Livros</td>\n",
       "      <td>Estudo</td>\n",
       "      <td>60</td>\n",
       "      <td>Rio de Janeiro</td>\n",
       "    </tr>\n",
       "    <tr>\n",
       "      <th>5</th>\n",
       "      <td>106</td>\n",
       "      <td>Cinto</td>\n",
       "      <td>Moda</td>\n",
       "      <td>100</td>\n",
       "      <td>Brasília</td>\n",
       "    </tr>\n",
       "    <tr>\n",
       "      <th>6</th>\n",
       "      <td>107</td>\n",
       "      <td>Notebook</td>\n",
       "      <td>Eletrônicos</td>\n",
       "      <td>6320</td>\n",
       "      <td>Manaus</td>\n",
       "    </tr>\n",
       "    <tr>\n",
       "      <th>7</th>\n",
       "      <td>108</td>\n",
       "      <td>Carteira</td>\n",
       "      <td>Moda</td>\n",
       "      <td>130</td>\n",
       "      <td>Paraná</td>\n",
       "    </tr>\n",
       "  </tbody>\n",
       "</table>\n",
       "</div>"
      ],
      "text/plain": [
       "   id_produto nome_produto    categoria  preco    cidade_venda\n",
       "0         101      Relógio         Moda    300  Rio de Janeiro\n",
       "1         102        Bolsa         Moda    600          Paraná\n",
       "2         103      Sapatos         Moda    400        Brasília\n",
       "3         104   Smartphone  Eletrônicos   4500          Recife\n",
       "4         105       Livros       Estudo     60  Rio de Janeiro\n",
       "5         106        Cinto         Moda    100        Brasília\n",
       "6         107     Notebook  Eletrônicos   6320          Manaus\n",
       "7         108     Carteira         Moda    130          Paraná"
      ]
     },
     "execution_count": 22,
     "metadata": {},
     "output_type": "execute_result"
    }
   ],
   "source": [
    "produto = pd.DataFrame({\n",
    "    'id_produto':[101, 102, 103, 104, 105, 106, 107, 108],\n",
    "    'nome_produto':['Relógio','Bolsa','Sapatos','Smartphone','Livros','Cinto','Notebook','Carteira'],\n",
    "    'categoria':['Moda','Moda','Moda','Eletrônicos','Estudo','Moda','Eletrônicos', 'Moda'],\n",
    "    'preco':[300, 600, 400, 4500, 60, 100, 6320, 130],\n",
    "    'cidade_venda':['Rio de Janeiro','Paraná','Brasília','Recife','Rio de Janeiro','Brasília','Manaus', 'Paraná']\n",
    "})\n",
    "produto"
   ]
  },
  {
   "cell_type": "markdown",
   "metadata": {
    "collapsed": false,
    "pycharm": {
     "name": "#%% md\n"
    }
   },
   "source": [
    "Digamos que queremos saber sobre todos os produtos vendidos online e quem os comprou. Podemos obter isso usando o comando .merge() que por padrão faz um **inner join** nos *dataframes*. Ele recebe os dfs e o nome da coluna no qual o **inner_join** deve ser executado."
   ]
  },
  {
   "cell_type": "code",
   "execution_count": 42,
   "metadata": {
    "collapsed": false,
    "pycharm": {
     "name": "#%%\n"
    }
   },
   "outputs": [
    {
     "data": {
      "text/html": [
       "<div>\n",
       "<style scoped>\n",
       "    .dataframe tbody tr th:only-of-type {\n",
       "        vertical-align: middle;\n",
       "    }\n",
       "\n",
       "    .dataframe tbody tr th {\n",
       "        vertical-align: top;\n",
       "    }\n",
       "\n",
       "    .dataframe thead th {\n",
       "        text-align: right;\n",
       "    }\n",
       "</style>\n",
       "<table border=\"1\" class=\"dataframe\">\n",
       "  <thead>\n",
       "    <tr style=\"text-align: right;\">\n",
       "      <th></th>\n",
       "      <th>id_produto</th>\n",
       "      <th>nome_produto</th>\n",
       "      <th>categoria</th>\n",
       "      <th>preco</th>\n",
       "      <th>cidade_venda</th>\n",
       "      <th>id</th>\n",
       "      <th>nome</th>\n",
       "      <th>idade</th>\n",
       "      <th>produto_comprado</th>\n",
       "      <th>cidade</th>\n",
       "    </tr>\n",
       "  </thead>\n",
       "  <tbody>\n",
       "    <tr>\n",
       "      <th>0</th>\n",
       "      <td>101</td>\n",
       "      <td>Relógio</td>\n",
       "      <td>Moda</td>\n",
       "      <td>300</td>\n",
       "      <td>Rio de Janeiro</td>\n",
       "      <td>1</td>\n",
       "      <td>Olivia</td>\n",
       "      <td>20</td>\n",
       "      <td>Relógio</td>\n",
       "      <td>Paraná</td>\n",
       "    </tr>\n",
       "    <tr>\n",
       "      <th>1</th>\n",
       "      <td>103</td>\n",
       "      <td>Sapatos</td>\n",
       "      <td>Moda</td>\n",
       "      <td>400</td>\n",
       "      <td>Brasília</td>\n",
       "      <td>5</td>\n",
       "      <td>Diego</td>\n",
       "      <td>30</td>\n",
       "      <td>Sapatos</td>\n",
       "      <td>Brasília</td>\n",
       "    </tr>\n",
       "    <tr>\n",
       "      <th>2</th>\n",
       "      <td>104</td>\n",
       "      <td>Smartphone</td>\n",
       "      <td>Eletrônicos</td>\n",
       "      <td>4500</td>\n",
       "      <td>Recife</td>\n",
       "      <td>6</td>\n",
       "      <td>Thiago</td>\n",
       "      <td>65</td>\n",
       "      <td>Smartphone</td>\n",
       "      <td>Rio de Janeiro</td>\n",
       "    </tr>\n",
       "    <tr>\n",
       "      <th>3</th>\n",
       "      <td>106</td>\n",
       "      <td>Cinto</td>\n",
       "      <td>Moda</td>\n",
       "      <td>100</td>\n",
       "      <td>Brasília</td>\n",
       "      <td>3</td>\n",
       "      <td>Carol</td>\n",
       "      <td>15</td>\n",
       "      <td>Cinto</td>\n",
       "      <td>Manaus</td>\n",
       "    </tr>\n",
       "    <tr>\n",
       "      <th>4</th>\n",
       "      <td>106</td>\n",
       "      <td>Cinto</td>\n",
       "      <td>Moda</td>\n",
       "      <td>100</td>\n",
       "      <td>Brasília</td>\n",
       "      <td>10</td>\n",
       "      <td>Juliana</td>\n",
       "      <td>23</td>\n",
       "      <td>Cinto</td>\n",
       "      <td>Paraná</td>\n",
       "    </tr>\n",
       "    <tr>\n",
       "      <th>5</th>\n",
       "      <td>107</td>\n",
       "      <td>Notebook</td>\n",
       "      <td>Eletrônicos</td>\n",
       "      <td>6320</td>\n",
       "      <td>Manaus</td>\n",
       "      <td>9</td>\n",
       "      <td>Juliana</td>\n",
       "      <td>23</td>\n",
       "      <td>Notebook</td>\n",
       "      <td>Paraná</td>\n",
       "    </tr>\n",
       "  </tbody>\n",
       "</table>\n",
       "</div>"
      ],
      "text/plain": [
       "   id_produto nome_produto    categoria  preco    cidade_venda  id     nome  \\\n",
       "0         101      Relógio         Moda    300  Rio de Janeiro   1   Olivia   \n",
       "1         103      Sapatos         Moda    400        Brasília   5    Diego   \n",
       "2         104   Smartphone  Eletrônicos   4500          Recife   6   Thiago   \n",
       "3         106        Cinto         Moda    100        Brasília   3    Carol   \n",
       "4         106        Cinto         Moda    100        Brasília  10  Juliana   \n",
       "5         107     Notebook  Eletrônicos   6320          Manaus   9  Juliana   \n",
       "\n",
       "   idade produto_comprado          cidade  \n",
       "0     20          Relógio          Paraná  \n",
       "1     30          Sapatos        Brasília  \n",
       "2     65       Smartphone  Rio de Janeiro  \n",
       "3     15            Cinto          Manaus  \n",
       "4     23            Cinto          Paraná  \n",
       "5     23         Notebook          Paraná  "
      ]
     },
     "execution_count": 42,
     "metadata": {},
     "output_type": "execute_result"
    }
   ],
   "source": [
    "pd.merge(produto,cliente,on='id_produto')\n",
    "# um mesmo produto é comprado por diferentes clientes"
   ]
  },
  {
   "cell_type": "code",
   "execution_count": 43,
   "metadata": {
    "collapsed": false,
    "pycharm": {
     "name": "#%%\n"
    }
   },
   "outputs": [
    {
     "data": {
      "text/html": [
       "<div>\n",
       "<style scoped>\n",
       "    .dataframe tbody tr th:only-of-type {\n",
       "        vertical-align: middle;\n",
       "    }\n",
       "\n",
       "    .dataframe tbody tr th {\n",
       "        vertical-align: top;\n",
       "    }\n",
       "\n",
       "    .dataframe thead th {\n",
       "        text-align: right;\n",
       "    }\n",
       "</style>\n",
       "<table border=\"1\" class=\"dataframe\">\n",
       "  <thead>\n",
       "    <tr style=\"text-align: right;\">\n",
       "      <th></th>\n",
       "      <th>id</th>\n",
       "      <th>nome</th>\n",
       "      <th>idade</th>\n",
       "      <th>id_produto</th>\n",
       "      <th>produto_comprado</th>\n",
       "      <th>cidade</th>\n",
       "      <th>nome_produto</th>\n",
       "      <th>categoria</th>\n",
       "      <th>preco</th>\n",
       "      <th>cidade_venda</th>\n",
       "    </tr>\n",
       "  </thead>\n",
       "  <tbody>\n",
       "    <tr>\n",
       "      <th>0</th>\n",
       "      <td>1</td>\n",
       "      <td>Olivia</td>\n",
       "      <td>20</td>\n",
       "      <td>101</td>\n",
       "      <td>Relógio</td>\n",
       "      <td>Paraná</td>\n",
       "      <td>Relógio</td>\n",
       "      <td>Moda</td>\n",
       "      <td>300</td>\n",
       "      <td>Rio de Janeiro</td>\n",
       "    </tr>\n",
       "    <tr>\n",
       "      <th>1</th>\n",
       "      <td>3</td>\n",
       "      <td>Carol</td>\n",
       "      <td>15</td>\n",
       "      <td>106</td>\n",
       "      <td>Cinto</td>\n",
       "      <td>Manaus</td>\n",
       "      <td>Cinto</td>\n",
       "      <td>Moda</td>\n",
       "      <td>100</td>\n",
       "      <td>Brasília</td>\n",
       "    </tr>\n",
       "    <tr>\n",
       "      <th>2</th>\n",
       "      <td>10</td>\n",
       "      <td>Juliana</td>\n",
       "      <td>23</td>\n",
       "      <td>106</td>\n",
       "      <td>Cinto</td>\n",
       "      <td>Paraná</td>\n",
       "      <td>Cinto</td>\n",
       "      <td>Moda</td>\n",
       "      <td>100</td>\n",
       "      <td>Brasília</td>\n",
       "    </tr>\n",
       "    <tr>\n",
       "      <th>3</th>\n",
       "      <td>5</td>\n",
       "      <td>Diego</td>\n",
       "      <td>30</td>\n",
       "      <td>103</td>\n",
       "      <td>Sapatos</td>\n",
       "      <td>Brasília</td>\n",
       "      <td>Sapatos</td>\n",
       "      <td>Moda</td>\n",
       "      <td>400</td>\n",
       "      <td>Brasília</td>\n",
       "    </tr>\n",
       "    <tr>\n",
       "      <th>4</th>\n",
       "      <td>6</td>\n",
       "      <td>Thiago</td>\n",
       "      <td>65</td>\n",
       "      <td>104</td>\n",
       "      <td>Smartphone</td>\n",
       "      <td>Rio de Janeiro</td>\n",
       "      <td>Smartphone</td>\n",
       "      <td>Eletrônicos</td>\n",
       "      <td>4500</td>\n",
       "      <td>Recife</td>\n",
       "    </tr>\n",
       "    <tr>\n",
       "      <th>5</th>\n",
       "      <td>9</td>\n",
       "      <td>Juliana</td>\n",
       "      <td>23</td>\n",
       "      <td>107</td>\n",
       "      <td>Notebook</td>\n",
       "      <td>Paraná</td>\n",
       "      <td>Notebook</td>\n",
       "      <td>Eletrônicos</td>\n",
       "      <td>6320</td>\n",
       "      <td>Manaus</td>\n",
       "    </tr>\n",
       "  </tbody>\n",
       "</table>\n",
       "</div>"
      ],
      "text/plain": [
       "   id     nome  idade  id_produto produto_comprado          cidade  \\\n",
       "0   1   Olivia     20         101          Relógio          Paraná   \n",
       "1   3    Carol     15         106            Cinto          Manaus   \n",
       "2  10  Juliana     23         106            Cinto          Paraná   \n",
       "3   5    Diego     30         103          Sapatos        Brasília   \n",
       "4   6   Thiago     65         104       Smartphone  Rio de Janeiro   \n",
       "5   9  Juliana     23         107         Notebook          Paraná   \n",
       "\n",
       "  nome_produto    categoria  preco    cidade_venda  \n",
       "0      Relógio         Moda    300  Rio de Janeiro  \n",
       "1        Cinto         Moda    100        Brasília  \n",
       "2        Cinto         Moda    100        Brasília  \n",
       "3      Sapatos         Moda    400        Brasília  \n",
       "4   Smartphone  Eletrônicos   4500          Recife  \n",
       "5     Notebook  Eletrônicos   6320          Manaus  "
      ]
     },
     "execution_count": 43,
     "metadata": {},
     "output_type": "execute_result"
    }
   ],
   "source": [
    "# trocamos a ordem dos dfs mas o resultado é o mesmo.\n",
    "# porque por padrão o .merge() faz um inner join\n",
    "pd.merge(cliente,produto,on='id_produto')"
   ]
  },
  {
   "cell_type": "markdown",
   "metadata": {
    "collapsed": false,
    "pycharm": {
     "name": "#%% md\n"
    }
   },
   "source": [
    "Quando as colunas são diferentes precisamos explicitamente dizer o nome delas"
   ]
  },
  {
   "cell_type": "code",
   "execution_count": 44,
   "metadata": {
    "collapsed": false,
    "pycharm": {
     "name": "#%%\n"
    }
   },
   "outputs": [
    {
     "data": {
      "text/html": [
       "<div>\n",
       "<style scoped>\n",
       "    .dataframe tbody tr th:only-of-type {\n",
       "        vertical-align: middle;\n",
       "    }\n",
       "\n",
       "    .dataframe tbody tr th {\n",
       "        vertical-align: top;\n",
       "    }\n",
       "\n",
       "    .dataframe thead th {\n",
       "        text-align: right;\n",
       "    }\n",
       "</style>\n",
       "<table border=\"1\" class=\"dataframe\">\n",
       "  <thead>\n",
       "    <tr style=\"text-align: right;\">\n",
       "      <th></th>\n",
       "      <th>id_produto_x</th>\n",
       "      <th>nome_produto</th>\n",
       "      <th>categoria</th>\n",
       "      <th>preco</th>\n",
       "      <th>cidade_venda</th>\n",
       "      <th>id</th>\n",
       "      <th>nome</th>\n",
       "      <th>idade</th>\n",
       "      <th>id_produto_y</th>\n",
       "      <th>produto_comprado</th>\n",
       "      <th>cidade</th>\n",
       "    </tr>\n",
       "  </thead>\n",
       "  <tbody>\n",
       "    <tr>\n",
       "      <th>0</th>\n",
       "      <td>101</td>\n",
       "      <td>Relógio</td>\n",
       "      <td>Moda</td>\n",
       "      <td>300</td>\n",
       "      <td>Rio de Janeiro</td>\n",
       "      <td>1</td>\n",
       "      <td>Olivia</td>\n",
       "      <td>20</td>\n",
       "      <td>101</td>\n",
       "      <td>Relógio</td>\n",
       "      <td>Paraná</td>\n",
       "    </tr>\n",
       "    <tr>\n",
       "      <th>1</th>\n",
       "      <td>103</td>\n",
       "      <td>Sapatos</td>\n",
       "      <td>Moda</td>\n",
       "      <td>400</td>\n",
       "      <td>Brasília</td>\n",
       "      <td>5</td>\n",
       "      <td>Diego</td>\n",
       "      <td>30</td>\n",
       "      <td>103</td>\n",
       "      <td>Sapatos</td>\n",
       "      <td>Brasília</td>\n",
       "    </tr>\n",
       "    <tr>\n",
       "      <th>2</th>\n",
       "      <td>104</td>\n",
       "      <td>Smartphone</td>\n",
       "      <td>Eletrônicos</td>\n",
       "      <td>4500</td>\n",
       "      <td>Recife</td>\n",
       "      <td>6</td>\n",
       "      <td>Thiago</td>\n",
       "      <td>65</td>\n",
       "      <td>104</td>\n",
       "      <td>Smartphone</td>\n",
       "      <td>Rio de Janeiro</td>\n",
       "    </tr>\n",
       "    <tr>\n",
       "      <th>3</th>\n",
       "      <td>106</td>\n",
       "      <td>Cinto</td>\n",
       "      <td>Moda</td>\n",
       "      <td>100</td>\n",
       "      <td>Brasília</td>\n",
       "      <td>3</td>\n",
       "      <td>Carol</td>\n",
       "      <td>15</td>\n",
       "      <td>106</td>\n",
       "      <td>Cinto</td>\n",
       "      <td>Manaus</td>\n",
       "    </tr>\n",
       "    <tr>\n",
       "      <th>4</th>\n",
       "      <td>106</td>\n",
       "      <td>Cinto</td>\n",
       "      <td>Moda</td>\n",
       "      <td>100</td>\n",
       "      <td>Brasília</td>\n",
       "      <td>10</td>\n",
       "      <td>Juliana</td>\n",
       "      <td>23</td>\n",
       "      <td>106</td>\n",
       "      <td>Cinto</td>\n",
       "      <td>Paraná</td>\n",
       "    </tr>\n",
       "    <tr>\n",
       "      <th>5</th>\n",
       "      <td>107</td>\n",
       "      <td>Notebook</td>\n",
       "      <td>Eletrônicos</td>\n",
       "      <td>6320</td>\n",
       "      <td>Manaus</td>\n",
       "      <td>9</td>\n",
       "      <td>Juliana</td>\n",
       "      <td>23</td>\n",
       "      <td>107</td>\n",
       "      <td>Notebook</td>\n",
       "      <td>Paraná</td>\n",
       "    </tr>\n",
       "  </tbody>\n",
       "</table>\n",
       "</div>"
      ],
      "text/plain": [
       "   id_produto_x nome_produto    categoria  preco    cidade_venda  id     nome  \\\n",
       "0           101      Relógio         Moda    300  Rio de Janeiro   1   Olivia   \n",
       "1           103      Sapatos         Moda    400        Brasília   5    Diego   \n",
       "2           104   Smartphone  Eletrônicos   4500          Recife   6   Thiago   \n",
       "3           106        Cinto         Moda    100        Brasília   3    Carol   \n",
       "4           106        Cinto         Moda    100        Brasília  10  Juliana   \n",
       "5           107     Notebook  Eletrônicos   6320          Manaus   9  Juliana   \n",
       "\n",
       "   idade  id_produto_y produto_comprado          cidade  \n",
       "0     20           101          Relógio          Paraná  \n",
       "1     30           103          Sapatos        Brasília  \n",
       "2     65           104       Smartphone  Rio de Janeiro  \n",
       "3     15           106            Cinto          Manaus  \n",
       "4     23           106            Cinto          Paraná  \n",
       "5     23           107         Notebook          Paraná  "
      ]
     },
     "execution_count": 44,
     "metadata": {},
     "output_type": "execute_result"
    }
   ],
   "source": [
    "pd.merge(produto, cliente,\n",
    "         left_on='nome_produto',\n",
    "         right_on='produto_comprado')"
   ]
  },
  {
   "cell_type": "markdown",
   "metadata": {
    "collapsed": false,
    "pycharm": {
     "name": "#%% md\n"
    }
   },
   "source": [
    "Assim como no SQL há outros tipos de join, que alteramos no argumento *how*."
   ]
  },
  {
   "cell_type": "code",
   "execution_count": 24,
   "metadata": {
    "collapsed": false,
    "pycharm": {
     "name": "#%%\n"
    }
   },
   "outputs": [
    {
     "data": {
      "text/html": [
       "<div>\n",
       "<style scoped>\n",
       "    .dataframe tbody tr th:only-of-type {\n",
       "        vertical-align: middle;\n",
       "    }\n",
       "\n",
       "    .dataframe tbody tr th {\n",
       "        vertical-align: top;\n",
       "    }\n",
       "\n",
       "    .dataframe thead th {\n",
       "        text-align: right;\n",
       "    }\n",
       "</style>\n",
       "<table border=\"1\" class=\"dataframe\">\n",
       "  <thead>\n",
       "    <tr style=\"text-align: right;\">\n",
       "      <th></th>\n",
       "      <th>id</th>\n",
       "      <th>nome</th>\n",
       "      <th>idade</th>\n",
       "      <th>id_produto</th>\n",
       "      <th>produto_comprado</th>\n",
       "      <th>cidade</th>\n",
       "      <th>nome_produto</th>\n",
       "      <th>categoria</th>\n",
       "      <th>preco</th>\n",
       "      <th>cidade_venda</th>\n",
       "    </tr>\n",
       "  </thead>\n",
       "  <tbody>\n",
       "    <tr>\n",
       "      <th>0</th>\n",
       "      <td>1</td>\n",
       "      <td>Olivia</td>\n",
       "      <td>20</td>\n",
       "      <td>101</td>\n",
       "      <td>Relógio</td>\n",
       "      <td>Paraná</td>\n",
       "      <td>Relógio</td>\n",
       "      <td>Moda</td>\n",
       "      <td>300.0</td>\n",
       "      <td>Rio de Janeiro</td>\n",
       "    </tr>\n",
       "    <tr>\n",
       "      <th>1</th>\n",
       "      <td>2</td>\n",
       "      <td>Maria</td>\n",
       "      <td>25</td>\n",
       "      <td>0</td>\n",
       "      <td>NA</td>\n",
       "      <td>Rio de Janeiro</td>\n",
       "      <td>NaN</td>\n",
       "      <td>NaN</td>\n",
       "      <td>NaN</td>\n",
       "      <td>NaN</td>\n",
       "    </tr>\n",
       "    <tr>\n",
       "      <th>2</th>\n",
       "      <td>3</td>\n",
       "      <td>Carol</td>\n",
       "      <td>15</td>\n",
       "      <td>106</td>\n",
       "      <td>Cinto</td>\n",
       "      <td>Manaus</td>\n",
       "      <td>Cinto</td>\n",
       "      <td>Moda</td>\n",
       "      <td>100.0</td>\n",
       "      <td>Brasília</td>\n",
       "    </tr>\n",
       "    <tr>\n",
       "      <th>3</th>\n",
       "      <td>4</td>\n",
       "      <td>Isabel</td>\n",
       "      <td>10</td>\n",
       "      <td>0</td>\n",
       "      <td>NA</td>\n",
       "      <td>Brasília</td>\n",
       "      <td>NaN</td>\n",
       "      <td>NaN</td>\n",
       "      <td>NaN</td>\n",
       "      <td>NaN</td>\n",
       "    </tr>\n",
       "    <tr>\n",
       "      <th>4</th>\n",
       "      <td>5</td>\n",
       "      <td>Diego</td>\n",
       "      <td>30</td>\n",
       "      <td>103</td>\n",
       "      <td>Sapatos</td>\n",
       "      <td>Brasília</td>\n",
       "      <td>Sapatos</td>\n",
       "      <td>Moda</td>\n",
       "      <td>400.0</td>\n",
       "      <td>Brasília</td>\n",
       "    </tr>\n",
       "    <tr>\n",
       "      <th>5</th>\n",
       "      <td>6</td>\n",
       "      <td>Thiago</td>\n",
       "      <td>65</td>\n",
       "      <td>104</td>\n",
       "      <td>Smartphone</td>\n",
       "      <td>Rio de Janeiro</td>\n",
       "      <td>Smartphone</td>\n",
       "      <td>Eletrônicos</td>\n",
       "      <td>4500.0</td>\n",
       "      <td>Recife</td>\n",
       "    </tr>\n",
       "    <tr>\n",
       "      <th>6</th>\n",
       "      <td>7</td>\n",
       "      <td>Samuel</td>\n",
       "      <td>35</td>\n",
       "      <td>0</td>\n",
       "      <td>NA</td>\n",
       "      <td>Recife</td>\n",
       "      <td>NaN</td>\n",
       "      <td>NaN</td>\n",
       "      <td>NaN</td>\n",
       "      <td>NaN</td>\n",
       "    </tr>\n",
       "    <tr>\n",
       "      <th>7</th>\n",
       "      <td>8</td>\n",
       "      <td>Daniel</td>\n",
       "      <td>18</td>\n",
       "      <td>0</td>\n",
       "      <td>NA</td>\n",
       "      <td>Rio de Janeiro</td>\n",
       "      <td>NaN</td>\n",
       "      <td>NaN</td>\n",
       "      <td>NaN</td>\n",
       "      <td>NaN</td>\n",
       "    </tr>\n",
       "    <tr>\n",
       "      <th>8</th>\n",
       "      <td>9</td>\n",
       "      <td>Juliana</td>\n",
       "      <td>23</td>\n",
       "      <td>107</td>\n",
       "      <td>Notebook</td>\n",
       "      <td>Paraná</td>\n",
       "      <td>Notebook</td>\n",
       "      <td>Eletrônicos</td>\n",
       "      <td>6320.0</td>\n",
       "      <td>Manaus</td>\n",
       "    </tr>\n",
       "    <tr>\n",
       "      <th>9</th>\n",
       "      <td>10</td>\n",
       "      <td>Juliana</td>\n",
       "      <td>23</td>\n",
       "      <td>106</td>\n",
       "      <td>Cinto</td>\n",
       "      <td>Paraná</td>\n",
       "      <td>Cinto</td>\n",
       "      <td>Moda</td>\n",
       "      <td>100.0</td>\n",
       "      <td>Brasília</td>\n",
       "    </tr>\n",
       "  </tbody>\n",
       "</table>\n",
       "</div>"
      ],
      "text/plain": [
       "   id     nome  idade  id_produto produto_comprado          cidade  \\\n",
       "0   1   Olivia     20         101          Relógio          Paraná   \n",
       "1   2    Maria     25           0               NA  Rio de Janeiro   \n",
       "2   3    Carol     15         106            Cinto          Manaus   \n",
       "3   4   Isabel     10           0               NA        Brasília   \n",
       "4   5    Diego     30         103          Sapatos        Brasília   \n",
       "5   6   Thiago     65         104       Smartphone  Rio de Janeiro   \n",
       "6   7   Samuel     35           0               NA          Recife   \n",
       "7   8   Daniel     18           0               NA  Rio de Janeiro   \n",
       "8   9  Juliana     23         107         Notebook          Paraná   \n",
       "9  10  Juliana     23         106            Cinto          Paraná   \n",
       "\n",
       "  nome_produto    categoria   preco    cidade_venda  \n",
       "0      Relógio         Moda   300.0  Rio de Janeiro  \n",
       "1          NaN          NaN     NaN             NaN  \n",
       "2        Cinto         Moda   100.0        Brasília  \n",
       "3          NaN          NaN     NaN             NaN  \n",
       "4      Sapatos         Moda   400.0        Brasília  \n",
       "5   Smartphone  Eletrônicos  4500.0          Recife  \n",
       "6          NaN          NaN     NaN             NaN  \n",
       "7          NaN          NaN     NaN             NaN  \n",
       "8     Notebook  Eletrônicos  6320.0          Manaus  \n",
       "9        Cinto         Moda   100.0        Brasília  "
      ]
     },
     "execution_count": 24,
     "metadata": {},
     "output_type": "execute_result"
    }
   ],
   "source": [
    "pd.merge(cliente, produto,on='id_produto',how='left' )\n",
    "# produto bolsa (102), livros (105) e carteira (108), nao aparecem porque nenhum cliente comprou na tabela 'cliente', how=left"
   ]
  },
  {
   "cell_type": "code",
   "execution_count": 27,
   "metadata": {
    "collapsed": false,
    "pycharm": {
     "name": "#%%\n"
    }
   },
   "outputs": [
    {
     "data": {
      "text/html": [
       "<div>\n",
       "<style scoped>\n",
       "    .dataframe tbody tr th:only-of-type {\n",
       "        vertical-align: middle;\n",
       "    }\n",
       "\n",
       "    .dataframe tbody tr th {\n",
       "        vertical-align: top;\n",
       "    }\n",
       "\n",
       "    .dataframe thead th {\n",
       "        text-align: right;\n",
       "    }\n",
       "</style>\n",
       "<table border=\"1\" class=\"dataframe\">\n",
       "  <thead>\n",
       "    <tr style=\"text-align: right;\">\n",
       "      <th></th>\n",
       "      <th>id_produto_x</th>\n",
       "      <th>nome_produto</th>\n",
       "      <th>categoria</th>\n",
       "      <th>preco</th>\n",
       "      <th>cidade_venda</th>\n",
       "      <th>id</th>\n",
       "      <th>nome</th>\n",
       "      <th>idade</th>\n",
       "      <th>id_produto_y</th>\n",
       "      <th>produto_comprado</th>\n",
       "      <th>cidade</th>\n",
       "      <th>_merge</th>\n",
       "    </tr>\n",
       "  </thead>\n",
       "  <tbody>\n",
       "    <tr>\n",
       "      <th>0</th>\n",
       "      <td>101</td>\n",
       "      <td>Relógio</td>\n",
       "      <td>Moda</td>\n",
       "      <td>300</td>\n",
       "      <td>Rio de Janeiro</td>\n",
       "      <td>1.0</td>\n",
       "      <td>Olivia</td>\n",
       "      <td>20.0</td>\n",
       "      <td>101.0</td>\n",
       "      <td>Relógio</td>\n",
       "      <td>Paraná</td>\n",
       "      <td>both</td>\n",
       "    </tr>\n",
       "    <tr>\n",
       "      <th>1</th>\n",
       "      <td>102</td>\n",
       "      <td>Bolsa</td>\n",
       "      <td>Moda</td>\n",
       "      <td>600</td>\n",
       "      <td>Paraná</td>\n",
       "      <td>NaN</td>\n",
       "      <td>NaN</td>\n",
       "      <td>NaN</td>\n",
       "      <td>NaN</td>\n",
       "      <td>NaN</td>\n",
       "      <td>NaN</td>\n",
       "      <td>left_only</td>\n",
       "    </tr>\n",
       "    <tr>\n",
       "      <th>2</th>\n",
       "      <td>103</td>\n",
       "      <td>Sapatos</td>\n",
       "      <td>Moda</td>\n",
       "      <td>400</td>\n",
       "      <td>Brasília</td>\n",
       "      <td>5.0</td>\n",
       "      <td>Diego</td>\n",
       "      <td>30.0</td>\n",
       "      <td>103.0</td>\n",
       "      <td>Sapatos</td>\n",
       "      <td>Brasília</td>\n",
       "      <td>both</td>\n",
       "    </tr>\n",
       "    <tr>\n",
       "      <th>3</th>\n",
       "      <td>104</td>\n",
       "      <td>Smartphone</td>\n",
       "      <td>Eletrônicos</td>\n",
       "      <td>4500</td>\n",
       "      <td>Recife</td>\n",
       "      <td>6.0</td>\n",
       "      <td>Thiago</td>\n",
       "      <td>65.0</td>\n",
       "      <td>104.0</td>\n",
       "      <td>Smartphone</td>\n",
       "      <td>Rio de Janeiro</td>\n",
       "      <td>both</td>\n",
       "    </tr>\n",
       "    <tr>\n",
       "      <th>4</th>\n",
       "      <td>105</td>\n",
       "      <td>Livros</td>\n",
       "      <td>Estudo</td>\n",
       "      <td>60</td>\n",
       "      <td>Rio de Janeiro</td>\n",
       "      <td>NaN</td>\n",
       "      <td>NaN</td>\n",
       "      <td>NaN</td>\n",
       "      <td>NaN</td>\n",
       "      <td>NaN</td>\n",
       "      <td>NaN</td>\n",
       "      <td>left_only</td>\n",
       "    </tr>\n",
       "    <tr>\n",
       "      <th>5</th>\n",
       "      <td>106</td>\n",
       "      <td>Cinto</td>\n",
       "      <td>Moda</td>\n",
       "      <td>100</td>\n",
       "      <td>Brasília</td>\n",
       "      <td>3.0</td>\n",
       "      <td>Carol</td>\n",
       "      <td>15.0</td>\n",
       "      <td>106.0</td>\n",
       "      <td>Cinto</td>\n",
       "      <td>Manaus</td>\n",
       "      <td>both</td>\n",
       "    </tr>\n",
       "    <tr>\n",
       "      <th>6</th>\n",
       "      <td>106</td>\n",
       "      <td>Cinto</td>\n",
       "      <td>Moda</td>\n",
       "      <td>100</td>\n",
       "      <td>Brasília</td>\n",
       "      <td>10.0</td>\n",
       "      <td>Juliana</td>\n",
       "      <td>23.0</td>\n",
       "      <td>106.0</td>\n",
       "      <td>Cinto</td>\n",
       "      <td>Paraná</td>\n",
       "      <td>both</td>\n",
       "    </tr>\n",
       "    <tr>\n",
       "      <th>7</th>\n",
       "      <td>107</td>\n",
       "      <td>Notebook</td>\n",
       "      <td>Eletrônicos</td>\n",
       "      <td>6320</td>\n",
       "      <td>Manaus</td>\n",
       "      <td>9.0</td>\n",
       "      <td>Juliana</td>\n",
       "      <td>23.0</td>\n",
       "      <td>107.0</td>\n",
       "      <td>Notebook</td>\n",
       "      <td>Paraná</td>\n",
       "      <td>both</td>\n",
       "    </tr>\n",
       "    <tr>\n",
       "      <th>8</th>\n",
       "      <td>108</td>\n",
       "      <td>Carteira</td>\n",
       "      <td>Moda</td>\n",
       "      <td>130</td>\n",
       "      <td>Paraná</td>\n",
       "      <td>NaN</td>\n",
       "      <td>NaN</td>\n",
       "      <td>NaN</td>\n",
       "      <td>NaN</td>\n",
       "      <td>NaN</td>\n",
       "      <td>NaN</td>\n",
       "      <td>left_only</td>\n",
       "    </tr>\n",
       "  </tbody>\n",
       "</table>\n",
       "</div>"
      ],
      "text/plain": [
       "   id_produto_x nome_produto    categoria  preco    cidade_venda    id  \\\n",
       "0           101      Relógio         Moda    300  Rio de Janeiro   1.0   \n",
       "1           102        Bolsa         Moda    600          Paraná   NaN   \n",
       "2           103      Sapatos         Moda    400        Brasília   5.0   \n",
       "3           104   Smartphone  Eletrônicos   4500          Recife   6.0   \n",
       "4           105       Livros       Estudo     60  Rio de Janeiro   NaN   \n",
       "5           106        Cinto         Moda    100        Brasília   3.0   \n",
       "6           106        Cinto         Moda    100        Brasília  10.0   \n",
       "7           107     Notebook  Eletrônicos   6320          Manaus   9.0   \n",
       "8           108     Carteira         Moda    130          Paraná   NaN   \n",
       "\n",
       "      nome  idade  id_produto_y produto_comprado          cidade     _merge  \n",
       "0   Olivia   20.0         101.0          Relógio          Paraná       both  \n",
       "1      NaN    NaN           NaN              NaN             NaN  left_only  \n",
       "2    Diego   30.0         103.0          Sapatos        Brasília       both  \n",
       "3   Thiago   65.0         104.0       Smartphone  Rio de Janeiro       both  \n",
       "4      NaN    NaN           NaN              NaN             NaN  left_only  \n",
       "5    Carol   15.0         106.0            Cinto          Manaus       both  \n",
       "6  Juliana   23.0         106.0            Cinto          Paraná       both  \n",
       "7  Juliana   23.0         107.0         Notebook          Paraná       both  \n",
       "8      NaN    NaN           NaN              NaN             NaN  left_only  "
      ]
     },
     "execution_count": 27,
     "metadata": {},
     "output_type": "execute_result"
    }
   ],
   "source": [
    "# podemos pedir par o merge indicar de onde os dados vieram, usando o parâmetro 'indicator'\n",
    "pd.merge(produto, cliente,\n",
    "         left_on='nome_produto',\n",
    "         right_on='produto_comprado',\n",
    "         how='left',\n",
    "         indicator=True)"
   ]
  },
  {
   "cell_type": "markdown",
   "metadata": {
    "collapsed": false,
    "pycharm": {
     "name": "#%% md\n"
    }
   },
   "source": [
    "Aqui vai um esquema representando os tipos de join feitos no Pandas\n",
    "\n",
    "![Tipos de join](../img/join_pandas.png \"Tipos de join\")."
   ]
  },
  {
   "cell_type": "code",
   "execution_count": 28,
   "metadata": {
    "collapsed": false,
    "pycharm": {
     "name": "#%%\n"
    }
   },
   "outputs": [],
   "source": [
    "### 9.Salvar/exportar tabelas\n",
    "    df.to_csv('../dados/exemplo_aula-pratica.csv') # salva no mesmo lugar onde seu codigo esta"
   ]
  },
  {
   "cell_type": "code",
   "execution_count": 42,
   "metadata": {
    "collapsed": false,
    "pycharm": {
     "name": "#%%\n"
    }
   },
   "outputs": [],
   "source": [
    "df.to_csv('../dados/exemplo_aula-pratica.csv', index = False, header=True, sep='\\t')"
   ]
  },
  {
   "cell_type": "code",
   "execution_count": 43,
   "metadata": {
    "collapsed": false,
    "pycharm": {
     "name": "#%%\n"
    }
   },
   "outputs": [
    {
     "ename": "ModuleNotFoundError",
     "evalue": "No module named 'openpyxl'",
     "output_type": "error",
     "traceback": [
      "\u001b[0;31m---------------------------------------------------------------------------\u001b[0m",
      "\u001b[0;31mModuleNotFoundError\u001b[0m                       Traceback (most recent call last)",
      "Cell \u001b[0;32mIn[43], line 1\u001b[0m\n\u001b[0;32m----> 1\u001b[0m df\u001b[39m.\u001b[39;49mto_excel(\u001b[39mr\u001b[39;49m\u001b[39m'\u001b[39;49m\u001b[39m../dados/exemplo_aula-pratica.xlsx\u001b[39;49m\u001b[39m'\u001b[39;49m, sheet_name\u001b[39m=\u001b[39;49m\u001b[39m'\u001b[39;49m\u001b[39mdados\u001b[39;49m\u001b[39m'\u001b[39;49m, index \u001b[39m=\u001b[39;49m \u001b[39mFalse\u001b[39;49;00m)\n",
      "File \u001b[0;32m~/.local/lib/python3.10/site-packages/pandas/util/_decorators.py:211\u001b[0m, in \u001b[0;36mdeprecate_kwarg.<locals>._deprecate_kwarg.<locals>.wrapper\u001b[0;34m(*args, **kwargs)\u001b[0m\n\u001b[1;32m    209\u001b[0m     \u001b[39melse\u001b[39;00m:\n\u001b[1;32m    210\u001b[0m         kwargs[new_arg_name] \u001b[39m=\u001b[39m new_arg_value\n\u001b[0;32m--> 211\u001b[0m \u001b[39mreturn\u001b[39;00m func(\u001b[39m*\u001b[39;49margs, \u001b[39m*\u001b[39;49m\u001b[39m*\u001b[39;49mkwargs)\n",
      "File \u001b[0;32m~/.local/lib/python3.10/site-packages/pandas/util/_decorators.py:211\u001b[0m, in \u001b[0;36mdeprecate_kwarg.<locals>._deprecate_kwarg.<locals>.wrapper\u001b[0;34m(*args, **kwargs)\u001b[0m\n\u001b[1;32m    209\u001b[0m     \u001b[39melse\u001b[39;00m:\n\u001b[1;32m    210\u001b[0m         kwargs[new_arg_name] \u001b[39m=\u001b[39m new_arg_value\n\u001b[0;32m--> 211\u001b[0m \u001b[39mreturn\u001b[39;00m func(\u001b[39m*\u001b[39;49margs, \u001b[39m*\u001b[39;49m\u001b[39m*\u001b[39;49mkwargs)\n",
      "File \u001b[0;32m~/.local/lib/python3.10/site-packages/pandas/core/generic.py:2374\u001b[0m, in \u001b[0;36mNDFrame.to_excel\u001b[0;34m(self, excel_writer, sheet_name, na_rep, float_format, columns, header, index, index_label, startrow, startcol, engine, merge_cells, encoding, inf_rep, verbose, freeze_panes, storage_options)\u001b[0m\n\u001b[1;32m   2361\u001b[0m \u001b[39mfrom\u001b[39;00m \u001b[39mpandas\u001b[39;00m\u001b[39m.\u001b[39;00m\u001b[39mio\u001b[39;00m\u001b[39m.\u001b[39;00m\u001b[39mformats\u001b[39;00m\u001b[39m.\u001b[39;00m\u001b[39mexcel\u001b[39;00m \u001b[39mimport\u001b[39;00m ExcelFormatter\n\u001b[1;32m   2363\u001b[0m formatter \u001b[39m=\u001b[39m ExcelFormatter(\n\u001b[1;32m   2364\u001b[0m     df,\n\u001b[1;32m   2365\u001b[0m     na_rep\u001b[39m=\u001b[39mna_rep,\n\u001b[0;32m   (...)\u001b[0m\n\u001b[1;32m   2372\u001b[0m     inf_rep\u001b[39m=\u001b[39minf_rep,\n\u001b[1;32m   2373\u001b[0m )\n\u001b[0;32m-> 2374\u001b[0m formatter\u001b[39m.\u001b[39;49mwrite(\n\u001b[1;32m   2375\u001b[0m     excel_writer,\n\u001b[1;32m   2376\u001b[0m     sheet_name\u001b[39m=\u001b[39;49msheet_name,\n\u001b[1;32m   2377\u001b[0m     startrow\u001b[39m=\u001b[39;49mstartrow,\n\u001b[1;32m   2378\u001b[0m     startcol\u001b[39m=\u001b[39;49mstartcol,\n\u001b[1;32m   2379\u001b[0m     freeze_panes\u001b[39m=\u001b[39;49mfreeze_panes,\n\u001b[1;32m   2380\u001b[0m     engine\u001b[39m=\u001b[39;49mengine,\n\u001b[1;32m   2381\u001b[0m     storage_options\u001b[39m=\u001b[39;49mstorage_options,\n\u001b[1;32m   2382\u001b[0m )\n",
      "File \u001b[0;32m~/.local/lib/python3.10/site-packages/pandas/io/formats/excel.py:918\u001b[0m, in \u001b[0;36mExcelFormatter.write\u001b[0;34m(self, writer, sheet_name, startrow, startcol, freeze_panes, engine, storage_options)\u001b[0m\n\u001b[1;32m    914\u001b[0m     need_save \u001b[39m=\u001b[39m \u001b[39mFalse\u001b[39;00m\n\u001b[1;32m    915\u001b[0m \u001b[39melse\u001b[39;00m:\n\u001b[1;32m    916\u001b[0m     \u001b[39m# error: Cannot instantiate abstract class 'ExcelWriter' with abstract\u001b[39;00m\n\u001b[1;32m    917\u001b[0m     \u001b[39m# attributes 'engine', 'save', 'supported_extensions' and 'write_cells'\u001b[39;00m\n\u001b[0;32m--> 918\u001b[0m     writer \u001b[39m=\u001b[39m ExcelWriter(  \u001b[39m# type: ignore[abstract]\u001b[39;49;00m\n\u001b[1;32m    919\u001b[0m         writer, engine\u001b[39m=\u001b[39;49mengine, storage_options\u001b[39m=\u001b[39;49mstorage_options\n\u001b[1;32m    920\u001b[0m     )\n\u001b[1;32m    921\u001b[0m     need_save \u001b[39m=\u001b[39m \u001b[39mTrue\u001b[39;00m\n\u001b[1;32m    923\u001b[0m \u001b[39mtry\u001b[39;00m:\n",
      "File \u001b[0;32m~/.local/lib/python3.10/site-packages/pandas/io/excel/_openpyxl.py:56\u001b[0m, in \u001b[0;36mOpenpyxlWriter.__init__\u001b[0;34m(self, path, engine, date_format, datetime_format, mode, storage_options, if_sheet_exists, engine_kwargs, **kwargs)\u001b[0m\n\u001b[1;32m     43\u001b[0m \u001b[39mdef\u001b[39;00m \u001b[39m__init__\u001b[39m(\n\u001b[1;32m     44\u001b[0m     \u001b[39mself\u001b[39m,\n\u001b[1;32m     45\u001b[0m     path: FilePath \u001b[39m|\u001b[39m WriteExcelBuffer \u001b[39m|\u001b[39m ExcelWriter,\n\u001b[0;32m   (...)\u001b[0m\n\u001b[1;32m     54\u001b[0m ) \u001b[39m-\u001b[39m\u001b[39m>\u001b[39m \u001b[39mNone\u001b[39;00m:\n\u001b[1;32m     55\u001b[0m     \u001b[39m# Use the openpyxl module as the Excel writer.\u001b[39;00m\n\u001b[0;32m---> 56\u001b[0m     \u001b[39mfrom\u001b[39;00m \u001b[39mopenpyxl\u001b[39;00m\u001b[39m.\u001b[39;00m\u001b[39mworkbook\u001b[39;00m \u001b[39mimport\u001b[39;00m Workbook\n\u001b[1;32m     58\u001b[0m     engine_kwargs \u001b[39m=\u001b[39m combine_kwargs(engine_kwargs, kwargs)\n\u001b[1;32m     60\u001b[0m     \u001b[39msuper\u001b[39m()\u001b[39m.\u001b[39m\u001b[39m__init__\u001b[39m(\n\u001b[1;32m     61\u001b[0m         path,\n\u001b[1;32m     62\u001b[0m         mode\u001b[39m=\u001b[39mmode,\n\u001b[0;32m   (...)\u001b[0m\n\u001b[1;32m     65\u001b[0m         engine_kwargs\u001b[39m=\u001b[39mengine_kwargs,\n\u001b[1;32m     66\u001b[0m     )\n",
      "\u001b[0;31mModuleNotFoundError\u001b[0m: No module named 'openpyxl'"
     ]
    },
    {
     "name": "stderr",
     "output_type": "stream",
     "text": [
      "Bad pipe message: %s [b'4\\xb9e\\xf3HO\\x16\\x0em\\x96\\x133\\xff\\xa5\\xc0\\x90\\xdb\\x1e \\x8ab\\xd5\\x06(\\xf5Sm\\x0bc\\xda\\x1a\\x13\\xe6=\\xcf\\xb4\\x18\\xce\\x88\\xe9U\\x92\\xefj~\\xd8\\n3\\xd6-\\x81\\x00\\x08\\x13\\x02\\x13\\x03\\x13\\x01\\x00\\xff\\x01\\x00\\x00\\x8f\\x00\\x00\\x00\\x0e\\x00\\x0c\\x00\\x00\\t127.0.0.1\\x00\\x0b\\x00']\n",
      "Bad pipe message: %s [b\"\\xa5\\x86YP\\xfby\\xdcK[\\x133\\xf4\\xd9wO\\x9a\\x97\\x8a\\x00\\x00\\xf4\\xc00\\xc0,\\xc0(\\xc0$\\xc0\\x14\\xc0\\n\\x00\\xa5\\x00\\xa3\\x00\\xa1\\x00\\x9f\\x00k\\x00j\\x00i\\x00h\\x009\\x008\\x007\\x006\\x00\\x88\\x00\\x87\\x00\\x86\\x00\\x85\\xc0\\x19\\x00\\xa7\\x00m\\x00:\\x00\\x89\\xc02\\xc0.\\xc0*\\xc0&\\xc0\\x0f\\xc0\\x05\\x00\\x9d\\x00=\\x005\\x00\\x84\\xc0/\\xc0+\\xc0'\\xc0#\\xc0\\x13\\xc0\\t\\x00\\xa4\\x00\\xa2\\x00\\xa0\\x00\\x9e\\x00g\\x00@\\x00?\\x00>\\x003\\x002\\x001\\x000\\x00\\x9a\\x00\\x99\\x00\\x98\\x00\\x97\\x00E\\x00D\\x00C\\x00B\\xc0\\x18\\x00\\xa6\\x00l\\x004\\x00\\x9b\\x00F\\xc01\\xc0-\\xc0)\\xc0%\\xc0\\x0e\\xc0\\x04\\x00\\x9c\\x00<\\x00/\\x00\\x96\\x00A\\x00\\x07\\xc0\\x11\\xc0\\x07\\xc0\\x16\\x00\\x18\\xc0\\x0c\\xc0\\x02\\x00\\x05\\x00\\x04\\xc0\\x12\\xc0\\x08\\x00\\x16\\x00\"]\n",
      "Bad pipe message: %s [b'\\x9a-\\xf3a\\x91Pu^\\x0c\\x93', b'\\x99U\\xde?\\x1f\\xb4\\x00\\x00|\\xc0,\\xc00\\x00\\xa3\\x00\\x9f\\xcc\\xa9\\xcc\\xa8\\xcc\\xaa\\xc0\\xaf\\xc0\\xad\\xc0\\xa3\\xc0\\x9f\\xc0]\\xc0a\\xc0W\\xc0S\\xc0+\\xc0/\\x00\\xa2\\x00\\x9e\\xc0\\xae\\xc0\\xac\\xc0\\xa2\\xc0\\x9e\\xc0\\\\\\xc0`\\xc0V\\xc0R']\n",
      "Bad pipe message: %s [b'*\\xe4`\\xaf\\xd1\\xda,i\\xa9\\x861']\n",
      "Bad pipe message: %s [b'\\x0b\\xb4\\xf3\\x96:f\\xbb\\xae\\xbd\\x87\\xc7\\x8a\\xe0:\\xce\\xf2\\xa6o\\x00\\x00\\x86\\xc00\\xc0,\\xc0(\\xc0$\\xc0\\x14\\xc0\\n\\x00\\xa5\\x00\\xa3\\x00\\xa1\\x00\\x9f\\x00k\\x00j\\x00i\\x00']\n",
      "Bad pipe message: %s [b'\\xa0\\xe4\\xf1', b'\\xc7\\xc8Z\\xb30\\xe5\\x11\\xf9\\xb6\\xee\\xcb-<\\x00\\x00\\xa2\\xc0\\x14\\xc0\\n\\x009\\x008\\x007\\x006\\x00\\x88\\x00\\x87\\x00\\x86\\x00\\x85\\xc0\\x19\\x00:\\x00\\x89\\xc0\\x0f\\xc0\\x05\\x005\\x00\\x84\\xc0\\x13\\xc0\\t\\x003\\x002\\x001\\x000\\x00\\x9a\\x00\\x99\\x00\\x98\\x00\\x97\\x00E\\x00D\\x00C\\x00B\\xc0\\x18\\x004\\x00\\x9b\\x00F\\xc0\\x0e\\xc0\\x04\\x00/\\x00\\x96\\x00A\\x00\\x07\\xc0\\x11\\xc0']\n",
      "Bad pipe message: %s [b'\\x0f\\x89\\x99\\xba\\x10\\xe4\\xa3\\xac\\xba\\x12\"\\xc5P\\x9a.-\\xac\\xae\\x00\\x00\\xa2\\xc0\\x14\\xc0\\n\\x009\\x008\\x007\\x006\\x00\\x88\\x00\\x87\\x00\\x86\\x00\\x85\\xc0\\x19\\x00:\\x00\\x89\\xc0\\x0f\\xc0\\x05\\x005\\x00\\x84\\xc0\\x13\\xc0\\t\\x003\\x002\\x001\\x000\\x00\\x9a\\x00\\x99\\x00\\x98\\x00\\x97\\x00E\\x00D\\x00C\\x00B\\xc0\\x18\\x004\\x00\\x9b\\x00F\\xc0\\x0e\\xc0\\x04\\x00/\\x00\\x96\\x00A\\x00\\x07\\xc0\\x11\\xc0\\x07\\xc0\\x16\\x00\\x18\\xc0\\x0c\\xc0\\x02\\x00\\x05\\x00\\x04\\xc0\\x12\\xc0\\x08\\x00\\x16\\x00\\x13\\x00\\x10\\x00\\r\\xc0\\x17\\x00\\x1b\\xc0\\r\\xc0', b'\\n\\x00']\n",
      "Bad pipe message: %s [b'5\\x81^DR\\xbf>\\xe0\\xceH^\\xdb\\xc3{V\\x16\\x88}\\x00\\x00\\xa2\\xc0\\x14\\xc0\\n\\x009\\x008\\x007\\x006\\x00\\x88\\x00\\x87\\x00\\x86\\x00\\x85\\xc0\\x19\\x00:\\x00\\x89\\xc0\\x0f\\xc0\\x05\\x005\\x00\\x84\\xc0\\x13\\xc0\\t\\x003\\x002\\x001\\x000\\x00\\x9a\\x00\\x99\\x00\\x98\\x00\\x97\\x00E\\x00D\\x00C\\x00B\\xc0\\x18\\x004\\x00\\x9b\\x00F\\xc0\\x0e\\xc0\\x04\\x00/\\x00\\x96\\x00A\\x00\\x07\\xc0\\x11\\xc0\\x07\\xc0\\x16\\x00\\x18\\xc0\\x0c\\xc0\\x02\\x00\\x05\\x00\\x04\\xc0\\x12\\xc0\\x08\\x00\\x16\\x00\\x13\\x00\\x10\\x00\\r\\xc0\\x17\\x00\\x1b\\xc0\\r\\xc0\\x03\\x00\\n\\x00\\x15\\x00\\x12\\x00\\x0f\\x00\\x0c\\x00\\x1a\\x00\\t\\x00\\x14\\x00\\x11\\x00\\x19\\x00\\x08\\x00\\x06\\x00\\x17\\x00\\x03\\xc0\\x10\\xc0\\x06\\xc0\\x15\\xc0\\x0b\\xc0\\x01\\x00\\x02\\x00\\x01']\n",
      "Bad pipe message: %s [b'\\x12\\x00\\x0f\\x00\\x0c\\x00\\x1a\\x00\\t\\x00\\x14\\x00\\x11\\x00\\x19\\x00\\x08\\x00\\x06\\x00']\n",
      "Bad pipe message: %s [b'\\x10\\x00\\r\\xc0\\x17\\x00\\x1b\\xc0\\r\\xc0\\x03\\x00\\n\\x00\\x15\\x00\\x12\\x00']\n",
      "Bad pipe message: %s [b'\\x16\\x00\\x18\\xc0\\x0c\\xc0']\n",
      "Bad pipe message: %s [b\"\\xc5\\xf5\\xc6\\xb0\\xf0\\x00\\x00\\xa6\\xc0,\\xc00\\x00\\xa3\\x00\\x9f\\xcc\\xa9\\xcc\\xa8\\xcc\\xaa\\xc0\\xaf\\xc0\\xad\\xc0\\xa3\\xc0\\x9f\\xc0]\\xc0a\\xc0W\\xc0S\\xc0+\\xc0/\\x00\\xa2\\x00\\x9e\\xc0\\xae\\xc0\\xac\\xc0\\xa2\\xc0\\x9e\\xc0\\\\\\xc0`\\xc0V\\xc0R\\xc0$\\xc0(\\x00k\\x00j\\xc0s\\xc0w\\x00\\xc4\\x00\\xc3\\xc0#\\xc0'\\x00g\\x00@\\xc0r\\xc0v\\x00\\xbe\\x00\\xbd\\xc0\\n\\xc0\\x14\\x009\\x008\\x00\\x88\\x00\\x87\\xc0\\t\\xc0\\x13\\x003\\x002\"]\n",
      "Bad pipe message: %s [b\"9\\x008\\x007\\x006\\xc02\\xc0.\\xc0*\\xc0&\\xc0\\x0f\\xc0\\x05\\x00\\x9d\\x00=\\x005\\xc0/\\xc0+\\xc0'\\xc0#\\xc0\\x13\\xc0\\t\\x00\\xa4\\x00\\xa2\\x00\\xa0\\x00\\x9e\\x00g\\x00@\\x00?\\x00>\\x003\\x002\\x001\\x000\\xc01\\xc0-\\xc0)\\xc0%\\xc0\\x0e\\xc0\\x04\\x00\\x9c\\x00<\\x00/\\x00\\x9a\\x00\\x99\\x00\\x98\\x00\\x97\\x00\\x96\\x00\\x07\\xc0\\x11\\xc0\\x07\\xc0\\x0c\\xc0\\x02\\x00\\x05\\x00\\x04\"]\n",
      "Bad pipe message: %s [b'\\x03\\xc0\\x10\\xc0\\x06\\xc0\\x15\\xc0\\x0b\\xc0\\x01\\x00\\x02\\x00\\x01\\x00\\xff\\x02\\x01\\x00\\x15\\x03']\n",
      "Bad pipe message: %s [b'\\x0c\\x00\\x1a\\x00\\t\\x00\\x14\\x00\\x11\\x00\\x19\\x00\\x08\\x00']\n",
      "Bad pipe message: %s [b'\\x05']\n",
      "Bad pipe message: %s [b'\\x17\\x00\\x03\\xc0\\x10']\n"
     ]
    }
   ],
   "source": [
    "df.to_excel('../dados/exemplo_aula-pratica.xlsx', sheet_name='dados', index = False)"
   ]
  }
 ],
 "metadata": {
  "kernelspec": {
   "display_name": "Python 3",
   "language": "python",
   "name": "python3"
  },
  "language_info": {
   "codemirror_mode": {
    "name": "ipython",
    "version": 3
   },
   "file_extension": ".py",
   "mimetype": "text/x-python",
   "name": "python",
   "nbconvert_exporter": "python",
   "pygments_lexer": "ipython3",
   "version": "3.10.4 (main, Dec 19 2022, 20:24:16) [GCC 9.4.0]"
  },
  "vscode": {
   "interpreter": {
    "hash": "3ad933181bd8a04b432d3370b9dc3b0662ad032c4dfaa4e4f1596c548f763858"
   }
  }
 },
 "nbformat": 4,
 "nbformat_minor": 1
}
